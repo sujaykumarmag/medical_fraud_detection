{
 "cells": [
  {
   "cell_type": "markdown",
   "id": "06ddef87",
   "metadata": {},
   "source": [
    "# HEALTH CARE FRAUD DETECTION"
   ]
  },
  {
   "cell_type": "code",
   "execution_count": 126,
   "id": "35a2b244",
   "metadata": {},
   "outputs": [],
   "source": [
    "# Import Pandas\n",
    "import pandas as pd\n",
    "import numpy as np"
   ]
  },
  {
   "cell_type": "markdown",
   "id": "91a3fe2d",
   "metadata": {},
   "source": [
    "## INCLUSION OF DATASETS"
   ]
  },
  {
   "cell_type": "markdown",
   "id": "4e2a6a7b",
   "metadata": {},
   "source": [
    "### MEDICARE PROVIDER UTILIZATION AND PAYMENT DATA"
   ]
  },
  {
   "cell_type": "markdown",
   "id": "40383933",
   "metadata": {},
   "source": [
    "\n",
    "    Note :\n",
    "        # There are 3 Primary Datasets\n",
    "            1. Part_B -> Physician and other supplies data\n",
    "            2. Part_D -> Prescriber Data\n",
    "            3. DMEPOS -> Durable Medical Equipment, Prosthetics, Orthotics and Supplies(DMEPOS)"
   ]
  },
  {
   "cell_type": "markdown",
   "id": "706705ef",
   "metadata": {},
   "source": [
    "### Including \"PART_D\" Dataset"
   ]
  },
  {
   "cell_type": "code",
   "execution_count": 2,
   "id": "eb818eb2",
   "metadata": {},
   "outputs": [],
   "source": [
    "partd = pd.read_csv(\"raw_data/Part-D.csv\",encoding='ISO-8859-1')"
   ]
  },
  {
   "cell_type": "code",
   "execution_count": 3,
   "id": "f274e196",
   "metadata": {},
   "outputs": [
    {
     "data": {
      "text/plain": [
       "(1255175, 85)"
      ]
     },
     "execution_count": 3,
     "metadata": {},
     "output_type": "execute_result"
    }
   ],
   "source": [
    "partd.shape"
   ]
  },
  {
   "cell_type": "code",
   "execution_count": 4,
   "id": "5f1cd870",
   "metadata": {},
   "outputs": [
    {
     "data": {
      "text/plain": [
       "PRSCRBR_NPI                int64\n",
       "Prscrbr_Last_Org_Name     object\n",
       "Prscrbr_First_Name        object\n",
       "Prscrbr_MI                object\n",
       "Prscrbr_Crdntls           object\n",
       "                          ...   \n",
       "Bene_Race_Natind_Cnt     float64\n",
       "Bene_Race_Othr_Cnt       float64\n",
       "Bene_Dual_Cnt            float64\n",
       "Bene_Ndual_Cnt           float64\n",
       "Bene_Avg_Risk_Scre       float64\n",
       "Length: 85, dtype: object"
      ]
     },
     "execution_count": 4,
     "metadata": {},
     "output_type": "execute_result"
    }
   ],
   "source": [
    "partd.dtypes"
   ]
  },
  {
   "cell_type": "markdown",
   "id": "3ced748f",
   "metadata": {},
   "source": [
    "### Including \"PART_B\" Dataset"
   ]
  },
  {
   "cell_type": "code",
   "execution_count": 5,
   "id": "96a66354",
   "metadata": {},
   "outputs": [],
   "source": [
    "partb = pd.read_csv(\"raw_data/Part-B.csv\",encoding = \"ISO-8859-1\",low_memory=False)"
   ]
  },
  {
   "cell_type": "code",
   "execution_count": 6,
   "id": "1b7d2106",
   "metadata": {},
   "outputs": [
    {
     "data": {
      "text/plain": [
       "(1161542, 73)"
      ]
     },
     "execution_count": 6,
     "metadata": {},
     "output_type": "execute_result"
    }
   ],
   "source": [
    "partb.shape"
   ]
  },
  {
   "cell_type": "code",
   "execution_count": 7,
   "id": "aead1ebc",
   "metadata": {},
   "outputs": [],
   "source": [
    "partb[\"Rndrng_NPI\"] = partb[\"ï»¿Rndrng_NPI\"]"
   ]
  },
  {
   "cell_type": "code",
   "execution_count": 8,
   "id": "f3f47000",
   "metadata": {},
   "outputs": [],
   "source": [
    "partb=partb.drop(\"ï»¿Rndrng_NPI\",axis=1)"
   ]
  },
  {
   "cell_type": "code",
   "execution_count": 9,
   "id": "4f1a7a9a",
   "metadata": {},
   "outputs": [
    {
     "data": {
      "text/plain": [
       "Rndrng_Prvdr_Last_Org_Name     object\n",
       "Rndrng_Prvdr_First_Name        object\n",
       "Rndrng_Prvdr_MI                object\n",
       "Rndrng_Prvdr_Crdntls           object\n",
       "Rndrng_Prvdr_Gndr              object\n",
       "                               ...   \n",
       "Bene_CC_RAOA_Pct               object\n",
       "Bene_CC_Sz_Pct                 object\n",
       "Bene_CC_Strok_Pct              object\n",
       "Bene_Avg_Risk_Scre            float64\n",
       "Rndrng_NPI                      int64\n",
       "Length: 73, dtype: object"
      ]
     },
     "execution_count": 9,
     "metadata": {},
     "output_type": "execute_result"
    }
   ],
   "source": [
    "partb.dtypes"
   ]
  },
  {
   "cell_type": "markdown",
   "id": "ca4a6233",
   "metadata": {},
   "source": [
    "### Including \"DMEPOS\" Dataset"
   ]
  },
  {
   "cell_type": "code",
   "execution_count": 10,
   "id": "f21dfd2d",
   "metadata": {},
   "outputs": [],
   "source": [
    "dmepos = pd.read_csv(\"raw_data/DMEPOS.csv\",low_memory=False)"
   ]
  },
  {
   "cell_type": "code",
   "execution_count": 11,
   "id": "e9787735",
   "metadata": {},
   "outputs": [
    {
     "data": {
      "text/plain": [
       "(383488, 89)"
      ]
     },
     "execution_count": 11,
     "metadata": {},
     "output_type": "execute_result"
    }
   ],
   "source": [
    "dmepos.shape"
   ]
  },
  {
   "cell_type": "code",
   "execution_count": 12,
   "id": "9bfda506",
   "metadata": {},
   "outputs": [
    {
     "data": {
      "text/plain": [
       "Rfrg_NPI                      int64\n",
       "Rfrg_Prvdr_Last_Name_Org     object\n",
       "Rfrg_Prvdr_First_Name        object\n",
       "Rfrg_Prvdr_MI                object\n",
       "Rfrg_Prvdr_Crdntls           object\n",
       "                             ...   \n",
       "Bene_CC_Opo_Pct             float64\n",
       "Bene_CC_RAOA_Pct            float64\n",
       "Bene_CC_Sz_Pct              float64\n",
       "Bene_CC_Strok_Pct           float64\n",
       "Bene_Avg_Risk_Scre          float64\n",
       "Length: 89, dtype: object"
      ]
     },
     "execution_count": 12,
     "metadata": {},
     "output_type": "execute_result"
    }
   ],
   "source": [
    "dmepos.dtypes"
   ]
  },
  {
   "cell_type": "markdown",
   "id": "ebfe0865",
   "metadata": {},
   "source": [
    "### Including \"LEIE_EXCLUSIONS\" Dataset"
   ]
  },
  {
   "cell_type": "code",
   "execution_count": 13,
   "id": "f9fbb185",
   "metadata": {},
   "outputs": [],
   "source": [
    "leie_ex = pd.read_csv(\"raw_data/LEIE_Exclusion.csv\",low_memory=False)"
   ]
  },
  {
   "cell_type": "code",
   "execution_count": 14,
   "id": "398fb8e9",
   "metadata": {},
   "outputs": [
    {
     "data": {
      "text/plain": [
       "(76546, 18)"
      ]
     },
     "execution_count": 14,
     "metadata": {},
     "output_type": "execute_result"
    }
   ],
   "source": [
    "leie_ex.shape"
   ]
  },
  {
   "cell_type": "code",
   "execution_count": 15,
   "id": "cccf15de",
   "metadata": {},
   "outputs": [
    {
     "data": {
      "text/plain": [
       "LASTNAME       object\n",
       "FIRSTNAME      object\n",
       "MIDNAME        object\n",
       "BUSNAME        object\n",
       "GENERAL        object\n",
       "SPECIALTY      object\n",
       "UPIN           object\n",
       "NPI             int64\n",
       "DOB           float64\n",
       "ADDRESS        object\n",
       "CITY           object\n",
       "STATE          object\n",
       "ZIP             int64\n",
       "EXCLTYPE       object\n",
       "EXCLDATE        int64\n",
       "REINDATE        int64\n",
       "WAIVERDATE      int64\n",
       "WVRSTATE       object\n",
       "dtype: object"
      ]
     },
     "execution_count": 15,
     "metadata": {},
     "output_type": "execute_result"
    }
   ],
   "source": [
    "leie_ex.dtypes"
   ]
  },
  {
   "cell_type": "code",
   "execution_count": 16,
   "id": "d1f4e067",
   "metadata": {},
   "outputs": [],
   "source": [
    "### Cutting all the datasets into small pieces for fast"
   ]
  },
  {
   "cell_type": "code",
   "execution_count": 17,
   "id": "55ad3935",
   "metadata": {},
   "outputs": [],
   "source": [
    "partb = partb.sample(frac=0.01,random_state=1) # (11615, 73)\n",
    "partd = partd.sample(frac=0.01,random_state=1) # (12552, 85)\n",
    "dmepos = dmepos.sample(frac=0.01,random_state=1) # (3835, 89)"
   ]
  },
  {
   "cell_type": "code",
   "execution_count": 18,
   "id": "bb1b454b",
   "metadata": {},
   "outputs": [
    {
     "data": {
      "text/plain": [
       "Index(['Rndrng_Prvdr_Last_Org_Name', 'Rndrng_Prvdr_First_Name',\n",
       "       'Rndrng_Prvdr_MI', 'Rndrng_Prvdr_Crdntls', 'Rndrng_Prvdr_Gndr',\n",
       "       'Rndrng_Prvdr_Ent_Cd', 'Rndrng_Prvdr_St1', 'Rndrng_Prvdr_St2',\n",
       "       'Rndrng_Prvdr_City', 'Rndrng_Prvdr_State_Abrvtn',\n",
       "       'Rndrng_Prvdr_State_FIPS', 'Rndrng_Prvdr_Zip5', 'Rndrng_Prvdr_RUCA',\n",
       "       'Rndrng_Prvdr_RUCA_Desc', 'Rndrng_Prvdr_Cntry', 'Rndrng_Prvdr_Type',\n",
       "       'Rndrng_Prvdr_Mdcr_Prtcptg_Ind', 'Tot_HCPCS_Cds', 'Tot_Benes',\n",
       "       'Tot_Srvcs', 'Tot_Sbmtd_Chrg', 'Tot_Mdcr_Alowd_Amt',\n",
       "       'Tot_Mdcr_Pymt_Amt', 'Tot_Mdcr_Stdzd_Amt', 'Drug_Sprsn_Ind',\n",
       "       'Drug_Tot_HCPCS_Cds', 'Drug_Tot_Benes', 'Drug_Tot_Srvcs',\n",
       "       'Drug_Sbmtd_Chrg', 'Drug_Mdcr_Alowd_Amt', 'Drug_Mdcr_Pymt_Amt',\n",
       "       'Drug_Mdcr_Stdzd_Amt', 'Med_Sprsn_Ind', 'Med_Tot_HCPCS_Cds',\n",
       "       'Med_Tot_Benes', 'Med_Tot_Srvcs', 'Med_Sbmtd_Chrg',\n",
       "       'Med_Mdcr_Alowd_Amt', 'Med_Mdcr_Pymt_Amt', 'Med_Mdcr_Stdzd_Amt',\n",
       "       'Bene_Avg_Age', 'Bene_Age_LT_65_Cnt', 'Bene_Age_65_74_Cnt',\n",
       "       'Bene_Age_75_84_Cnt', 'Bene_Age_GT_84_Cnt', 'Bene_Feml_Cnt',\n",
       "       'Bene_Male_Cnt', 'Bene_Race_Wht_Cnt', 'Bene_Race_Black_Cnt',\n",
       "       'Bene_Race_API_Cnt', 'Bene_Race_Hspnc_Cnt', 'Bene_Race_NatInd_Cnt',\n",
       "       'Bene_Race_Othr_Cnt', 'Bene_Dual_Cnt', 'Bene_Ndual_Cnt',\n",
       "       'Bene_CC_AF_Pct', 'Bene_CC_Alzhmr_Pct', 'Bene_CC_Asthma_Pct',\n",
       "       'Bene_CC_Cncr_Pct', 'Bene_CC_CHF_Pct', 'Bene_CC_CKD_Pct',\n",
       "       'Bene_CC_COPD_Pct', 'Bene_CC_Dprssn_Pct', 'Bene_CC_Dbts_Pct',\n",
       "       'Bene_CC_Hyplpdma_Pct', 'Bene_CC_Hyprtnsn_Pct', 'Bene_CC_IHD_Pct',\n",
       "       'Bene_CC_Opo_Pct', 'Bene_CC_RAOA_Pct', 'Bene_CC_Sz_Pct',\n",
       "       'Bene_CC_Strok_Pct', 'Bene_Avg_Risk_Scre', 'Rndrng_NPI'],\n",
       "      dtype='object')"
      ]
     },
     "execution_count": 18,
     "metadata": {},
     "output_type": "execute_result"
    }
   ],
   "source": [
    "partb.columns"
   ]
  },
  {
   "cell_type": "code",
   "execution_count": 19,
   "id": "af03cabf",
   "metadata": {},
   "outputs": [],
   "source": [
    "port = partb"
   ]
  },
  {
   "cell_type": "code",
   "execution_count": 20,
   "id": "767ed4a4",
   "metadata": {},
   "outputs": [
    {
     "data": {
      "text/plain": [
       "M    888\n",
       "A    863\n",
       "J    680\n",
       "L    654\n",
       "R    491\n",
       "E    439\n",
       "S    432\n",
       "D    413\n",
       "C    373\n",
       "B    313\n",
       "K    274\n",
       "P    244\n",
       "W    236\n",
       "G    213\n",
       "T    212\n",
       "H    200\n",
       "N    187\n",
       "F    160\n",
       "V    106\n",
       "I     53\n",
       "O     39\n",
       "Y     35\n",
       "Z     22\n",
       "U     12\n",
       "Q     11\n",
       "X      7\n",
       "-      1\n",
       "Name: Rndrng_Prvdr_MI, dtype: int64"
      ]
     },
     "execution_count": 20,
     "metadata": {},
     "output_type": "execute_result"
    }
   ],
   "source": [
    "port[\"Rndrng_Prvdr_MI\"].value_counts()"
   ]
  },
  {
   "cell_type": "markdown",
   "id": "25195e3c",
   "metadata": {},
   "source": [
    "### PART-B Dataset Attributes"
   ]
  },
  {
   "cell_type": "markdown",
   "id": "d6db3ae1",
   "metadata": {},
   "source": [
    "    Note :\n",
    "        1. Rndrng_Prvdr_Last_Org_Name - Organization's last name\n",
    "        2. Rndrng_Prvdr_First_Name - Providers First name\n",
    "        3. Rndrng_Prvdr_MI - Providers Middle name (a.k.a )\n",
    "        4. Rndrng_Prvdr_Crdntls - Credentials of the Provider\n",
    "        5. Rndrng_Prvdr_Gndr - Gender of the Provider\n",
    "        6. Rndrng_Prvdr_Ent_Cd -  as an individual or an Organization\n",
    "        \n",
    "        \n",
    "        \n",
    "        7. Rndrng_Prvdr_State_FIPS - To indicate which state does this lies on in a integer representation\n",
    "\n",
    "https://www.bls.gov/respondents/mwr/electronic-data-interchange/appendix-d-usps-state-abbreviations-and-fips-codes.html\n",
    "\n",
    "        8. Rndrng_Prvdr_St1 - Street Address 1\n",
    "        9. Rndrng_Prvdr_St2 - Street Address 2\n",
    "        10. Rndrng_Prvdr_City - City\n",
    "        11. Rndrng_Prvdr_State_Abrvtn - State\n",
    "        12. Rndrng_Prvdr_Zip5 - Zip Code \n",
    "        13. Rndrng_Prvdr_RUCA - Rural Urban Communicating Area Codes\n",
    "\n",
    "https://depts.washington.edu/uwruca/ruca-uses.php\n",
    "\n",
    "        14. Rndrng_Prvdr_RUCA_Desc - Description of RUCA\n",
    "        15. Rndrng_Prvdr_Cntry - The Provider Country (only US not balanced)\n",
    "        \n",
    "        \n",
    "        \n",
    "        16. Rndrng_Prvdr_Type - The Provider Type\n",
    "        17. Rndrng_Prvdr_Mdcr_Prtcptg_Ind - The Provider Participation Indicator\n",
    "        \n",
    "        \n",
    "        \n",
    "        18. Tot_HCPCS_Cds - Total HCPCS Codes for a particular provider\n",
    "        19. Tot_Benes - Total number of Beneficiaries provided by the Providers\n",
    "        20. Tot_Srvcs - TOtal number of Services provided by the Provider\n",
    "        21. Tot_Sbmtd_Chrg - Total Submitted Charges by the Provider\n",
    "        22. Tot_Mdcr_Alowd_Amt - Total ammount allowed by the medicare\n",
    "        23. Tot_Mdcr_Pymt_Amt - Ammount After deducting the insurance etc...\n",
    "        24. Tot_Mdcr_Stdzd_Amt - The ammount for which the patient paid\n",
    "        \n",
    "        \n",
    "        \n",
    "        25. Drug_Sprsn_Ind - Supression Indicator (* -> supressed #-> Counter Suppressed)\n",
    "        26. Drug_Tot_HCPCS_Cds - Total no of HCPCS codes for a drug\n",
    "        27. Drug_Tot_Benes - Total medical beneficiaries with drug\n",
    "        28. Drug_Sbmtd_Chrg - The total charges submitted for drug services\n",
    "        29. Drug_Mdcr_Alowd_Amt - \n",
    "        30. Drug_Mdcr_Pymt_Amt\n",
    "        31. Drug_Mdcr_Stdzd_Amt\n",
    "        \n",
    "        32. Med_Sprsn_Ind\n",
    "        33. Med_Tot_HCPCS_Cds - No of HCPCS codes applied for the drug\n",
    "        34. Med_Tot_Benes - Total Beneficiaries provided by the provider\n",
    "        35. Med_Sbmtd_Chrg\n",
    "        36. Med_Mdcr_Alowd_Amt\n",
    "        37. Med_Mdcr_Pymt_Amt\n",
    "        38. Med_Mdcr_Stdzd_Amt\n",
    "        \n",
    "        # BENEFICIARIES\n",
    "\n",
    "        39. Bene_Dual_Cnt - No of medicaid beneficiaries qualified to receive medicare"
   ]
  },
  {
   "cell_type": "markdown",
   "id": "010704ea",
   "metadata": {},
   "source": [
    "### DATA PRE_PROCESSING"
   ]
  },
  {
   "cell_type": "markdown",
   "id": "1483656c",
   "metadata": {},
   "source": [
    "### Take away all the NaN values"
   ]
  },
  {
   "cell_type": "code",
   "execution_count": 21,
   "id": "80cf2c98",
   "metadata": {},
   "outputs": [],
   "source": [
    "# port[\"Rndrng_Prvdr_Gndr\"].dropna(axis=0).value_counts()"
   ]
  },
  {
   "cell_type": "markdown",
   "id": "3bcada35",
   "metadata": {},
   "source": [
    "## Gender Pre-Processing"
   ]
  },
  {
   "cell_type": "code",
   "execution_count": 22,
   "id": "f3314ab0",
   "metadata": {},
   "outputs": [],
   "source": [
    "port[\"Rndrng_Prvdr_Gndr\"] = port[\"Rndrng_Prvdr_Gndr\"].apply(lambda row : 1 if row == \"F\" else 0)"
   ]
  },
  {
   "cell_type": "code",
   "execution_count": 23,
   "id": "7a269c2b",
   "metadata": {},
   "outputs": [
    {
     "data": {
      "text/plain": [
       "0    6481\n",
       "1    5134\n",
       "Name: Rndrng_Prvdr_Gndr, dtype: int64"
      ]
     },
     "execution_count": 23,
     "metadata": {},
     "output_type": "execute_result"
    }
   ],
   "source": [
    "port[\"Rndrng_Prvdr_Gndr\"].value_counts()"
   ]
  },
  {
   "cell_type": "markdown",
   "id": "898ac675",
   "metadata": {},
   "source": [
    "## Provider_Type Pre-Processing"
   ]
  },
  {
   "cell_type": "code",
   "execution_count": 24,
   "id": "88169f09",
   "metadata": {},
   "outputs": [],
   "source": [
    "port=port.dropna(subset=[\"Rndrng_Prvdr_Type\"],axis=0)"
   ]
  },
  {
   "cell_type": "code",
   "execution_count": 25,
   "id": "67bbb0c7",
   "metadata": {},
   "outputs": [
    {
     "data": {
      "text/plain": [
       "0"
      ]
     },
     "execution_count": 25,
     "metadata": {},
     "output_type": "execute_result"
    }
   ],
   "source": [
    "port[\"Rndrng_Prvdr_Type\"].isnull().sum()"
   ]
  },
  {
   "cell_type": "markdown",
   "id": "f92b5ce8",
   "metadata": {},
   "source": [
    "## Benficiary ID's Pre-Processing"
   ]
  },
  {
   "cell_type": "code",
   "execution_count": 26,
   "id": "04fa66ee",
   "metadata": {},
   "outputs": [],
   "source": [
    "port[\"Bene_Dual_Cnt\"]= port[\"Bene_Dual_Cnt\"].apply(lambda item : \"NaN\" if item==\"NaN\"else item)"
   ]
  },
  {
   "cell_type": "code",
   "execution_count": 27,
   "id": "68cf8819",
   "metadata": {},
   "outputs": [],
   "source": [
    "port = port.dropna(subset=[\"Bene_Dual_Cnt\"],axis=0)"
   ]
  },
  {
   "cell_type": "code",
   "execution_count": 28,
   "id": "cff4d696",
   "metadata": {},
   "outputs": [
    {
     "data": {
      "text/plain": [
       "0"
      ]
     },
     "execution_count": 28,
     "metadata": {},
     "output_type": "execute_result"
    }
   ],
   "source": [
    "port[\"Bene_Dual_Cnt\"].isnull().sum()"
   ]
  },
  {
   "cell_type": "markdown",
   "id": "9dd3eb8c",
   "metadata": {},
   "source": [
    "## Services Pre-Processing"
   ]
  },
  {
   "cell_type": "code",
   "execution_count": 29,
   "id": "e6a1546d",
   "metadata": {},
   "outputs": [],
   "source": [
    "port = port.dropna(subset=[\"Tot_Srvcs\"],axis=0)"
   ]
  },
  {
   "cell_type": "code",
   "execution_count": 30,
   "id": "3ddf4797",
   "metadata": {},
   "outputs": [
    {
     "data": {
      "text/plain": [
       "0"
      ]
     },
     "execution_count": 30,
     "metadata": {},
     "output_type": "execute_result"
    }
   ],
   "source": [
    "port[\"Tot_Srvcs\"].isnull().sum()"
   ]
  },
  {
   "cell_type": "markdown",
   "id": "9d3a8089",
   "metadata": {},
   "source": [
    "## Ammount Pre-Processing"
   ]
  },
  {
   "cell_type": "code",
   "execution_count": 31,
   "id": "54b527f7",
   "metadata": {},
   "outputs": [],
   "source": [
    "x=\"ghb\"\n",
    "x.find(\"$\")\n",
    "port=partb"
   ]
  },
  {
   "cell_type": "code",
   "execution_count": 32,
   "id": "6c520948",
   "metadata": {},
   "outputs": [
    {
     "data": {
      "text/plain": [
       "565335     $66,184.43\n",
       "739226     $20,667.89\n",
       "579293     $27,181.41\n",
       "914854     $48,821.24\n",
       "1119575    $39,540.45\n",
       "              ...    \n",
       "803181     $16,155.03\n",
       "607656     $40,012.43\n",
       "156761      $6,818.78\n",
       "816944     $18,244.73\n",
       "843509      $1,061.34\n",
       "Name: Tot_Mdcr_Stdzd_Amt, Length: 11615, dtype: object"
      ]
     },
     "execution_count": 32,
     "metadata": {},
     "output_type": "execute_result"
    }
   ],
   "source": [
    "#port[\"Tot_Mdcr_Stdzd_Amt\"].apply(lambda row : \"NaN\" if row.find(\"$\")==-1 else row)\n",
    "port[\"Tot_Mdcr_Stdzd_Amt\"]"
   ]
  },
  {
   "cell_type": "code",
   "execution_count": 33,
   "id": "e716e928",
   "metadata": {},
   "outputs": [],
   "source": [
    "port[\"Tot_Mdcr_Stdzd_Amt\"].size\n",
    "port[\"Tot_Mdcr_Stdzd_Amt\"] = port[\"Tot_Mdcr_Stdzd_Amt\"].apply(lambda row: row if row!=\"975.0$975.02\" else \"NaN\")\n",
    "x = port.loc[port[\"Tot_Mdcr_Stdzd_Amt\"].str.startswith(\"$975\")].index\n",
    "port = port.drop([918690])"
   ]
  },
  {
   "cell_type": "code",
   "execution_count": 34,
   "id": "def03556",
   "metadata": {},
   "outputs": [
    {
     "data": {
      "text/plain": [
       "884524     $146,540.61\n",
       "24211      $146,911.76\n",
       "1130844    $146,427.14\n",
       "1130163    $146,196.58\n",
       "156855     $146,327.76\n",
       "1114006    $146,062.18\n",
       "903543     $146,540.29\n",
       "708790     $146,914.00\n",
       "704752     $146,595.87\n",
       "575765     $146,348.43\n",
       "592945     $146,995.70\n",
       "746152     $146,959.47\n",
       "163739     $146,775.78\n",
       "1018518    $146,558.99\n",
       "Name: Tot_Mdcr_Stdzd_Amt, dtype: object"
      ]
     },
     "execution_count": 34,
     "metadata": {},
     "output_type": "execute_result"
    }
   ],
   "source": [
    "port[port[\"Tot_Mdcr_Stdzd_Amt\"].str.startswith(\"$146\")][\"Tot_Mdcr_Stdzd_Amt\"]"
   ]
  },
  {
   "cell_type": "code",
   "execution_count": 35,
   "id": "82d90b37",
   "metadata": {},
   "outputs": [],
   "source": [
    "port[\"Tot_Mdcr_Stdzd_Amt\"] = port[\"Tot_Mdcr_Stdzd_Amt\"].apply(lambda row: float(row.replace(\"$\",\"\").replace(\",\",\"\")) if row[0:1]==\"$\" else \"NaN\")"
   ]
  },
  {
   "cell_type": "code",
   "execution_count": 36,
   "id": "9408ac6b",
   "metadata": {},
   "outputs": [],
   "source": [
    "port = port.dropna(subset=[\"Tot_Mdcr_Stdzd_Amt\"],axis=0)"
   ]
  },
  {
   "cell_type": "code",
   "execution_count": 37,
   "id": "92b95ea2",
   "metadata": {},
   "outputs": [
    {
     "data": {
      "text/plain": [
       "0"
      ]
     },
     "execution_count": 37,
     "metadata": {},
     "output_type": "execute_result"
    }
   ],
   "source": [
    "port[\"Tot_Mdcr_Stdzd_Amt\"].isnull().sum()"
   ]
  },
  {
   "cell_type": "markdown",
   "id": "64c8edd5",
   "metadata": {},
   "source": [
    "### NPI Pre-Processing"
   ]
  },
  {
   "cell_type": "code",
   "execution_count": 38,
   "id": "73dd0f52",
   "metadata": {},
   "outputs": [],
   "source": [
    "port = port.dropna(subset=[\"Rndrng_NPI\"],axis=0)"
   ]
  },
  {
   "cell_type": "code",
   "execution_count": 39,
   "id": "a8c6ce47",
   "metadata": {},
   "outputs": [
    {
     "data": {
      "text/plain": [
       "0"
      ]
     },
     "execution_count": 39,
     "metadata": {},
     "output_type": "execute_result"
    }
   ],
   "source": [
    "port[\"Rndrng_NPI\"].isnull().sum()"
   ]
  },
  {
   "cell_type": "code",
   "execution_count": 40,
   "id": "c67b2bc0",
   "metadata": {},
   "outputs": [],
   "source": [
    "part = port[[\"Rndrng_NPI\",\"Rndrng_Prvdr_Type\",\"Tot_Mdcr_Stdzd_Amt\",\"Tot_Srvcs\",\"Bene_Dual_Cnt\",\"Rndrng_Prvdr_Gndr\"]]"
   ]
  },
  {
   "cell_type": "code",
   "execution_count": 41,
   "id": "84744d55",
   "metadata": {},
   "outputs": [
    {
     "name": "stderr",
     "output_type": "stream",
     "text": [
      "/var/folders/l1/rp1rrpyx24d84x0k_6p7pwgw0000gn/T/ipykernel_94088/112612399.py:2: SettingWithCopyWarning: \n",
      "A value is trying to be set on a copy of a slice from a DataFrame.\n",
      "Try using .loc[row_indexer,col_indexer] = value instead\n",
      "\n",
      "See the caveats in the documentation: https://pandas.pydata.org/pandas-docs/stable/user_guide/indexing.html#returning-a-view-versus-a-copy\n",
      "  part[\"Bene_Dual_Cnt\"]= part[\"Bene_Dual_Cnt\"].apply(lambda item : \"NaN\" if item==\"NaN\"else item)\n"
     ]
    },
    {
     "data": {
      "text/plain": [
       "565335     170\n",
       "739226      61\n",
       "1119575     86\n",
       "730182      96\n",
       "1028876     14\n",
       "          ... \n",
       "170008      91\n",
       "141580      21\n",
       "1155767     83\n",
       "803181      39\n",
       "816944      31\n",
       "Name: Bene_Dual_Cnt, Length: 8212, dtype: int64"
      ]
     },
     "execution_count": 41,
     "metadata": {},
     "output_type": "execute_result"
    }
   ],
   "source": [
    "# Bene_Dual_Cnt\n",
    "part[\"Bene_Dual_Cnt\"]= part[\"Bene_Dual_Cnt\"].apply(lambda item : \"NaN\" if item==\"NaN\"else item)\n",
    "part = part.dropna(subset=[\"Bene_Dual_Cnt\"],axis=0)\n",
    "part[\"Bene_Dual_Cnt\"]=part[\"Bene_Dual_Cnt\"].apply(lambda item : float(item.replace(\",\",\"\")) if item.find(\",\")!=-1 else item)\n",
    "part[\"Bene_Dual_Cnt\"].astype(int)"
   ]
  },
  {
   "cell_type": "code",
   "execution_count": 42,
   "id": "b13032b5",
   "metadata": {},
   "outputs": [
    {
     "data": {
      "text/plain": [
       "565335     1550.0\n",
       "739226      334.0\n",
       "1119575     829.0\n",
       "730182      920.0\n",
       "1028876     165.0\n",
       "            ...  \n",
       "170008      271.0\n",
       "141580     1357.0\n",
       "1155767     375.0\n",
       "803181      198.0\n",
       "816944      383.0\n",
       "Name: Tot_Srvcs, Length: 8212, dtype: float64"
      ]
     },
     "execution_count": 42,
     "metadata": {},
     "output_type": "execute_result"
    }
   ],
   "source": [
    "# Total Services\n",
    "part[\"Tot_Srvcs\"] = part[\"Tot_Srvcs\"].apply(lambda item : float(item.replace(\",\",\"\")) if item.find(\",\")!=-1 else item)\n",
    "part[\"Tot_Srvcs\"].astype(float)"
   ]
  },
  {
   "cell_type": "code",
   "execution_count": 43,
   "id": "a609bbbb",
   "metadata": {},
   "outputs": [
    {
     "data": {
      "text/plain": [
       "565335     1550.0\n",
       "739226      334.0\n",
       "1119575     829.0\n",
       "730182      920.0\n",
       "1028876     165.0\n",
       "            ...  \n",
       "170008      271.0\n",
       "141580     1357.0\n",
       "1155767     375.0\n",
       "803181      198.0\n",
       "816944      383.0\n",
       "Name: Tot_Srvcs, Length: 8212, dtype: float64"
      ]
     },
     "execution_count": 43,
     "metadata": {},
     "output_type": "execute_result"
    }
   ],
   "source": [
    "part[\"Tot_Srvcs\"].astype(float)"
   ]
  },
  {
   "cell_type": "code",
   "execution_count": 44,
   "id": "2e4decbf",
   "metadata": {},
   "outputs": [],
   "source": [
    "part = part.drop(\"Rndrng_Prvdr_Type\",axis=1)"
   ]
  },
  {
   "cell_type": "code",
   "execution_count": 45,
   "id": "d35dd1ea",
   "metadata": {},
   "outputs": [
    {
     "data": {
      "text/html": [
       "<div>\n",
       "<style scoped>\n",
       "    .dataframe tbody tr th:only-of-type {\n",
       "        vertical-align: middle;\n",
       "    }\n",
       "\n",
       "    .dataframe tbody tr th {\n",
       "        vertical-align: top;\n",
       "    }\n",
       "\n",
       "    .dataframe thead th {\n",
       "        text-align: right;\n",
       "    }\n",
       "</style>\n",
       "<table border=\"1\" class=\"dataframe\">\n",
       "  <thead>\n",
       "    <tr style=\"text-align: right;\">\n",
       "      <th></th>\n",
       "      <th>Rndrng_NPI</th>\n",
       "      <th>Tot_Mdcr_Stdzd_Amt</th>\n",
       "      <th>Tot_Srvcs</th>\n",
       "      <th>Bene_Dual_Cnt</th>\n",
       "      <th>Rndrng_Prvdr_Gndr</th>\n",
       "    </tr>\n",
       "  </thead>\n",
       "  <tbody>\n",
       "    <tr>\n",
       "      <th>565335</th>\n",
       "      <td>1487748836</td>\n",
       "      <td>66184.43</td>\n",
       "      <td>1550.0</td>\n",
       "      <td>170</td>\n",
       "      <td>0</td>\n",
       "    </tr>\n",
       "    <tr>\n",
       "      <th>739226</th>\n",
       "      <td>1639391121</td>\n",
       "      <td>20667.89</td>\n",
       "      <td>334</td>\n",
       "      <td>61</td>\n",
       "      <td>0</td>\n",
       "    </tr>\n",
       "    <tr>\n",
       "      <th>1119575</th>\n",
       "      <td>1962524355</td>\n",
       "      <td>39540.45</td>\n",
       "      <td>829</td>\n",
       "      <td>86</td>\n",
       "      <td>0</td>\n",
       "    </tr>\n",
       "    <tr>\n",
       "      <th>730182</th>\n",
       "      <td>1629465901</td>\n",
       "      <td>77566.99</td>\n",
       "      <td>920</td>\n",
       "      <td>96</td>\n",
       "      <td>0</td>\n",
       "    </tr>\n",
       "    <tr>\n",
       "      <th>1028876</th>\n",
       "      <td>1881705242</td>\n",
       "      <td>24614.50</td>\n",
       "      <td>165</td>\n",
       "      <td>14</td>\n",
       "      <td>0</td>\n",
       "    </tr>\n",
       "    <tr>\n",
       "      <th>...</th>\n",
       "      <td>...</td>\n",
       "      <td>...</td>\n",
       "      <td>...</td>\n",
       "      <td>...</td>\n",
       "      <td>...</td>\n",
       "    </tr>\n",
       "    <tr>\n",
       "      <th>170008</th>\n",
       "      <td>1144520925</td>\n",
       "      <td>22144.52</td>\n",
       "      <td>271</td>\n",
       "      <td>91</td>\n",
       "      <td>1</td>\n",
       "    </tr>\n",
       "    <tr>\n",
       "      <th>141580</th>\n",
       "      <td>1124058938</td>\n",
       "      <td>52171.83</td>\n",
       "      <td>1357.0</td>\n",
       "      <td>21</td>\n",
       "      <td>0</td>\n",
       "    </tr>\n",
       "    <tr>\n",
       "      <th>1155767</th>\n",
       "      <td>1992741656</td>\n",
       "      <td>47135.14</td>\n",
       "      <td>375</td>\n",
       "      <td>83</td>\n",
       "      <td>1</td>\n",
       "    </tr>\n",
       "    <tr>\n",
       "      <th>803181</th>\n",
       "      <td>1699082552</td>\n",
       "      <td>16155.03</td>\n",
       "      <td>198</td>\n",
       "      <td>39</td>\n",
       "      <td>1</td>\n",
       "    </tr>\n",
       "    <tr>\n",
       "      <th>816944</th>\n",
       "      <td>1700239175</td>\n",
       "      <td>18244.73</td>\n",
       "      <td>383</td>\n",
       "      <td>31</td>\n",
       "      <td>1</td>\n",
       "    </tr>\n",
       "  </tbody>\n",
       "</table>\n",
       "<p>8212 rows × 5 columns</p>\n",
       "</div>"
      ],
      "text/plain": [
       "         Rndrng_NPI  Tot_Mdcr_Stdzd_Amt Tot_Srvcs Bene_Dual_Cnt  \\\n",
       "565335   1487748836            66184.43    1550.0           170   \n",
       "739226   1639391121            20667.89       334            61   \n",
       "1119575  1962524355            39540.45       829            86   \n",
       "730182   1629465901            77566.99       920            96   \n",
       "1028876  1881705242            24614.50       165            14   \n",
       "...             ...                 ...       ...           ...   \n",
       "170008   1144520925            22144.52       271            91   \n",
       "141580   1124058938            52171.83    1357.0            21   \n",
       "1155767  1992741656            47135.14       375            83   \n",
       "803181   1699082552            16155.03       198            39   \n",
       "816944   1700239175            18244.73       383            31   \n",
       "\n",
       "         Rndrng_Prvdr_Gndr  \n",
       "565335                   0  \n",
       "739226                   0  \n",
       "1119575                  0  \n",
       "730182                   0  \n",
       "1028876                  0  \n",
       "...                    ...  \n",
       "170008                   1  \n",
       "141580                   0  \n",
       "1155767                  1  \n",
       "803181                   1  \n",
       "816944                   1  \n",
       "\n",
       "[8212 rows x 5 columns]"
      ]
     },
     "execution_count": 45,
     "metadata": {},
     "output_type": "execute_result"
    }
   ],
   "source": [
    "part"
   ]
  },
  {
   "cell_type": "markdown",
   "id": "15050173",
   "metadata": {},
   "source": [
    "## EXCLUSIONS ATTRIBUTE"
   ]
  },
  {
   "cell_type": "code",
   "execution_count": null,
   "id": "d37d5a5f",
   "metadata": {},
   "outputs": [],
   "source": []
  },
  {
   "cell_type": "code",
   "execution_count": null,
   "id": "bbf7c248",
   "metadata": {},
   "outputs": [],
   "source": []
  },
  {
   "cell_type": "code",
   "execution_count": null,
   "id": "71ab39d9",
   "metadata": {},
   "outputs": [],
   "source": []
  },
  {
   "cell_type": "code",
   "execution_count": null,
   "id": "52aab707",
   "metadata": {},
   "outputs": [],
   "source": []
  },
  {
   "cell_type": "code",
   "execution_count": null,
   "id": "b60ec534",
   "metadata": {},
   "outputs": [],
   "source": []
  },
  {
   "cell_type": "code",
   "execution_count": null,
   "id": "30f11638",
   "metadata": {},
   "outputs": [],
   "source": []
  },
  {
   "cell_type": "code",
   "execution_count": null,
   "id": "aa4d2298",
   "metadata": {},
   "outputs": [],
   "source": []
  },
  {
   "cell_type": "code",
   "execution_count": null,
   "id": "9b81234a",
   "metadata": {},
   "outputs": [],
   "source": []
  },
  {
   "cell_type": "code",
   "execution_count": 46,
   "id": "8db283c1",
   "metadata": {},
   "outputs": [],
   "source": [
    "leie_ex[\"NPI\"] = leie_ex[\"NPI\"].apply(lambda row :  row if row!=0 else 0)"
   ]
  },
  {
   "cell_type": "code",
   "execution_count": 47,
   "id": "14a651fb",
   "metadata": {},
   "outputs": [],
   "source": [
    "exc = leie_ex[leie_ex[\"NPI\"]!=0][\"NPI\"]"
   ]
  },
  {
   "cell_type": "markdown",
   "id": "823667cb",
   "metadata": {},
   "source": [
    "### Adding the Exclusion Attribute in the PART-B"
   ]
  },
  {
   "cell_type": "code",
   "execution_count": 48,
   "id": "a3c18696",
   "metadata": {},
   "outputs": [
    {
     "data": {
      "text/plain": [
       "565335     Schoenkerman\n",
       "739226             Bhat\n",
       "579293          Goodwin\n",
       "914854            Bello\n",
       "1119575           Werle\n",
       "               ...     \n",
       "803181            Reese\n",
       "607656          Gersava\n",
       "156761       Farnsworth\n",
       "816944           Lorenz\n",
       "843509          Mckenna\n",
       "Name: Rndrng_Prvdr_Last_Org_Name, Length: 11615, dtype: object"
      ]
     },
     "execution_count": 48,
     "metadata": {},
     "output_type": "execute_result"
    }
   ],
   "source": [
    "partb[\"Rndrng_Prvdr_Last_Org_Name\"]"
   ]
  },
  {
   "cell_type": "code",
   "execution_count": 49,
   "id": "b1459d76",
   "metadata": {},
   "outputs": [
    {
     "data": {
      "text/html": [
       "<div>\n",
       "<style scoped>\n",
       "    .dataframe tbody tr th:only-of-type {\n",
       "        vertical-align: middle;\n",
       "    }\n",
       "\n",
       "    .dataframe tbody tr th {\n",
       "        vertical-align: top;\n",
       "    }\n",
       "\n",
       "    .dataframe thead th {\n",
       "        text-align: right;\n",
       "    }\n",
       "</style>\n",
       "<table border=\"1\" class=\"dataframe\">\n",
       "  <thead>\n",
       "    <tr style=\"text-align: right;\">\n",
       "      <th></th>\n",
       "      <th>Rndrng_NPI</th>\n",
       "      <th>Tot_Mdcr_Stdzd_Amt</th>\n",
       "      <th>Tot_Srvcs</th>\n",
       "      <th>Bene_Dual_Cnt</th>\n",
       "      <th>Rndrng_Prvdr_Gndr</th>\n",
       "    </tr>\n",
       "  </thead>\n",
       "  <tbody>\n",
       "    <tr>\n",
       "      <th>565335</th>\n",
       "      <td>1487748836</td>\n",
       "      <td>66184.43</td>\n",
       "      <td>1550.0</td>\n",
       "      <td>170</td>\n",
       "      <td>0</td>\n",
       "    </tr>\n",
       "    <tr>\n",
       "      <th>739226</th>\n",
       "      <td>1639391121</td>\n",
       "      <td>20667.89</td>\n",
       "      <td>334</td>\n",
       "      <td>61</td>\n",
       "      <td>0</td>\n",
       "    </tr>\n",
       "    <tr>\n",
       "      <th>1119575</th>\n",
       "      <td>1962524355</td>\n",
       "      <td>39540.45</td>\n",
       "      <td>829</td>\n",
       "      <td>86</td>\n",
       "      <td>0</td>\n",
       "    </tr>\n",
       "    <tr>\n",
       "      <th>730182</th>\n",
       "      <td>1629465901</td>\n",
       "      <td>77566.99</td>\n",
       "      <td>920</td>\n",
       "      <td>96</td>\n",
       "      <td>0</td>\n",
       "    </tr>\n",
       "    <tr>\n",
       "      <th>1028876</th>\n",
       "      <td>1881705242</td>\n",
       "      <td>24614.50</td>\n",
       "      <td>165</td>\n",
       "      <td>14</td>\n",
       "      <td>0</td>\n",
       "    </tr>\n",
       "    <tr>\n",
       "      <th>...</th>\n",
       "      <td>...</td>\n",
       "      <td>...</td>\n",
       "      <td>...</td>\n",
       "      <td>...</td>\n",
       "      <td>...</td>\n",
       "    </tr>\n",
       "    <tr>\n",
       "      <th>170008</th>\n",
       "      <td>1144520925</td>\n",
       "      <td>22144.52</td>\n",
       "      <td>271</td>\n",
       "      <td>91</td>\n",
       "      <td>1</td>\n",
       "    </tr>\n",
       "    <tr>\n",
       "      <th>141580</th>\n",
       "      <td>1124058938</td>\n",
       "      <td>52171.83</td>\n",
       "      <td>1357.0</td>\n",
       "      <td>21</td>\n",
       "      <td>0</td>\n",
       "    </tr>\n",
       "    <tr>\n",
       "      <th>1155767</th>\n",
       "      <td>1992741656</td>\n",
       "      <td>47135.14</td>\n",
       "      <td>375</td>\n",
       "      <td>83</td>\n",
       "      <td>1</td>\n",
       "    </tr>\n",
       "    <tr>\n",
       "      <th>803181</th>\n",
       "      <td>1699082552</td>\n",
       "      <td>16155.03</td>\n",
       "      <td>198</td>\n",
       "      <td>39</td>\n",
       "      <td>1</td>\n",
       "    </tr>\n",
       "    <tr>\n",
       "      <th>816944</th>\n",
       "      <td>1700239175</td>\n",
       "      <td>18244.73</td>\n",
       "      <td>383</td>\n",
       "      <td>31</td>\n",
       "      <td>1</td>\n",
       "    </tr>\n",
       "  </tbody>\n",
       "</table>\n",
       "<p>8212 rows × 5 columns</p>\n",
       "</div>"
      ],
      "text/plain": [
       "         Rndrng_NPI  Tot_Mdcr_Stdzd_Amt Tot_Srvcs Bene_Dual_Cnt  \\\n",
       "565335   1487748836            66184.43    1550.0           170   \n",
       "739226   1639391121            20667.89       334            61   \n",
       "1119575  1962524355            39540.45       829            86   \n",
       "730182   1629465901            77566.99       920            96   \n",
       "1028876  1881705242            24614.50       165            14   \n",
       "...             ...                 ...       ...           ...   \n",
       "170008   1144520925            22144.52       271            91   \n",
       "141580   1124058938            52171.83    1357.0            21   \n",
       "1155767  1992741656            47135.14       375            83   \n",
       "803181   1699082552            16155.03       198            39   \n",
       "816944   1700239175            18244.73       383            31   \n",
       "\n",
       "         Rndrng_Prvdr_Gndr  \n",
       "565335                   0  \n",
       "739226                   0  \n",
       "1119575                  0  \n",
       "730182                   0  \n",
       "1028876                  0  \n",
       "...                    ...  \n",
       "170008                   1  \n",
       "141580                   0  \n",
       "1155767                  1  \n",
       "803181                   1  \n",
       "816944                   1  \n",
       "\n",
       "[8212 rows x 5 columns]"
      ]
     },
     "execution_count": 49,
     "metadata": {},
     "output_type": "execute_result"
    }
   ],
   "source": [
    "part"
   ]
  },
  {
   "cell_type": "code",
   "execution_count": 50,
   "id": "34927c72",
   "metadata": {},
   "outputs": [
    {
     "data": {
      "text/plain": [
       "1891731758"
      ]
     },
     "execution_count": 50,
     "metadata": {},
     "output_type": "execute_result"
    }
   ],
   "source": [
    "exc.iloc[4]"
   ]
  },
  {
   "cell_type": "code",
   "execution_count": 51,
   "id": "0622688f",
   "metadata": {},
   "outputs": [
    {
     "data": {
      "text/plain": [
       "                 22544\n",
       "A                 2611\n",
       "L                 2430\n",
       "M                 2321\n",
       "J                 1727\n",
       "                 ...  \n",
       "JESSICAMARIE         1\n",
       "AROSTEGUI            1\n",
       "DELOURDES            1\n",
       "DONADIN              1\n",
       "JOSEPH CUYAG         1\n",
       "Name: MIDNAME, Length: 8790, dtype: int64"
      ]
     },
     "execution_count": 51,
     "metadata": {},
     "output_type": "execute_result"
    }
   ],
   "source": [
    "leie_ex[\"MIDNAME\"].value_counts()"
   ]
  },
  {
   "cell_type": "code",
   "execution_count": 52,
   "id": "94ce55ab",
   "metadata": {},
   "outputs": [],
   "source": [
    "leie_ex = leie_ex.dropna(subset=[\"FIRSTNAME\"],axis=0)"
   ]
  },
  {
   "cell_type": "code",
   "execution_count": 53,
   "id": "a61a6439",
   "metadata": {},
   "outputs": [],
   "source": [
    "leie_ex = leie_ex.dropna(subset=[\"SPECIALTY\"],axis=0)"
   ]
  },
  {
   "cell_type": "code",
   "execution_count": 54,
   "id": "cbbd652b",
   "metadata": {},
   "outputs": [],
   "source": [
    "exc_fname=leie_ex[\"FIRSTNAME\"]\n",
    "exc_spec=leie_ex[\"SPECIALTY\"]"
   ]
  },
  {
   "cell_type": "code",
   "execution_count": 55,
   "id": "7d3043ad",
   "metadata": {},
   "outputs": [
    {
     "data": {
      "text/html": [
       "<div>\n",
       "<style scoped>\n",
       "    .dataframe tbody tr th:only-of-type {\n",
       "        vertical-align: middle;\n",
       "    }\n",
       "\n",
       "    .dataframe tbody tr th {\n",
       "        vertical-align: top;\n",
       "    }\n",
       "\n",
       "    .dataframe thead th {\n",
       "        text-align: right;\n",
       "    }\n",
       "</style>\n",
       "<table border=\"1\" class=\"dataframe\">\n",
       "  <thead>\n",
       "    <tr style=\"text-align: right;\">\n",
       "      <th></th>\n",
       "      <th>Rndrng_Prvdr_Last_Org_Name</th>\n",
       "      <th>Rndrng_Prvdr_First_Name</th>\n",
       "      <th>Rndrng_Prvdr_MI</th>\n",
       "      <th>Rndrng_Prvdr_Crdntls</th>\n",
       "      <th>Rndrng_Prvdr_Gndr</th>\n",
       "      <th>Rndrng_Prvdr_Ent_Cd</th>\n",
       "      <th>Rndrng_Prvdr_St1</th>\n",
       "      <th>Rndrng_Prvdr_St2</th>\n",
       "      <th>Rndrng_Prvdr_City</th>\n",
       "      <th>Rndrng_Prvdr_State_Abrvtn</th>\n",
       "      <th>...</th>\n",
       "      <th>Bene_CC_Dbts_Pct</th>\n",
       "      <th>Bene_CC_Hyplpdma_Pct</th>\n",
       "      <th>Bene_CC_Hyprtnsn_Pct</th>\n",
       "      <th>Bene_CC_IHD_Pct</th>\n",
       "      <th>Bene_CC_Opo_Pct</th>\n",
       "      <th>Bene_CC_RAOA_Pct</th>\n",
       "      <th>Bene_CC_Sz_Pct</th>\n",
       "      <th>Bene_CC_Strok_Pct</th>\n",
       "      <th>Bene_Avg_Risk_Scre</th>\n",
       "      <th>Rndrng_NPI</th>\n",
       "    </tr>\n",
       "  </thead>\n",
       "  <tbody>\n",
       "    <tr>\n",
       "      <th>565335</th>\n",
       "      <td>Schoenkerman</td>\n",
       "      <td>Aaron</td>\n",
       "      <td>B</td>\n",
       "      <td>MD</td>\n",
       "      <td>0</td>\n",
       "      <td>I</td>\n",
       "      <td>1111 Ne 99th Ave Ste 201</td>\n",
       "      <td>NaN</td>\n",
       "      <td>Portland</td>\n",
       "      <td>OR</td>\n",
       "      <td>...</td>\n",
       "      <td>36.00%</td>\n",
       "      <td>62.00%</td>\n",
       "      <td>75.00%</td>\n",
       "      <td>54.00%</td>\n",
       "      <td>9.00%</td>\n",
       "      <td>37.00%</td>\n",
       "      <td>3.00%</td>\n",
       "      <td>11.00%</td>\n",
       "      <td>1.8867</td>\n",
       "      <td>1487748836</td>\n",
       "    </tr>\n",
       "    <tr>\n",
       "      <th>739226</th>\n",
       "      <td>Bhat</td>\n",
       "      <td>Sunil</td>\n",
       "      <td>V</td>\n",
       "      <td>MD</td>\n",
       "      <td>0</td>\n",
       "      <td>I</td>\n",
       "      <td>1330 Coshocton Ave</td>\n",
       "      <td>NaN</td>\n",
       "      <td>Mount Vernon</td>\n",
       "      <td>OH</td>\n",
       "      <td>...</td>\n",
       "      <td>44.00%</td>\n",
       "      <td>59.00%</td>\n",
       "      <td>75.00%</td>\n",
       "      <td>49.00%</td>\n",
       "      <td>9.00%</td>\n",
       "      <td>46.00%</td>\n",
       "      <td>NaN</td>\n",
       "      <td>11.00%</td>\n",
       "      <td>2.5566</td>\n",
       "      <td>1639391121</td>\n",
       "    </tr>\n",
       "    <tr>\n",
       "      <th>579293</th>\n",
       "      <td>Goodwin</td>\n",
       "      <td>Karen</td>\n",
       "      <td>M</td>\n",
       "      <td>D.O.</td>\n",
       "      <td>1</td>\n",
       "      <td>I</td>\n",
       "      <td>3100 San Pablo Ave Ste 430</td>\n",
       "      <td>NaN</td>\n",
       "      <td>Berkeley</td>\n",
       "      <td>CA</td>\n",
       "      <td>...</td>\n",
       "      <td>NaN</td>\n",
       "      <td>34.00%</td>\n",
       "      <td>45.00%</td>\n",
       "      <td>NaN</td>\n",
       "      <td>NaN</td>\n",
       "      <td>37.00%</td>\n",
       "      <td>NaN</td>\n",
       "      <td>NaN</td>\n",
       "      <td>1.2458</td>\n",
       "      <td>1497902308</td>\n",
       "    </tr>\n",
       "    <tr>\n",
       "      <th>914854</th>\n",
       "      <td>Bello</td>\n",
       "      <td>Danielle</td>\n",
       "      <td>M</td>\n",
       "      <td>MD</td>\n",
       "      <td>1</td>\n",
       "      <td>I</td>\n",
       "      <td>1275 York Ave</td>\n",
       "      <td>Memorial Sloan Kettering Cancer Center,dept. O...</td>\n",
       "      <td>New York</td>\n",
       "      <td>NY</td>\n",
       "      <td>...</td>\n",
       "      <td>29.00%</td>\n",
       "      <td>69.00%</td>\n",
       "      <td>75.00%</td>\n",
       "      <td>46.00%</td>\n",
       "      <td>11.00%</td>\n",
       "      <td>55.00%</td>\n",
       "      <td>NaN</td>\n",
       "      <td>9.00%</td>\n",
       "      <td>1.6232</td>\n",
       "      <td>1780811133</td>\n",
       "    </tr>\n",
       "    <tr>\n",
       "      <th>1119575</th>\n",
       "      <td>Werle</td>\n",
       "      <td>Zachary</td>\n",
       "      <td>R</td>\n",
       "      <td>D.O.</td>\n",
       "      <td>0</td>\n",
       "      <td>I</td>\n",
       "      <td>1001 Noble St</td>\n",
       "      <td>NaN</td>\n",
       "      <td>Fairbanks</td>\n",
       "      <td>AK</td>\n",
       "      <td>...</td>\n",
       "      <td>21.00%</td>\n",
       "      <td>31.00%</td>\n",
       "      <td>49.00%</td>\n",
       "      <td>26.00%</td>\n",
       "      <td>3.00%</td>\n",
       "      <td>34.00%</td>\n",
       "      <td>3.00%</td>\n",
       "      <td>3.00%</td>\n",
       "      <td>0.9178</td>\n",
       "      <td>1962524355</td>\n",
       "    </tr>\n",
       "    <tr>\n",
       "      <th>...</th>\n",
       "      <td>...</td>\n",
       "      <td>...</td>\n",
       "      <td>...</td>\n",
       "      <td>...</td>\n",
       "      <td>...</td>\n",
       "      <td>...</td>\n",
       "      <td>...</td>\n",
       "      <td>...</td>\n",
       "      <td>...</td>\n",
       "      <td>...</td>\n",
       "      <td>...</td>\n",
       "      <td>...</td>\n",
       "      <td>...</td>\n",
       "      <td>...</td>\n",
       "      <td>...</td>\n",
       "      <td>...</td>\n",
       "      <td>...</td>\n",
       "      <td>...</td>\n",
       "      <td>...</td>\n",
       "      <td>...</td>\n",
       "      <td>...</td>\n",
       "    </tr>\n",
       "    <tr>\n",
       "      <th>803181</th>\n",
       "      <td>Reese</td>\n",
       "      <td>Jill</td>\n",
       "      <td>A</td>\n",
       "      <td>PA-C</td>\n",
       "      <td>1</td>\n",
       "      <td>I</td>\n",
       "      <td>1026 A Ave Ne</td>\n",
       "      <td>NaN</td>\n",
       "      <td>Cedar Rapids</td>\n",
       "      <td>IA</td>\n",
       "      <td>...</td>\n",
       "      <td>35.00%</td>\n",
       "      <td>69.00%</td>\n",
       "      <td>75.00%</td>\n",
       "      <td>51.00%</td>\n",
       "      <td>11.00%</td>\n",
       "      <td>56.00%</td>\n",
       "      <td>NaN</td>\n",
       "      <td>9.00%</td>\n",
       "      <td>2.0279</td>\n",
       "      <td>1699082552</td>\n",
       "    </tr>\n",
       "    <tr>\n",
       "      <th>607656</th>\n",
       "      <td>Gersava</td>\n",
       "      <td>Rolando</td>\n",
       "      <td>G</td>\n",
       "      <td>PT</td>\n",
       "      <td>0</td>\n",
       "      <td>I</td>\n",
       "      <td>301 N West St</td>\n",
       "      <td>NaN</td>\n",
       "      <td>Somerville</td>\n",
       "      <td>TN</td>\n",
       "      <td>...</td>\n",
       "      <td>28.00%</td>\n",
       "      <td>75.00%</td>\n",
       "      <td>75.00%</td>\n",
       "      <td>40.0%</td>\n",
       "      <td>NaN</td>\n",
       "      <td>70.0%</td>\n",
       "      <td>0%</td>\n",
       "      <td>NaN</td>\n",
       "      <td>1.1766</td>\n",
       "      <td>1528091915</td>\n",
       "    </tr>\n",
       "    <tr>\n",
       "      <th>156761</th>\n",
       "      <td>Farnsworth</td>\n",
       "      <td>Neil</td>\n",
       "      <td>N</td>\n",
       "      <td>M.D.</td>\n",
       "      <td>0</td>\n",
       "      <td>I</td>\n",
       "      <td>145 Robert E Lee Blvd Ste 302</td>\n",
       "      <td>NaN</td>\n",
       "      <td>New Orleans</td>\n",
       "      <td>LA</td>\n",
       "      <td>...</td>\n",
       "      <td>NaN</td>\n",
       "      <td>49.00%</td>\n",
       "      <td>49.00%</td>\n",
       "      <td>31.00%</td>\n",
       "      <td>NaN</td>\n",
       "      <td>NaN</td>\n",
       "      <td>0%</td>\n",
       "      <td>0%</td>\n",
       "      <td>0.6824</td>\n",
       "      <td>1134319411</td>\n",
       "    </tr>\n",
       "    <tr>\n",
       "      <th>816944</th>\n",
       "      <td>Lorenz</td>\n",
       "      <td>Melissa</td>\n",
       "      <td>NaN</td>\n",
       "      <td>NaN</td>\n",
       "      <td>1</td>\n",
       "      <td>I</td>\n",
       "      <td>301 Gordon Gutmann Blvd Ste 301</td>\n",
       "      <td>NaN</td>\n",
       "      <td>Jeffersonville</td>\n",
       "      <td>IN</td>\n",
       "      <td>...</td>\n",
       "      <td>31.00%</td>\n",
       "      <td>55.00%</td>\n",
       "      <td>70.0%</td>\n",
       "      <td>51.00%</td>\n",
       "      <td>12.00%</td>\n",
       "      <td>52.00%</td>\n",
       "      <td>NaN</td>\n",
       "      <td>6.00%</td>\n",
       "      <td>2.9567</td>\n",
       "      <td>1700239175</td>\n",
       "    </tr>\n",
       "    <tr>\n",
       "      <th>843509</th>\n",
       "      <td>Mckenna</td>\n",
       "      <td>Michael</td>\n",
       "      <td>P</td>\n",
       "      <td>MD</td>\n",
       "      <td>0</td>\n",
       "      <td>I</td>\n",
       "      <td>10801 N Michigan Rd</td>\n",
       "      <td>NaN</td>\n",
       "      <td>Zionsville</td>\n",
       "      <td>IN</td>\n",
       "      <td>...</td>\n",
       "      <td>NaN</td>\n",
       "      <td>NaN</td>\n",
       "      <td>NaN</td>\n",
       "      <td>NaN</td>\n",
       "      <td>NaN</td>\n",
       "      <td>NaN</td>\n",
       "      <td>0%</td>\n",
       "      <td>0%</td>\n",
       "      <td>1.9000</td>\n",
       "      <td>1720282890</td>\n",
       "    </tr>\n",
       "  </tbody>\n",
       "</table>\n",
       "<p>11615 rows × 73 columns</p>\n",
       "</div>"
      ],
      "text/plain": [
       "        Rndrng_Prvdr_Last_Org_Name Rndrng_Prvdr_First_Name Rndrng_Prvdr_MI  \\\n",
       "565335                Schoenkerman                   Aaron               B   \n",
       "739226                        Bhat                   Sunil               V   \n",
       "579293                     Goodwin                   Karen               M   \n",
       "914854                       Bello                Danielle               M   \n",
       "1119575                      Werle                 Zachary               R   \n",
       "...                            ...                     ...             ...   \n",
       "803181                       Reese                    Jill               A   \n",
       "607656                     Gersava                 Rolando               G   \n",
       "156761                  Farnsworth                    Neil               N   \n",
       "816944                      Lorenz                 Melissa             NaN   \n",
       "843509                     Mckenna                 Michael               P   \n",
       "\n",
       "        Rndrng_Prvdr_Crdntls  Rndrng_Prvdr_Gndr Rndrng_Prvdr_Ent_Cd  \\\n",
       "565335                    MD                  0                   I   \n",
       "739226                    MD                  0                   I   \n",
       "579293                  D.O.                  1                   I   \n",
       "914854                    MD                  1                   I   \n",
       "1119575                 D.O.                  0                   I   \n",
       "...                      ...                ...                 ...   \n",
       "803181                  PA-C                  1                   I   \n",
       "607656                    PT                  0                   I   \n",
       "156761                  M.D.                  0                   I   \n",
       "816944                   NaN                  1                   I   \n",
       "843509                    MD                  0                   I   \n",
       "\n",
       "                        Rndrng_Prvdr_St1  \\\n",
       "565335          1111 Ne 99th Ave Ste 201   \n",
       "739226                1330 Coshocton Ave   \n",
       "579293        3100 San Pablo Ave Ste 430   \n",
       "914854                     1275 York Ave   \n",
       "1119575                    1001 Noble St   \n",
       "...                                  ...   \n",
       "803181                     1026 A Ave Ne   \n",
       "607656                     301 N West St   \n",
       "156761     145 Robert E Lee Blvd Ste 302   \n",
       "816944   301 Gordon Gutmann Blvd Ste 301   \n",
       "843509               10801 N Michigan Rd   \n",
       "\n",
       "                                          Rndrng_Prvdr_St2 Rndrng_Prvdr_City  \\\n",
       "565335                                                 NaN          Portland   \n",
       "739226                                                 NaN      Mount Vernon   \n",
       "579293                                                 NaN          Berkeley   \n",
       "914854   Memorial Sloan Kettering Cancer Center,dept. O...          New York   \n",
       "1119575                                                NaN         Fairbanks   \n",
       "...                                                    ...               ...   \n",
       "803181                                                 NaN      Cedar Rapids   \n",
       "607656                                                 NaN        Somerville   \n",
       "156761                                                 NaN       New Orleans   \n",
       "816944                                                 NaN    Jeffersonville   \n",
       "843509                                                 NaN        Zionsville   \n",
       "\n",
       "        Rndrng_Prvdr_State_Abrvtn  ... Bene_CC_Dbts_Pct Bene_CC_Hyplpdma_Pct  \\\n",
       "565335                         OR  ...           36.00%               62.00%   \n",
       "739226                         OH  ...           44.00%               59.00%   \n",
       "579293                         CA  ...              NaN               34.00%   \n",
       "914854                         NY  ...           29.00%               69.00%   \n",
       "1119575                        AK  ...           21.00%               31.00%   \n",
       "...                           ...  ...              ...                  ...   \n",
       "803181                         IA  ...           35.00%               69.00%   \n",
       "607656                         TN  ...           28.00%               75.00%   \n",
       "156761                         LA  ...              NaN               49.00%   \n",
       "816944                         IN  ...           31.00%               55.00%   \n",
       "843509                         IN  ...              NaN                  NaN   \n",
       "\n",
       "         Bene_CC_Hyprtnsn_Pct Bene_CC_IHD_Pct Bene_CC_Opo_Pct  \\\n",
       "565335                 75.00%          54.00%           9.00%   \n",
       "739226                 75.00%          49.00%           9.00%   \n",
       "579293                 45.00%             NaN             NaN   \n",
       "914854                 75.00%          46.00%          11.00%   \n",
       "1119575                49.00%          26.00%           3.00%   \n",
       "...                       ...             ...             ...   \n",
       "803181                 75.00%          51.00%          11.00%   \n",
       "607656                 75.00%           40.0%             NaN   \n",
       "156761                 49.00%          31.00%             NaN   \n",
       "816944                  70.0%          51.00%          12.00%   \n",
       "843509                    NaN             NaN             NaN   \n",
       "\n",
       "        Bene_CC_RAOA_Pct Bene_CC_Sz_Pct  Bene_CC_Strok_Pct Bene_Avg_Risk_Scre  \\\n",
       "565335            37.00%          3.00%             11.00%             1.8867   \n",
       "739226            46.00%            NaN             11.00%             2.5566   \n",
       "579293            37.00%            NaN                NaN             1.2458   \n",
       "914854            55.00%            NaN              9.00%             1.6232   \n",
       "1119575           34.00%          3.00%              3.00%             0.9178   \n",
       "...                  ...            ...                ...                ...   \n",
       "803181            56.00%            NaN              9.00%             2.0279   \n",
       "607656             70.0%             0%                NaN             1.1766   \n",
       "156761               NaN             0%                 0%             0.6824   \n",
       "816944            52.00%            NaN              6.00%             2.9567   \n",
       "843509               NaN             0%                 0%             1.9000   \n",
       "\n",
       "         Rndrng_NPI  \n",
       "565335   1487748836  \n",
       "739226   1639391121  \n",
       "579293   1497902308  \n",
       "914854   1780811133  \n",
       "1119575  1962524355  \n",
       "...             ...  \n",
       "803181   1699082552  \n",
       "607656   1528091915  \n",
       "156761   1134319411  \n",
       "816944   1700239175  \n",
       "843509   1720282890  \n",
       "\n",
       "[11615 rows x 73 columns]"
      ]
     },
     "execution_count": 55,
     "metadata": {},
     "output_type": "execute_result"
    }
   ],
   "source": [
    "partb"
   ]
  },
  {
   "cell_type": "code",
   "execution_count": 56,
   "id": "3a944167",
   "metadata": {},
   "outputs": [
    {
     "data": {
      "text/plain": [
       "False"
      ]
     },
     "execution_count": 56,
     "metadata": {},
     "output_type": "execute_result"
    }
   ],
   "source": [
    "e = exc.iloc[13]\n",
    "e in part[\"Rndrng_NPI\"].unique()"
   ]
  },
  {
   "cell_type": "code",
   "execution_count": 57,
   "id": "ea5104a8",
   "metadata": {},
   "outputs": [],
   "source": [
    "x = partb[\"Rndrng_NPI\"].size\n",
    "count = 0\n",
    "y =[];\n",
    "while (count < x):\n",
    "    chk = partb[\"Rndrng_NPI\"].iloc[count]\n",
    "    chk1 = partb[\"Rndrng_Prvdr_First_Name\"].iloc[count]\n",
    "    if(chk in exc.unique()):\n",
    "        y.append(1)\n",
    "    elif chk1 in exc_fname.unique():\n",
    "         y.append(1)\n",
    "    else:\n",
    "        y.append(0)\n",
    "    count = count+1"
   ]
  },
  {
   "cell_type": "code",
   "execution_count": 58,
   "id": "45568293",
   "metadata": {},
   "outputs": [],
   "source": [
    "partbx = pd.DataFrame(y, columns =['Fraud'])"
   ]
  },
  {
   "cell_type": "code",
   "execution_count": 59,
   "id": "59d0a3c6",
   "metadata": {},
   "outputs": [],
   "source": [
    "partx = pd.concat([partb,partbx], axis=1)"
   ]
  },
  {
   "cell_type": "code",
   "execution_count": 60,
   "id": "d2a707c6",
   "metadata": {},
   "outputs": [
    {
     "data": {
      "text/html": [
       "<div>\n",
       "<style scoped>\n",
       "    .dataframe tbody tr th:only-of-type {\n",
       "        vertical-align: middle;\n",
       "    }\n",
       "\n",
       "    .dataframe tbody tr th {\n",
       "        vertical-align: top;\n",
       "    }\n",
       "\n",
       "    .dataframe thead th {\n",
       "        text-align: right;\n",
       "    }\n",
       "</style>\n",
       "<table border=\"1\" class=\"dataframe\">\n",
       "  <thead>\n",
       "    <tr style=\"text-align: right;\">\n",
       "      <th></th>\n",
       "      <th>Rndrng_Prvdr_Last_Org_Name</th>\n",
       "      <th>Rndrng_Prvdr_First_Name</th>\n",
       "      <th>Rndrng_Prvdr_MI</th>\n",
       "      <th>Rndrng_Prvdr_Crdntls</th>\n",
       "      <th>Rndrng_Prvdr_Gndr</th>\n",
       "      <th>Rndrng_Prvdr_Ent_Cd</th>\n",
       "      <th>Rndrng_Prvdr_St1</th>\n",
       "      <th>Rndrng_Prvdr_St2</th>\n",
       "      <th>Rndrng_Prvdr_City</th>\n",
       "      <th>Rndrng_Prvdr_State_Abrvtn</th>\n",
       "      <th>...</th>\n",
       "      <th>Bene_CC_Hyplpdma_Pct</th>\n",
       "      <th>Bene_CC_Hyprtnsn_Pct</th>\n",
       "      <th>Bene_CC_IHD_Pct</th>\n",
       "      <th>Bene_CC_Opo_Pct</th>\n",
       "      <th>Bene_CC_RAOA_Pct</th>\n",
       "      <th>Bene_CC_Sz_Pct</th>\n",
       "      <th>Bene_CC_Strok_Pct</th>\n",
       "      <th>Bene_Avg_Risk_Scre</th>\n",
       "      <th>Rndrng_NPI</th>\n",
       "      <th>Fraud</th>\n",
       "    </tr>\n",
       "  </thead>\n",
       "  <tbody>\n",
       "    <tr>\n",
       "      <th>565335</th>\n",
       "      <td>Schoenkerman</td>\n",
       "      <td>Aaron</td>\n",
       "      <td>B</td>\n",
       "      <td>MD</td>\n",
       "      <td>0.0</td>\n",
       "      <td>I</td>\n",
       "      <td>1111 Ne 99th Ave Ste 201</td>\n",
       "      <td>NaN</td>\n",
       "      <td>Portland</td>\n",
       "      <td>OR</td>\n",
       "      <td>...</td>\n",
       "      <td>62.00%</td>\n",
       "      <td>75.00%</td>\n",
       "      <td>54.00%</td>\n",
       "      <td>9.00%</td>\n",
       "      <td>37.00%</td>\n",
       "      <td>3.00%</td>\n",
       "      <td>11.00%</td>\n",
       "      <td>1.8867</td>\n",
       "      <td>1.487749e+09</td>\n",
       "      <td>NaN</td>\n",
       "    </tr>\n",
       "    <tr>\n",
       "      <th>739226</th>\n",
       "      <td>Bhat</td>\n",
       "      <td>Sunil</td>\n",
       "      <td>V</td>\n",
       "      <td>MD</td>\n",
       "      <td>0.0</td>\n",
       "      <td>I</td>\n",
       "      <td>1330 Coshocton Ave</td>\n",
       "      <td>NaN</td>\n",
       "      <td>Mount Vernon</td>\n",
       "      <td>OH</td>\n",
       "      <td>...</td>\n",
       "      <td>59.00%</td>\n",
       "      <td>75.00%</td>\n",
       "      <td>49.00%</td>\n",
       "      <td>9.00%</td>\n",
       "      <td>46.00%</td>\n",
       "      <td>NaN</td>\n",
       "      <td>11.00%</td>\n",
       "      <td>2.5566</td>\n",
       "      <td>1.639391e+09</td>\n",
       "      <td>NaN</td>\n",
       "    </tr>\n",
       "    <tr>\n",
       "      <th>579293</th>\n",
       "      <td>Goodwin</td>\n",
       "      <td>Karen</td>\n",
       "      <td>M</td>\n",
       "      <td>D.O.</td>\n",
       "      <td>1.0</td>\n",
       "      <td>I</td>\n",
       "      <td>3100 San Pablo Ave Ste 430</td>\n",
       "      <td>NaN</td>\n",
       "      <td>Berkeley</td>\n",
       "      <td>CA</td>\n",
       "      <td>...</td>\n",
       "      <td>34.00%</td>\n",
       "      <td>45.00%</td>\n",
       "      <td>NaN</td>\n",
       "      <td>NaN</td>\n",
       "      <td>37.00%</td>\n",
       "      <td>NaN</td>\n",
       "      <td>NaN</td>\n",
       "      <td>1.2458</td>\n",
       "      <td>1.497902e+09</td>\n",
       "      <td>NaN</td>\n",
       "    </tr>\n",
       "    <tr>\n",
       "      <th>914854</th>\n",
       "      <td>Bello</td>\n",
       "      <td>Danielle</td>\n",
       "      <td>M</td>\n",
       "      <td>MD</td>\n",
       "      <td>1.0</td>\n",
       "      <td>I</td>\n",
       "      <td>1275 York Ave</td>\n",
       "      <td>Memorial Sloan Kettering Cancer Center,dept. O...</td>\n",
       "      <td>New York</td>\n",
       "      <td>NY</td>\n",
       "      <td>...</td>\n",
       "      <td>69.00%</td>\n",
       "      <td>75.00%</td>\n",
       "      <td>46.00%</td>\n",
       "      <td>11.00%</td>\n",
       "      <td>55.00%</td>\n",
       "      <td>NaN</td>\n",
       "      <td>9.00%</td>\n",
       "      <td>1.6232</td>\n",
       "      <td>1.780811e+09</td>\n",
       "      <td>NaN</td>\n",
       "    </tr>\n",
       "    <tr>\n",
       "      <th>1119575</th>\n",
       "      <td>Werle</td>\n",
       "      <td>Zachary</td>\n",
       "      <td>R</td>\n",
       "      <td>D.O.</td>\n",
       "      <td>0.0</td>\n",
       "      <td>I</td>\n",
       "      <td>1001 Noble St</td>\n",
       "      <td>NaN</td>\n",
       "      <td>Fairbanks</td>\n",
       "      <td>AK</td>\n",
       "      <td>...</td>\n",
       "      <td>31.00%</td>\n",
       "      <td>49.00%</td>\n",
       "      <td>26.00%</td>\n",
       "      <td>3.00%</td>\n",
       "      <td>34.00%</td>\n",
       "      <td>3.00%</td>\n",
       "      <td>3.00%</td>\n",
       "      <td>0.9178</td>\n",
       "      <td>1.962524e+09</td>\n",
       "      <td>NaN</td>\n",
       "    </tr>\n",
       "    <tr>\n",
       "      <th>...</th>\n",
       "      <td>...</td>\n",
       "      <td>...</td>\n",
       "      <td>...</td>\n",
       "      <td>...</td>\n",
       "      <td>...</td>\n",
       "      <td>...</td>\n",
       "      <td>...</td>\n",
       "      <td>...</td>\n",
       "      <td>...</td>\n",
       "      <td>...</td>\n",
       "      <td>...</td>\n",
       "      <td>...</td>\n",
       "      <td>...</td>\n",
       "      <td>...</td>\n",
       "      <td>...</td>\n",
       "      <td>...</td>\n",
       "      <td>...</td>\n",
       "      <td>...</td>\n",
       "      <td>...</td>\n",
       "      <td>...</td>\n",
       "      <td>...</td>\n",
       "    </tr>\n",
       "    <tr>\n",
       "      <th>803181</th>\n",
       "      <td>Reese</td>\n",
       "      <td>Jill</td>\n",
       "      <td>A</td>\n",
       "      <td>PA-C</td>\n",
       "      <td>1.0</td>\n",
       "      <td>I</td>\n",
       "      <td>1026 A Ave Ne</td>\n",
       "      <td>NaN</td>\n",
       "      <td>Cedar Rapids</td>\n",
       "      <td>IA</td>\n",
       "      <td>...</td>\n",
       "      <td>69.00%</td>\n",
       "      <td>75.00%</td>\n",
       "      <td>51.00%</td>\n",
       "      <td>11.00%</td>\n",
       "      <td>56.00%</td>\n",
       "      <td>NaN</td>\n",
       "      <td>9.00%</td>\n",
       "      <td>2.0279</td>\n",
       "      <td>1.699083e+09</td>\n",
       "      <td>NaN</td>\n",
       "    </tr>\n",
       "    <tr>\n",
       "      <th>607656</th>\n",
       "      <td>Gersava</td>\n",
       "      <td>Rolando</td>\n",
       "      <td>G</td>\n",
       "      <td>PT</td>\n",
       "      <td>0.0</td>\n",
       "      <td>I</td>\n",
       "      <td>301 N West St</td>\n",
       "      <td>NaN</td>\n",
       "      <td>Somerville</td>\n",
       "      <td>TN</td>\n",
       "      <td>...</td>\n",
       "      <td>75.00%</td>\n",
       "      <td>75.00%</td>\n",
       "      <td>40.0%</td>\n",
       "      <td>NaN</td>\n",
       "      <td>70.0%</td>\n",
       "      <td>0%</td>\n",
       "      <td>NaN</td>\n",
       "      <td>1.1766</td>\n",
       "      <td>1.528092e+09</td>\n",
       "      <td>NaN</td>\n",
       "    </tr>\n",
       "    <tr>\n",
       "      <th>156761</th>\n",
       "      <td>Farnsworth</td>\n",
       "      <td>Neil</td>\n",
       "      <td>N</td>\n",
       "      <td>M.D.</td>\n",
       "      <td>0.0</td>\n",
       "      <td>I</td>\n",
       "      <td>145 Robert E Lee Blvd Ste 302</td>\n",
       "      <td>NaN</td>\n",
       "      <td>New Orleans</td>\n",
       "      <td>LA</td>\n",
       "      <td>...</td>\n",
       "      <td>49.00%</td>\n",
       "      <td>49.00%</td>\n",
       "      <td>31.00%</td>\n",
       "      <td>NaN</td>\n",
       "      <td>NaN</td>\n",
       "      <td>0%</td>\n",
       "      <td>0%</td>\n",
       "      <td>0.6824</td>\n",
       "      <td>1.134319e+09</td>\n",
       "      <td>NaN</td>\n",
       "    </tr>\n",
       "    <tr>\n",
       "      <th>816944</th>\n",
       "      <td>Lorenz</td>\n",
       "      <td>Melissa</td>\n",
       "      <td>NaN</td>\n",
       "      <td>NaN</td>\n",
       "      <td>1.0</td>\n",
       "      <td>I</td>\n",
       "      <td>301 Gordon Gutmann Blvd Ste 301</td>\n",
       "      <td>NaN</td>\n",
       "      <td>Jeffersonville</td>\n",
       "      <td>IN</td>\n",
       "      <td>...</td>\n",
       "      <td>55.00%</td>\n",
       "      <td>70.0%</td>\n",
       "      <td>51.00%</td>\n",
       "      <td>12.00%</td>\n",
       "      <td>52.00%</td>\n",
       "      <td>NaN</td>\n",
       "      <td>6.00%</td>\n",
       "      <td>2.9567</td>\n",
       "      <td>1.700239e+09</td>\n",
       "      <td>NaN</td>\n",
       "    </tr>\n",
       "    <tr>\n",
       "      <th>843509</th>\n",
       "      <td>Mckenna</td>\n",
       "      <td>Michael</td>\n",
       "      <td>P</td>\n",
       "      <td>MD</td>\n",
       "      <td>0.0</td>\n",
       "      <td>I</td>\n",
       "      <td>10801 N Michigan Rd</td>\n",
       "      <td>NaN</td>\n",
       "      <td>Zionsville</td>\n",
       "      <td>IN</td>\n",
       "      <td>...</td>\n",
       "      <td>NaN</td>\n",
       "      <td>NaN</td>\n",
       "      <td>NaN</td>\n",
       "      <td>NaN</td>\n",
       "      <td>NaN</td>\n",
       "      <td>0%</td>\n",
       "      <td>0%</td>\n",
       "      <td>1.9000</td>\n",
       "      <td>1.720283e+09</td>\n",
       "      <td>NaN</td>\n",
       "    </tr>\n",
       "  </tbody>\n",
       "</table>\n",
       "<p>11615 rows × 74 columns</p>\n",
       "</div>"
      ],
      "text/plain": [
       "        Rndrng_Prvdr_Last_Org_Name Rndrng_Prvdr_First_Name Rndrng_Prvdr_MI  \\\n",
       "565335                Schoenkerman                   Aaron               B   \n",
       "739226                        Bhat                   Sunil               V   \n",
       "579293                     Goodwin                   Karen               M   \n",
       "914854                       Bello                Danielle               M   \n",
       "1119575                      Werle                 Zachary               R   \n",
       "...                            ...                     ...             ...   \n",
       "803181                       Reese                    Jill               A   \n",
       "607656                     Gersava                 Rolando               G   \n",
       "156761                  Farnsworth                    Neil               N   \n",
       "816944                      Lorenz                 Melissa             NaN   \n",
       "843509                     Mckenna                 Michael               P   \n",
       "\n",
       "        Rndrng_Prvdr_Crdntls  Rndrng_Prvdr_Gndr Rndrng_Prvdr_Ent_Cd  \\\n",
       "565335                    MD                0.0                   I   \n",
       "739226                    MD                0.0                   I   \n",
       "579293                  D.O.                1.0                   I   \n",
       "914854                    MD                1.0                   I   \n",
       "1119575                 D.O.                0.0                   I   \n",
       "...                      ...                ...                 ...   \n",
       "803181                  PA-C                1.0                   I   \n",
       "607656                    PT                0.0                   I   \n",
       "156761                  M.D.                0.0                   I   \n",
       "816944                   NaN                1.0                   I   \n",
       "843509                    MD                0.0                   I   \n",
       "\n",
       "                        Rndrng_Prvdr_St1  \\\n",
       "565335          1111 Ne 99th Ave Ste 201   \n",
       "739226                1330 Coshocton Ave   \n",
       "579293        3100 San Pablo Ave Ste 430   \n",
       "914854                     1275 York Ave   \n",
       "1119575                    1001 Noble St   \n",
       "...                                  ...   \n",
       "803181                     1026 A Ave Ne   \n",
       "607656                     301 N West St   \n",
       "156761     145 Robert E Lee Blvd Ste 302   \n",
       "816944   301 Gordon Gutmann Blvd Ste 301   \n",
       "843509               10801 N Michigan Rd   \n",
       "\n",
       "                                          Rndrng_Prvdr_St2 Rndrng_Prvdr_City  \\\n",
       "565335                                                 NaN          Portland   \n",
       "739226                                                 NaN      Mount Vernon   \n",
       "579293                                                 NaN          Berkeley   \n",
       "914854   Memorial Sloan Kettering Cancer Center,dept. O...          New York   \n",
       "1119575                                                NaN         Fairbanks   \n",
       "...                                                    ...               ...   \n",
       "803181                                                 NaN      Cedar Rapids   \n",
       "607656                                                 NaN        Somerville   \n",
       "156761                                                 NaN       New Orleans   \n",
       "816944                                                 NaN    Jeffersonville   \n",
       "843509                                                 NaN        Zionsville   \n",
       "\n",
       "        Rndrng_Prvdr_State_Abrvtn  ... Bene_CC_Hyplpdma_Pct  \\\n",
       "565335                         OR  ...               62.00%   \n",
       "739226                         OH  ...               59.00%   \n",
       "579293                         CA  ...               34.00%   \n",
       "914854                         NY  ...               69.00%   \n",
       "1119575                        AK  ...               31.00%   \n",
       "...                           ...  ...                  ...   \n",
       "803181                         IA  ...               69.00%   \n",
       "607656                         TN  ...               75.00%   \n",
       "156761                         LA  ...               49.00%   \n",
       "816944                         IN  ...               55.00%   \n",
       "843509                         IN  ...                  NaN   \n",
       "\n",
       "        Bene_CC_Hyprtnsn_Pct  Bene_CC_IHD_Pct Bene_CC_Opo_Pct  \\\n",
       "565335                75.00%           54.00%           9.00%   \n",
       "739226                75.00%           49.00%           9.00%   \n",
       "579293                45.00%              NaN             NaN   \n",
       "914854                75.00%           46.00%          11.00%   \n",
       "1119575               49.00%           26.00%           3.00%   \n",
       "...                      ...              ...             ...   \n",
       "803181                75.00%           51.00%          11.00%   \n",
       "607656                75.00%            40.0%             NaN   \n",
       "156761                49.00%           31.00%             NaN   \n",
       "816944                 70.0%           51.00%          12.00%   \n",
       "843509                   NaN              NaN             NaN   \n",
       "\n",
       "        Bene_CC_RAOA_Pct Bene_CC_Sz_Pct Bene_CC_Strok_Pct  Bene_Avg_Risk_Scre  \\\n",
       "565335            37.00%          3.00%            11.00%              1.8867   \n",
       "739226            46.00%            NaN            11.00%              2.5566   \n",
       "579293            37.00%            NaN               NaN              1.2458   \n",
       "914854            55.00%            NaN             9.00%              1.6232   \n",
       "1119575           34.00%          3.00%             3.00%              0.9178   \n",
       "...                  ...            ...               ...                 ...   \n",
       "803181            56.00%            NaN             9.00%              2.0279   \n",
       "607656             70.0%             0%               NaN              1.1766   \n",
       "156761               NaN             0%                0%              0.6824   \n",
       "816944            52.00%            NaN             6.00%              2.9567   \n",
       "843509               NaN             0%                0%              1.9000   \n",
       "\n",
       "           Rndrng_NPI Fraud  \n",
       "565335   1.487749e+09   NaN  \n",
       "739226   1.639391e+09   NaN  \n",
       "579293   1.497902e+09   NaN  \n",
       "914854   1.780811e+09   NaN  \n",
       "1119575  1.962524e+09   NaN  \n",
       "...               ...   ...  \n",
       "803181   1.699083e+09   NaN  \n",
       "607656   1.528092e+09   NaN  \n",
       "156761   1.134319e+09   NaN  \n",
       "816944   1.700239e+09   NaN  \n",
       "843509   1.720283e+09   NaN  \n",
       "\n",
       "[11615 rows x 74 columns]"
      ]
     },
     "execution_count": 60,
     "metadata": {},
     "output_type": "execute_result"
    }
   ],
   "source": [
    "partx.dropna(axis=0,thresh=2)"
   ]
  },
  {
   "cell_type": "code",
   "execution_count": 61,
   "id": "3de30242",
   "metadata": {},
   "outputs": [
    {
     "name": "stderr",
     "output_type": "stream",
     "text": [
      "/var/folders/l1/rp1rrpyx24d84x0k_6p7pwgw0000gn/T/ipykernel_94088/4129683037.py:5: SettingWithCopyWarning: \n",
      "A value is trying to be set on a copy of a slice from a DataFrame\n",
      "\n",
      "See the caveats in the documentation: https://pandas.pydata.org/pandas-docs/stable/user_guide/indexing.html#returning-a-view-versus-a-copy\n",
      "  partb[\"Fraud\"].iloc[c]=partbx[\"Fraud\"].iloc[c]\n"
     ]
    }
   ],
   "source": [
    "x=partbx.size\n",
    "c=0\n",
    "partb[\"Fraud\"]=partbx\n",
    "while(c<x):\n",
    "    partb[\"Fraud\"].iloc[c]=partbx[\"Fraud\"].iloc[c]\n",
    "    c=c+1"
   ]
  },
  {
   "cell_type": "code",
   "execution_count": 62,
   "id": "4448ac85",
   "metadata": {},
   "outputs": [
    {
     "data": {
      "text/plain": [
       "0.0    11603\n",
       "1.0       12\n",
       "Name: Fraud, dtype: int64"
      ]
     },
     "execution_count": 62,
     "metadata": {},
     "output_type": "execute_result"
    }
   ],
   "source": [
    "partb[\"Fraud\"].value_counts()"
   ]
  },
  {
   "cell_type": "code",
   "execution_count": 63,
   "id": "8b309513",
   "metadata": {},
   "outputs": [
    {
     "data": {
      "text/plain": [
       "Index(['Rndrng_Prvdr_Last_Org_Name', 'Rndrng_Prvdr_First_Name',\n",
       "       'Rndrng_Prvdr_MI', 'Rndrng_Prvdr_Crdntls', 'Rndrng_Prvdr_Gndr',\n",
       "       'Rndrng_Prvdr_Ent_Cd', 'Rndrng_Prvdr_St1', 'Rndrng_Prvdr_St2',\n",
       "       'Rndrng_Prvdr_City', 'Rndrng_Prvdr_State_Abrvtn',\n",
       "       'Rndrng_Prvdr_State_FIPS', 'Rndrng_Prvdr_Zip5', 'Rndrng_Prvdr_RUCA',\n",
       "       'Rndrng_Prvdr_RUCA_Desc', 'Rndrng_Prvdr_Cntry', 'Rndrng_Prvdr_Type',\n",
       "       'Rndrng_Prvdr_Mdcr_Prtcptg_Ind', 'Tot_HCPCS_Cds', 'Tot_Benes',\n",
       "       'Tot_Srvcs', 'Tot_Sbmtd_Chrg', 'Tot_Mdcr_Alowd_Amt',\n",
       "       'Tot_Mdcr_Pymt_Amt', 'Tot_Mdcr_Stdzd_Amt', 'Drug_Sprsn_Ind',\n",
       "       'Drug_Tot_HCPCS_Cds', 'Drug_Tot_Benes', 'Drug_Tot_Srvcs',\n",
       "       'Drug_Sbmtd_Chrg', 'Drug_Mdcr_Alowd_Amt', 'Drug_Mdcr_Pymt_Amt',\n",
       "       'Drug_Mdcr_Stdzd_Amt', 'Med_Sprsn_Ind', 'Med_Tot_HCPCS_Cds',\n",
       "       'Med_Tot_Benes', 'Med_Tot_Srvcs', 'Med_Sbmtd_Chrg',\n",
       "       'Med_Mdcr_Alowd_Amt', 'Med_Mdcr_Pymt_Amt', 'Med_Mdcr_Stdzd_Amt',\n",
       "       'Bene_Avg_Age', 'Bene_Age_LT_65_Cnt', 'Bene_Age_65_74_Cnt',\n",
       "       'Bene_Age_75_84_Cnt', 'Bene_Age_GT_84_Cnt', 'Bene_Feml_Cnt',\n",
       "       'Bene_Male_Cnt', 'Bene_Race_Wht_Cnt', 'Bene_Race_Black_Cnt',\n",
       "       'Bene_Race_API_Cnt', 'Bene_Race_Hspnc_Cnt', 'Bene_Race_NatInd_Cnt',\n",
       "       'Bene_Race_Othr_Cnt', 'Bene_Dual_Cnt', 'Bene_Ndual_Cnt',\n",
       "       'Bene_CC_AF_Pct', 'Bene_CC_Alzhmr_Pct', 'Bene_CC_Asthma_Pct',\n",
       "       'Bene_CC_Cncr_Pct', 'Bene_CC_CHF_Pct', 'Bene_CC_CKD_Pct',\n",
       "       'Bene_CC_COPD_Pct', 'Bene_CC_Dprssn_Pct', 'Bene_CC_Dbts_Pct',\n",
       "       'Bene_CC_Hyplpdma_Pct', 'Bene_CC_Hyprtnsn_Pct', 'Bene_CC_IHD_Pct',\n",
       "       'Bene_CC_Opo_Pct', 'Bene_CC_RAOA_Pct', 'Bene_CC_Sz_Pct',\n",
       "       'Bene_CC_Strok_Pct', 'Bene_Avg_Risk_Scre', 'Rndrng_NPI', 'Fraud'],\n",
       "      dtype='object')"
      ]
     },
     "execution_count": 63,
     "metadata": {},
     "output_type": "execute_result"
    }
   ],
   "source": [
    "partb.columns"
   ]
  },
  {
   "cell_type": "code",
   "execution_count": 64,
   "id": "dfb6da82",
   "metadata": {},
   "outputs": [],
   "source": [
    "partb = partb.drop(['Rndrng_Prvdr_Last_Org_Name', 'Rndrng_Prvdr_First_Name', 'Rndrng_Prvdr_MI',\"Rndrng_Prvdr_St2\",\"Rndrng_Prvdr_St1\",\"Rndrng_Prvdr_City\",\"Rndrng_Prvdr_State_Abrvtn\",\"Rndrng_Prvdr_State_FIPS\",\"Rndrng_Prvdr_Zip5\",\"Rndrng_Prvdr_Cntry\",\"Tot_HCPCS_Cds\"],axis=1)"
   ]
  },
  {
   "cell_type": "code",
   "execution_count": 65,
   "id": "3cd0221f",
   "metadata": {},
   "outputs": [],
   "source": [
    "partb = partb.drop(['Bene_Race_Wht_Cnt',\n",
    "       'Bene_Race_Black_Cnt', 'Bene_Race_API_Cnt', 'Bene_Race_Hspnc_Cnt',\n",
    "       'Bene_Race_NatInd_Cnt', 'Bene_Race_Othr_Cnt', 'Bene_Dual_Cnt',\n",
    "       'Bene_Ndual_Cnt', 'Bene_CC_AF_Pct', 'Bene_CC_Alzhmr_Pct',\n",
    "       'Bene_CC_Asthma_Pct', 'Bene_CC_Cncr_Pct', 'Bene_CC_CHF_Pct',\n",
    "       'Bene_CC_CKD_Pct', 'Bene_CC_COPD_Pct', 'Bene_CC_Dprssn_Pct',\n",
    "       'Bene_CC_Dbts_Pct', 'Bene_CC_Hyplpdma_Pct', 'Bene_CC_Hyprtnsn_Pct',\n",
    "       'Bene_CC_IHD_Pct', 'Bene_CC_Opo_Pct','Tot_Mdcr_Pymt_Amt','Bene_CC_RAOA_Pct',\n",
    "       'Bene_CC_Sz_Pct', 'Bene_CC_Strok_Pct','Drug_Sprsn_Ind', 'Drug_Tot_HCPCS_Cds',\n",
    "       'Drug_Tot_Benes', 'Drug_Tot_Srvcs', 'Drug_Sbmtd_Chrg',\n",
    "       'Drug_Mdcr_Alowd_Amt', 'Drug_Mdcr_Pymt_Amt', 'Drug_Mdcr_Stdzd_Amt',\n",
    "       'Med_Sprsn_Ind', 'Med_Tot_HCPCS_Cds', 'Med_Tot_Benes', 'Med_Tot_Srvcs',\n",
    "       'Med_Sbmtd_Chrg', 'Med_Mdcr_Alowd_Amt', 'Med_Mdcr_Pymt_Amt',\n",
    "       'Med_Mdcr_Stdzd_Amt', 'Bene_Avg_Risk_Scre','Tot_Sbmtd_Chrg', 'Tot_Mdcr_Alowd_Amt',],axis=1)"
   ]
  },
  {
   "cell_type": "code",
   "execution_count": null,
   "id": "0e0c60ef",
   "metadata": {},
   "outputs": [],
   "source": []
  },
  {
   "cell_type": "code",
   "execution_count": 66,
   "id": "30bce6db",
   "metadata": {},
   "outputs": [
    {
     "data": {
      "text/plain": [
       "Index(['Rndrng_Prvdr_Crdntls', 'Rndrng_Prvdr_Gndr', 'Rndrng_Prvdr_Ent_Cd',\n",
       "       'Rndrng_Prvdr_RUCA', 'Rndrng_Prvdr_RUCA_Desc', 'Rndrng_Prvdr_Type',\n",
       "       'Rndrng_Prvdr_Mdcr_Prtcptg_Ind', 'Tot_Benes', 'Tot_Srvcs',\n",
       "       'Tot_Mdcr_Stdzd_Amt', 'Bene_Avg_Age', 'Bene_Age_LT_65_Cnt',\n",
       "       'Bene_Age_65_74_Cnt', 'Bene_Age_75_84_Cnt', 'Bene_Age_GT_84_Cnt',\n",
       "       'Bene_Feml_Cnt', 'Bene_Male_Cnt', 'Rndrng_NPI', 'Fraud'],\n",
       "      dtype='object')"
      ]
     },
     "execution_count": 66,
     "metadata": {},
     "output_type": "execute_result"
    }
   ],
   "source": [
    "partb.columns"
   ]
  },
  {
   "cell_type": "code",
   "execution_count": 67,
   "id": "3873fffb",
   "metadata": {},
   "outputs": [
    {
     "data": {
      "text/html": [
       "<div>\n",
       "<style scoped>\n",
       "    .dataframe tbody tr th:only-of-type {\n",
       "        vertical-align: middle;\n",
       "    }\n",
       "\n",
       "    .dataframe tbody tr th {\n",
       "        vertical-align: top;\n",
       "    }\n",
       "\n",
       "    .dataframe thead th {\n",
       "        text-align: right;\n",
       "    }\n",
       "</style>\n",
       "<table border=\"1\" class=\"dataframe\">\n",
       "  <thead>\n",
       "    <tr style=\"text-align: right;\">\n",
       "      <th></th>\n",
       "      <th>Rndrng_Prvdr_Crdntls</th>\n",
       "      <th>Rndrng_Prvdr_Gndr</th>\n",
       "      <th>Rndrng_Prvdr_Ent_Cd</th>\n",
       "      <th>Rndrng_Prvdr_RUCA</th>\n",
       "      <th>Rndrng_Prvdr_RUCA_Desc</th>\n",
       "      <th>Rndrng_Prvdr_Type</th>\n",
       "      <th>Rndrng_Prvdr_Mdcr_Prtcptg_Ind</th>\n",
       "      <th>Tot_Benes</th>\n",
       "      <th>Tot_Srvcs</th>\n",
       "      <th>Tot_Mdcr_Stdzd_Amt</th>\n",
       "      <th>Bene_Avg_Age</th>\n",
       "      <th>Bene_Age_LT_65_Cnt</th>\n",
       "      <th>Bene_Age_65_74_Cnt</th>\n",
       "      <th>Bene_Age_75_84_Cnt</th>\n",
       "      <th>Bene_Age_GT_84_Cnt</th>\n",
       "      <th>Bene_Feml_Cnt</th>\n",
       "      <th>Bene_Male_Cnt</th>\n",
       "      <th>Rndrng_NPI</th>\n",
       "      <th>Fraud</th>\n",
       "    </tr>\n",
       "  </thead>\n",
       "  <tbody>\n",
       "    <tr>\n",
       "      <th>565335</th>\n",
       "      <td>MD</td>\n",
       "      <td>0</td>\n",
       "      <td>I</td>\n",
       "      <td>1.0</td>\n",
       "      <td>Metropolitan area core: primary flow within an...</td>\n",
       "      <td>Interventional Cardiology</td>\n",
       "      <td>Y</td>\n",
       "      <td>754</td>\n",
       "      <td>1,550</td>\n",
       "      <td>$66,184.43</td>\n",
       "      <td>74</td>\n",
       "      <td>89</td>\n",
       "      <td>317</td>\n",
       "      <td>242</td>\n",
       "      <td>106</td>\n",
       "      <td>374</td>\n",
       "      <td>380</td>\n",
       "      <td>1487748836</td>\n",
       "      <td>0.0</td>\n",
       "    </tr>\n",
       "    <tr>\n",
       "      <th>739226</th>\n",
       "      <td>MD</td>\n",
       "      <td>0</td>\n",
       "      <td>I</td>\n",
       "      <td>4.0</td>\n",
       "      <td>Micropolitan area core: primary flow within an...</td>\n",
       "      <td>Internal Medicine</td>\n",
       "      <td>Y</td>\n",
       "      <td>140</td>\n",
       "      <td>334</td>\n",
       "      <td>$20,667.89</td>\n",
       "      <td>68</td>\n",
       "      <td>44</td>\n",
       "      <td>54</td>\n",
       "      <td>27</td>\n",
       "      <td>15</td>\n",
       "      <td>64</td>\n",
       "      <td>76</td>\n",
       "      <td>1639391121</td>\n",
       "      <td>0.0</td>\n",
       "    </tr>\n",
       "    <tr>\n",
       "      <th>579293</th>\n",
       "      <td>D.O.</td>\n",
       "      <td>1</td>\n",
       "      <td>I</td>\n",
       "      <td>1.0</td>\n",
       "      <td>Metropolitan area core: primary flow within an...</td>\n",
       "      <td>General Surgery</td>\n",
       "      <td>Y</td>\n",
       "      <td>62</td>\n",
       "      <td>181</td>\n",
       "      <td>$27,181.41</td>\n",
       "      <td>72</td>\n",
       "      <td>NaN</td>\n",
       "      <td>33</td>\n",
       "      <td>17</td>\n",
       "      <td>NaN</td>\n",
       "      <td>NaN</td>\n",
       "      <td>NaN</td>\n",
       "      <td>1497902308</td>\n",
       "      <td>0.0</td>\n",
       "    </tr>\n",
       "    <tr>\n",
       "      <th>914854</th>\n",
       "      <td>MD</td>\n",
       "      <td>1</td>\n",
       "      <td>I</td>\n",
       "      <td>1.0</td>\n",
       "      <td>Metropolitan area core: primary flow within an...</td>\n",
       "      <td>Surgical Oncology</td>\n",
       "      <td>Y</td>\n",
       "      <td>160</td>\n",
       "      <td>626</td>\n",
       "      <td>$48,821.24</td>\n",
       "      <td>76</td>\n",
       "      <td>NaN</td>\n",
       "      <td>63</td>\n",
       "      <td>67</td>\n",
       "      <td>NaN</td>\n",
       "      <td>81</td>\n",
       "      <td>79</td>\n",
       "      <td>1780811133</td>\n",
       "      <td>0.0</td>\n",
       "    </tr>\n",
       "    <tr>\n",
       "      <th>1119575</th>\n",
       "      <td>D.O.</td>\n",
       "      <td>0</td>\n",
       "      <td>I</td>\n",
       "      <td>1.0</td>\n",
       "      <td>Metropolitan area core: primary flow within an...</td>\n",
       "      <td>Family Practice</td>\n",
       "      <td>Y</td>\n",
       "      <td>499</td>\n",
       "      <td>829</td>\n",
       "      <td>$39,540.45</td>\n",
       "      <td>72</td>\n",
       "      <td>53</td>\n",
       "      <td>265</td>\n",
       "      <td>141</td>\n",
       "      <td>40</td>\n",
       "      <td>261</td>\n",
       "      <td>238</td>\n",
       "      <td>1962524355</td>\n",
       "      <td>0.0</td>\n",
       "    </tr>\n",
       "    <tr>\n",
       "      <th>...</th>\n",
       "      <td>...</td>\n",
       "      <td>...</td>\n",
       "      <td>...</td>\n",
       "      <td>...</td>\n",
       "      <td>...</td>\n",
       "      <td>...</td>\n",
       "      <td>...</td>\n",
       "      <td>...</td>\n",
       "      <td>...</td>\n",
       "      <td>...</td>\n",
       "      <td>...</td>\n",
       "      <td>...</td>\n",
       "      <td>...</td>\n",
       "      <td>...</td>\n",
       "      <td>...</td>\n",
       "      <td>...</td>\n",
       "      <td>...</td>\n",
       "      <td>...</td>\n",
       "      <td>...</td>\n",
       "    </tr>\n",
       "    <tr>\n",
       "      <th>803181</th>\n",
       "      <td>PA-C</td>\n",
       "      <td>1</td>\n",
       "      <td>I</td>\n",
       "      <td>1.0</td>\n",
       "      <td>Metropolitan area core: primary flow within an...</td>\n",
       "      <td>Physician Assistant</td>\n",
       "      <td>Y</td>\n",
       "      <td>157</td>\n",
       "      <td>198</td>\n",
       "      <td>$16,155.03</td>\n",
       "      <td>74</td>\n",
       "      <td>26</td>\n",
       "      <td>52</td>\n",
       "      <td>45</td>\n",
       "      <td>34</td>\n",
       "      <td>84</td>\n",
       "      <td>73</td>\n",
       "      <td>1699082552</td>\n",
       "      <td>0.0</td>\n",
       "    </tr>\n",
       "    <tr>\n",
       "      <th>607656</th>\n",
       "      <td>PT</td>\n",
       "      <td>0</td>\n",
       "      <td>I</td>\n",
       "      <td>2.0</td>\n",
       "      <td>Metropolitan area high commuting: primary flow...</td>\n",
       "      <td>Physical Therapist in Private Practice</td>\n",
       "      <td>Y</td>\n",
       "      <td>40</td>\n",
       "      <td>1,924</td>\n",
       "      <td>$40,012.43</td>\n",
       "      <td>74</td>\n",
       "      <td>NaN</td>\n",
       "      <td>NaN</td>\n",
       "      <td>16</td>\n",
       "      <td>NaN</td>\n",
       "      <td>23</td>\n",
       "      <td>17</td>\n",
       "      <td>1528091915</td>\n",
       "      <td>0.0</td>\n",
       "    </tr>\n",
       "    <tr>\n",
       "      <th>156761</th>\n",
       "      <td>M.D.</td>\n",
       "      <td>0</td>\n",
       "      <td>I</td>\n",
       "      <td>1.0</td>\n",
       "      <td>Metropolitan area core: primary flow within an...</td>\n",
       "      <td>Dermatology</td>\n",
       "      <td>Y</td>\n",
       "      <td>35</td>\n",
       "      <td>90</td>\n",
       "      <td>$6,818.78</td>\n",
       "      <td>76</td>\n",
       "      <td>NaN</td>\n",
       "      <td>18</td>\n",
       "      <td>NaN</td>\n",
       "      <td>NaN</td>\n",
       "      <td>23</td>\n",
       "      <td>12</td>\n",
       "      <td>1134319411</td>\n",
       "      <td>0.0</td>\n",
       "    </tr>\n",
       "    <tr>\n",
       "      <th>816944</th>\n",
       "      <td>NaN</td>\n",
       "      <td>1</td>\n",
       "      <td>I</td>\n",
       "      <td>1.0</td>\n",
       "      <td>Metropolitan area core: primary flow within an...</td>\n",
       "      <td>Nurse Practitioner</td>\n",
       "      <td>Y</td>\n",
       "      <td>195</td>\n",
       "      <td>383</td>\n",
       "      <td>$18,244.73</td>\n",
       "      <td>72</td>\n",
       "      <td>31</td>\n",
       "      <td>95</td>\n",
       "      <td>51</td>\n",
       "      <td>18</td>\n",
       "      <td>97</td>\n",
       "      <td>98</td>\n",
       "      <td>1700239175</td>\n",
       "      <td>0.0</td>\n",
       "    </tr>\n",
       "    <tr>\n",
       "      <th>843509</th>\n",
       "      <td>MD</td>\n",
       "      <td>0</td>\n",
       "      <td>I</td>\n",
       "      <td>1.0</td>\n",
       "      <td>Metropolitan area core: primary flow within an...</td>\n",
       "      <td>Pediatric Medicine</td>\n",
       "      <td>Y</td>\n",
       "      <td>12</td>\n",
       "      <td>16</td>\n",
       "      <td>$1,061.34</td>\n",
       "      <td>74</td>\n",
       "      <td>NaN</td>\n",
       "      <td>NaN</td>\n",
       "      <td>NaN</td>\n",
       "      <td>NaN</td>\n",
       "      <td>NaN</td>\n",
       "      <td>NaN</td>\n",
       "      <td>1720282890</td>\n",
       "      <td>0.0</td>\n",
       "    </tr>\n",
       "  </tbody>\n",
       "</table>\n",
       "<p>11615 rows × 19 columns</p>\n",
       "</div>"
      ],
      "text/plain": [
       "        Rndrng_Prvdr_Crdntls  Rndrng_Prvdr_Gndr Rndrng_Prvdr_Ent_Cd  \\\n",
       "565335                    MD                  0                   I   \n",
       "739226                    MD                  0                   I   \n",
       "579293                  D.O.                  1                   I   \n",
       "914854                    MD                  1                   I   \n",
       "1119575                 D.O.                  0                   I   \n",
       "...                      ...                ...                 ...   \n",
       "803181                  PA-C                  1                   I   \n",
       "607656                    PT                  0                   I   \n",
       "156761                  M.D.                  0                   I   \n",
       "816944                   NaN                  1                   I   \n",
       "843509                    MD                  0                   I   \n",
       "\n",
       "         Rndrng_Prvdr_RUCA                             Rndrng_Prvdr_RUCA_Desc  \\\n",
       "565335                 1.0  Metropolitan area core: primary flow within an...   \n",
       "739226                 4.0  Micropolitan area core: primary flow within an...   \n",
       "579293                 1.0  Metropolitan area core: primary flow within an...   \n",
       "914854                 1.0  Metropolitan area core: primary flow within an...   \n",
       "1119575                1.0  Metropolitan area core: primary flow within an...   \n",
       "...                    ...                                                ...   \n",
       "803181                 1.0  Metropolitan area core: primary flow within an...   \n",
       "607656                 2.0  Metropolitan area high commuting: primary flow...   \n",
       "156761                 1.0  Metropolitan area core: primary flow within an...   \n",
       "816944                 1.0  Metropolitan area core: primary flow within an...   \n",
       "843509                 1.0  Metropolitan area core: primary flow within an...   \n",
       "\n",
       "                              Rndrng_Prvdr_Type Rndrng_Prvdr_Mdcr_Prtcptg_Ind  \\\n",
       "565335                Interventional Cardiology                             Y   \n",
       "739226                        Internal Medicine                             Y   \n",
       "579293                          General Surgery                             Y   \n",
       "914854                        Surgical Oncology                             Y   \n",
       "1119575                         Family Practice                             Y   \n",
       "...                                         ...                           ...   \n",
       "803181                      Physician Assistant                             Y   \n",
       "607656   Physical Therapist in Private Practice                             Y   \n",
       "156761                              Dermatology                             Y   \n",
       "816944                       Nurse Practitioner                             Y   \n",
       "843509                       Pediatric Medicine                             Y   \n",
       "\n",
       "        Tot_Benes Tot_Srvcs Tot_Mdcr_Stdzd_Amt  Bene_Avg_Age  \\\n",
       "565335        754     1,550         $66,184.43            74   \n",
       "739226        140       334         $20,667.89            68   \n",
       "579293         62       181         $27,181.41            72   \n",
       "914854        160       626         $48,821.24            76   \n",
       "1119575       499       829         $39,540.45            72   \n",
       "...           ...       ...                ...           ...   \n",
       "803181        157       198         $16,155.03            74   \n",
       "607656         40     1,924         $40,012.43            74   \n",
       "156761         35        90          $6,818.78            76   \n",
       "816944        195       383         $18,244.73            72   \n",
       "843509         12        16          $1,061.34            74   \n",
       "\n",
       "        Bene_Age_LT_65_Cnt Bene_Age_65_74_Cnt Bene_Age_75_84_Cnt  \\\n",
       "565335                  89                317                242   \n",
       "739226                  44                 54                 27   \n",
       "579293                 NaN                 33                 17   \n",
       "914854                 NaN                 63                 67   \n",
       "1119575                 53                265                141   \n",
       "...                    ...                ...                ...   \n",
       "803181                  26                 52                 45   \n",
       "607656                 NaN                NaN                 16   \n",
       "156761                 NaN                 18                NaN   \n",
       "816944                  31                 95                 51   \n",
       "843509                 NaN                NaN                NaN   \n",
       "\n",
       "        Bene_Age_GT_84_Cnt Bene_Feml_Cnt Bene_Male_Cnt  Rndrng_NPI  Fraud  \n",
       "565335                 106           374           380  1487748836    0.0  \n",
       "739226                  15            64            76  1639391121    0.0  \n",
       "579293                 NaN           NaN           NaN  1497902308    0.0  \n",
       "914854                 NaN            81            79  1780811133    0.0  \n",
       "1119575                 40           261           238  1962524355    0.0  \n",
       "...                    ...           ...           ...         ...    ...  \n",
       "803181                  34            84            73  1699082552    0.0  \n",
       "607656                 NaN            23            17  1528091915    0.0  \n",
       "156761                 NaN            23            12  1134319411    0.0  \n",
       "816944                  18            97            98  1700239175    0.0  \n",
       "843509                 NaN           NaN           NaN  1720282890    0.0  \n",
       "\n",
       "[11615 rows x 19 columns]"
      ]
     },
     "execution_count": 67,
     "metadata": {},
     "output_type": "execute_result"
    }
   ],
   "source": [
    "partb"
   ]
  },
  {
   "cell_type": "code",
   "execution_count": null,
   "id": "9ae76ca1",
   "metadata": {},
   "outputs": [],
   "source": []
  },
  {
   "cell_type": "code",
   "execution_count": 68,
   "id": "196c04a7",
   "metadata": {},
   "outputs": [],
   "source": [
    "partb[\"Tot_Benes\"] = partb[\"Tot_Benes\"].apply(lambda row : float(row.replace(\",\",\"\")) if \",\" in row else row)"
   ]
  },
  {
   "cell_type": "code",
   "execution_count": 69,
   "id": "f586b144",
   "metadata": {},
   "outputs": [
    {
     "data": {
      "text/plain": [
       "0"
      ]
     },
     "execution_count": 69,
     "metadata": {},
     "output_type": "execute_result"
    }
   ],
   "source": [
    "partb[\"Tot_Benes\"].isnull().sum()"
   ]
  },
  {
   "cell_type": "code",
   "execution_count": 70,
   "id": "2997baec",
   "metadata": {},
   "outputs": [
    {
     "data": {
      "text/plain": [
       "True"
      ]
     },
     "execution_count": 70,
     "metadata": {},
     "output_type": "execute_result"
    }
   ],
   "source": [
    "x=\"123ew\"\n",
    "\"2\" in x"
   ]
  },
  {
   "cell_type": "code",
   "execution_count": null,
   "id": "2c23bb53",
   "metadata": {},
   "outputs": [],
   "source": []
  },
  {
   "cell_type": "code",
   "execution_count": 71,
   "id": "ee472b51",
   "metadata": {},
   "outputs": [
    {
     "data": {
      "text/plain": [
       "565335     0\n",
       "739226     0\n",
       "579293     0\n",
       "914854     0\n",
       "1119575    0\n",
       "          ..\n",
       "803181     0\n",
       "607656     0\n",
       "156761     0\n",
       "816944     0\n",
       "843509     0\n",
       "Name: Rndrng_Prvdr_Gndr, Length: 11615, dtype: int64"
      ]
     },
     "execution_count": 71,
     "metadata": {},
     "output_type": "execute_result"
    }
   ],
   "source": [
    "partb[\"Rndrng_Prvdr_Gndr\"].apply(lambda row : 1 if row==\"M\" else 0)"
   ]
  },
  {
   "cell_type": "code",
   "execution_count": 72,
   "id": "94eaa95e",
   "metadata": {},
   "outputs": [
    {
     "data": {
      "text/plain": [
       "565335     0\n",
       "739226     0\n",
       "579293     1\n",
       "914854     1\n",
       "1119575    0\n",
       "          ..\n",
       "803181     1\n",
       "607656     0\n",
       "156761     0\n",
       "816944     1\n",
       "843509     0\n",
       "Name: Rndrng_Prvdr_Gndr, Length: 11615, dtype: int64"
      ]
     },
     "execution_count": 72,
     "metadata": {},
     "output_type": "execute_result"
    }
   ],
   "source": [
    "partb[\"Rndrng_Prvdr_Gndr\"]"
   ]
  },
  {
   "cell_type": "code",
   "execution_count": 73,
   "id": "8ca3f466",
   "metadata": {},
   "outputs": [
    {
     "data": {
      "text/html": [
       "<div>\n",
       "<style scoped>\n",
       "    .dataframe tbody tr th:only-of-type {\n",
       "        vertical-align: middle;\n",
       "    }\n",
       "\n",
       "    .dataframe tbody tr th {\n",
       "        vertical-align: top;\n",
       "    }\n",
       "\n",
       "    .dataframe thead th {\n",
       "        text-align: right;\n",
       "    }\n",
       "</style>\n",
       "<table border=\"1\" class=\"dataframe\">\n",
       "  <thead>\n",
       "    <tr style=\"text-align: right;\">\n",
       "      <th></th>\n",
       "      <th>0</th>\n",
       "      <th>1</th>\n",
       "    </tr>\n",
       "  </thead>\n",
       "  <tbody>\n",
       "    <tr>\n",
       "      <th>565335</th>\n",
       "      <td>1</td>\n",
       "      <td>0</td>\n",
       "    </tr>\n",
       "    <tr>\n",
       "      <th>739226</th>\n",
       "      <td>1</td>\n",
       "      <td>0</td>\n",
       "    </tr>\n",
       "    <tr>\n",
       "      <th>579293</th>\n",
       "      <td>0</td>\n",
       "      <td>1</td>\n",
       "    </tr>\n",
       "    <tr>\n",
       "      <th>914854</th>\n",
       "      <td>0</td>\n",
       "      <td>1</td>\n",
       "    </tr>\n",
       "    <tr>\n",
       "      <th>1119575</th>\n",
       "      <td>1</td>\n",
       "      <td>0</td>\n",
       "    </tr>\n",
       "    <tr>\n",
       "      <th>...</th>\n",
       "      <td>...</td>\n",
       "      <td>...</td>\n",
       "    </tr>\n",
       "    <tr>\n",
       "      <th>803181</th>\n",
       "      <td>0</td>\n",
       "      <td>1</td>\n",
       "    </tr>\n",
       "    <tr>\n",
       "      <th>607656</th>\n",
       "      <td>1</td>\n",
       "      <td>0</td>\n",
       "    </tr>\n",
       "    <tr>\n",
       "      <th>156761</th>\n",
       "      <td>1</td>\n",
       "      <td>0</td>\n",
       "    </tr>\n",
       "    <tr>\n",
       "      <th>816944</th>\n",
       "      <td>0</td>\n",
       "      <td>1</td>\n",
       "    </tr>\n",
       "    <tr>\n",
       "      <th>843509</th>\n",
       "      <td>1</td>\n",
       "      <td>0</td>\n",
       "    </tr>\n",
       "  </tbody>\n",
       "</table>\n",
       "<p>11615 rows × 2 columns</p>\n",
       "</div>"
      ],
      "text/plain": [
       "         0  1\n",
       "565335   1  0\n",
       "739226   1  0\n",
       "579293   0  1\n",
       "914854   0  1\n",
       "1119575  1  0\n",
       "...     .. ..\n",
       "803181   0  1\n",
       "607656   1  0\n",
       "156761   1  0\n",
       "816944   0  1\n",
       "843509   1  0\n",
       "\n",
       "[11615 rows x 2 columns]"
      ]
     },
     "execution_count": 73,
     "metadata": {},
     "output_type": "execute_result"
    }
   ],
   "source": [
    "pd.get_dummies(partb[\"Rndrng_Prvdr_Gndr\"])"
   ]
  },
  {
   "cell_type": "code",
   "execution_count": 77,
   "id": "803f4797",
   "metadata": {},
   "outputs": [],
   "source": [
    "partb = pd.concat([partb,pd.get_dummies(partb[\"Rndrng_Prvdr_Gndr\"])],axis=1)"
   ]
  },
  {
   "cell_type": "code",
   "execution_count": null,
   "id": "bd8caa8d",
   "metadata": {},
   "outputs": [],
   "source": []
  },
  {
   "cell_type": "code",
   "execution_count": 78,
   "id": "10182cb0",
   "metadata": {},
   "outputs": [
    {
     "data": {
      "text/plain": [
       "(11615, 88)"
      ]
     },
     "execution_count": 78,
     "metadata": {},
     "output_type": "execute_result"
    }
   ],
   "source": [
    "pd.get_dummies(partb[\"Rndrng_Prvdr_Type\"]).shape"
   ]
  },
  {
   "cell_type": "code",
   "execution_count": 79,
   "id": "edf901f2",
   "metadata": {},
   "outputs": [],
   "source": [
    "partb = pd.concat([partb,pd.get_dummies(partb[\"Rndrng_Prvdr_Type\"])],axis=1)"
   ]
  },
  {
   "cell_type": "code",
   "execution_count": 80,
   "id": "1e5fb674",
   "metadata": {},
   "outputs": [
    {
     "data": {
      "text/plain": [
       "(11615, 109)"
      ]
     },
     "execution_count": 80,
     "metadata": {},
     "output_type": "execute_result"
    }
   ],
   "source": [
    "partb.shape"
   ]
  },
  {
   "cell_type": "code",
   "execution_count": null,
   "id": "4b1613c5",
   "metadata": {},
   "outputs": [],
   "source": []
  },
  {
   "cell_type": "code",
   "execution_count": null,
   "id": "fceae1fc",
   "metadata": {},
   "outputs": [],
   "source": []
  },
  {
   "cell_type": "code",
   "execution_count": 81,
   "id": "281a30bf",
   "metadata": {},
   "outputs": [
    {
     "data": {
      "text/plain": [
       "I    11003\n",
       "O      612\n",
       "Name: Rndrng_Prvdr_Ent_Cd, dtype: int64"
      ]
     },
     "execution_count": 81,
     "metadata": {},
     "output_type": "execute_result"
    }
   ],
   "source": [
    "partb[\"Rndrng_Prvdr_Ent_Cd\"].value_counts()"
   ]
  },
  {
   "cell_type": "code",
   "execution_count": 82,
   "id": "22fe694d",
   "metadata": {},
   "outputs": [],
   "source": [
    "partb[[\"Individual\",\"Organization\"]] = pd.get_dummies(partb[\"Rndrng_Prvdr_Ent_Cd\"])"
   ]
  },
  {
   "cell_type": "code",
   "execution_count": 83,
   "id": "33e95767",
   "metadata": {},
   "outputs": [
    {
     "data": {
      "text/plain": [
       "1    11003\n",
       "0      612\n",
       "Name: Individual, dtype: int64"
      ]
     },
     "execution_count": 83,
     "metadata": {},
     "output_type": "execute_result"
    }
   ],
   "source": [
    "partb[\"Individual\"].value_counts()"
   ]
  },
  {
   "cell_type": "code",
   "execution_count": null,
   "id": "8f045878",
   "metadata": {},
   "outputs": [],
   "source": []
  },
  {
   "cell_type": "code",
   "execution_count": null,
   "id": "e11ce0ec",
   "metadata": {},
   "outputs": [],
   "source": []
  },
  {
   "cell_type": "code",
   "execution_count": 84,
   "id": "4f96d9c5",
   "metadata": {},
   "outputs": [
    {
     "data": {
      "text/html": [
       "<div>\n",
       "<style scoped>\n",
       "    .dataframe tbody tr th:only-of-type {\n",
       "        vertical-align: middle;\n",
       "    }\n",
       "\n",
       "    .dataframe tbody tr th {\n",
       "        vertical-align: top;\n",
       "    }\n",
       "\n",
       "    .dataframe thead th {\n",
       "        text-align: right;\n",
       "    }\n",
       "</style>\n",
       "<table border=\"1\" class=\"dataframe\">\n",
       "  <thead>\n",
       "    <tr style=\"text-align: right;\">\n",
       "      <th></th>\n",
       "      <th>Rndrng_Prvdr_Gndr</th>\n",
       "      <th>Rndrng_Prvdr_Ent_Cd</th>\n",
       "      <th>Rndrng_Prvdr_RUCA</th>\n",
       "      <th>Rndrng_Prvdr_RUCA_Desc</th>\n",
       "      <th>Rndrng_Prvdr_Type</th>\n",
       "      <th>Rndrng_Prvdr_Mdcr_Prtcptg_Ind</th>\n",
       "      <th>Tot_Benes</th>\n",
       "      <th>Tot_Srvcs</th>\n",
       "      <th>Tot_Mdcr_Stdzd_Amt</th>\n",
       "      <th>Bene_Avg_Age</th>\n",
       "      <th>...</th>\n",
       "      <th>Speech Language Pathologist</th>\n",
       "      <th>Sports Medicine</th>\n",
       "      <th>Surgical Oncology</th>\n",
       "      <th>Thoracic Surgery</th>\n",
       "      <th>Undefined Physician type</th>\n",
       "      <th>Undersea and Hyperbaric Medicine</th>\n",
       "      <th>Urology</th>\n",
       "      <th>Vascular Surgery</th>\n",
       "      <th>Individual</th>\n",
       "      <th>Organization</th>\n",
       "    </tr>\n",
       "  </thead>\n",
       "  <tbody>\n",
       "    <tr>\n",
       "      <th>565335</th>\n",
       "      <td>0</td>\n",
       "      <td>I</td>\n",
       "      <td>1.0</td>\n",
       "      <td>Metropolitan area core: primary flow within an...</td>\n",
       "      <td>Interventional Cardiology</td>\n",
       "      <td>Y</td>\n",
       "      <td>754</td>\n",
       "      <td>1,550</td>\n",
       "      <td>$66,184.43</td>\n",
       "      <td>74</td>\n",
       "      <td>...</td>\n",
       "      <td>0</td>\n",
       "      <td>0</td>\n",
       "      <td>0</td>\n",
       "      <td>0</td>\n",
       "      <td>0</td>\n",
       "      <td>0</td>\n",
       "      <td>0</td>\n",
       "      <td>0</td>\n",
       "      <td>1</td>\n",
       "      <td>0</td>\n",
       "    </tr>\n",
       "    <tr>\n",
       "      <th>739226</th>\n",
       "      <td>0</td>\n",
       "      <td>I</td>\n",
       "      <td>4.0</td>\n",
       "      <td>Micropolitan area core: primary flow within an...</td>\n",
       "      <td>Internal Medicine</td>\n",
       "      <td>Y</td>\n",
       "      <td>140</td>\n",
       "      <td>334</td>\n",
       "      <td>$20,667.89</td>\n",
       "      <td>68</td>\n",
       "      <td>...</td>\n",
       "      <td>0</td>\n",
       "      <td>0</td>\n",
       "      <td>0</td>\n",
       "      <td>0</td>\n",
       "      <td>0</td>\n",
       "      <td>0</td>\n",
       "      <td>0</td>\n",
       "      <td>0</td>\n",
       "      <td>1</td>\n",
       "      <td>0</td>\n",
       "    </tr>\n",
       "    <tr>\n",
       "      <th>579293</th>\n",
       "      <td>1</td>\n",
       "      <td>I</td>\n",
       "      <td>1.0</td>\n",
       "      <td>Metropolitan area core: primary flow within an...</td>\n",
       "      <td>General Surgery</td>\n",
       "      <td>Y</td>\n",
       "      <td>62</td>\n",
       "      <td>181</td>\n",
       "      <td>$27,181.41</td>\n",
       "      <td>72</td>\n",
       "      <td>...</td>\n",
       "      <td>0</td>\n",
       "      <td>0</td>\n",
       "      <td>0</td>\n",
       "      <td>0</td>\n",
       "      <td>0</td>\n",
       "      <td>0</td>\n",
       "      <td>0</td>\n",
       "      <td>0</td>\n",
       "      <td>1</td>\n",
       "      <td>0</td>\n",
       "    </tr>\n",
       "    <tr>\n",
       "      <th>914854</th>\n",
       "      <td>1</td>\n",
       "      <td>I</td>\n",
       "      <td>1.0</td>\n",
       "      <td>Metropolitan area core: primary flow within an...</td>\n",
       "      <td>Surgical Oncology</td>\n",
       "      <td>Y</td>\n",
       "      <td>160</td>\n",
       "      <td>626</td>\n",
       "      <td>$48,821.24</td>\n",
       "      <td>76</td>\n",
       "      <td>...</td>\n",
       "      <td>0</td>\n",
       "      <td>0</td>\n",
       "      <td>1</td>\n",
       "      <td>0</td>\n",
       "      <td>0</td>\n",
       "      <td>0</td>\n",
       "      <td>0</td>\n",
       "      <td>0</td>\n",
       "      <td>1</td>\n",
       "      <td>0</td>\n",
       "    </tr>\n",
       "    <tr>\n",
       "      <th>1119575</th>\n",
       "      <td>0</td>\n",
       "      <td>I</td>\n",
       "      <td>1.0</td>\n",
       "      <td>Metropolitan area core: primary flow within an...</td>\n",
       "      <td>Family Practice</td>\n",
       "      <td>Y</td>\n",
       "      <td>499</td>\n",
       "      <td>829</td>\n",
       "      <td>$39,540.45</td>\n",
       "      <td>72</td>\n",
       "      <td>...</td>\n",
       "      <td>0</td>\n",
       "      <td>0</td>\n",
       "      <td>0</td>\n",
       "      <td>0</td>\n",
       "      <td>0</td>\n",
       "      <td>0</td>\n",
       "      <td>0</td>\n",
       "      <td>0</td>\n",
       "      <td>1</td>\n",
       "      <td>0</td>\n",
       "    </tr>\n",
       "    <tr>\n",
       "      <th>...</th>\n",
       "      <td>...</td>\n",
       "      <td>...</td>\n",
       "      <td>...</td>\n",
       "      <td>...</td>\n",
       "      <td>...</td>\n",
       "      <td>...</td>\n",
       "      <td>...</td>\n",
       "      <td>...</td>\n",
       "      <td>...</td>\n",
       "      <td>...</td>\n",
       "      <td>...</td>\n",
       "      <td>...</td>\n",
       "      <td>...</td>\n",
       "      <td>...</td>\n",
       "      <td>...</td>\n",
       "      <td>...</td>\n",
       "      <td>...</td>\n",
       "      <td>...</td>\n",
       "      <td>...</td>\n",
       "      <td>...</td>\n",
       "      <td>...</td>\n",
       "    </tr>\n",
       "    <tr>\n",
       "      <th>803181</th>\n",
       "      <td>1</td>\n",
       "      <td>I</td>\n",
       "      <td>1.0</td>\n",
       "      <td>Metropolitan area core: primary flow within an...</td>\n",
       "      <td>Physician Assistant</td>\n",
       "      <td>Y</td>\n",
       "      <td>157</td>\n",
       "      <td>198</td>\n",
       "      <td>$16,155.03</td>\n",
       "      <td>74</td>\n",
       "      <td>...</td>\n",
       "      <td>0</td>\n",
       "      <td>0</td>\n",
       "      <td>0</td>\n",
       "      <td>0</td>\n",
       "      <td>0</td>\n",
       "      <td>0</td>\n",
       "      <td>0</td>\n",
       "      <td>0</td>\n",
       "      <td>1</td>\n",
       "      <td>0</td>\n",
       "    </tr>\n",
       "    <tr>\n",
       "      <th>607656</th>\n",
       "      <td>0</td>\n",
       "      <td>I</td>\n",
       "      <td>2.0</td>\n",
       "      <td>Metropolitan area high commuting: primary flow...</td>\n",
       "      <td>Physical Therapist in Private Practice</td>\n",
       "      <td>Y</td>\n",
       "      <td>40</td>\n",
       "      <td>1,924</td>\n",
       "      <td>$40,012.43</td>\n",
       "      <td>74</td>\n",
       "      <td>...</td>\n",
       "      <td>0</td>\n",
       "      <td>0</td>\n",
       "      <td>0</td>\n",
       "      <td>0</td>\n",
       "      <td>0</td>\n",
       "      <td>0</td>\n",
       "      <td>0</td>\n",
       "      <td>0</td>\n",
       "      <td>1</td>\n",
       "      <td>0</td>\n",
       "    </tr>\n",
       "    <tr>\n",
       "      <th>156761</th>\n",
       "      <td>0</td>\n",
       "      <td>I</td>\n",
       "      <td>1.0</td>\n",
       "      <td>Metropolitan area core: primary flow within an...</td>\n",
       "      <td>Dermatology</td>\n",
       "      <td>Y</td>\n",
       "      <td>35</td>\n",
       "      <td>90</td>\n",
       "      <td>$6,818.78</td>\n",
       "      <td>76</td>\n",
       "      <td>...</td>\n",
       "      <td>0</td>\n",
       "      <td>0</td>\n",
       "      <td>0</td>\n",
       "      <td>0</td>\n",
       "      <td>0</td>\n",
       "      <td>0</td>\n",
       "      <td>0</td>\n",
       "      <td>0</td>\n",
       "      <td>1</td>\n",
       "      <td>0</td>\n",
       "    </tr>\n",
       "    <tr>\n",
       "      <th>816944</th>\n",
       "      <td>1</td>\n",
       "      <td>I</td>\n",
       "      <td>1.0</td>\n",
       "      <td>Metropolitan area core: primary flow within an...</td>\n",
       "      <td>Nurse Practitioner</td>\n",
       "      <td>Y</td>\n",
       "      <td>195</td>\n",
       "      <td>383</td>\n",
       "      <td>$18,244.73</td>\n",
       "      <td>72</td>\n",
       "      <td>...</td>\n",
       "      <td>0</td>\n",
       "      <td>0</td>\n",
       "      <td>0</td>\n",
       "      <td>0</td>\n",
       "      <td>0</td>\n",
       "      <td>0</td>\n",
       "      <td>0</td>\n",
       "      <td>0</td>\n",
       "      <td>1</td>\n",
       "      <td>0</td>\n",
       "    </tr>\n",
       "    <tr>\n",
       "      <th>843509</th>\n",
       "      <td>0</td>\n",
       "      <td>I</td>\n",
       "      <td>1.0</td>\n",
       "      <td>Metropolitan area core: primary flow within an...</td>\n",
       "      <td>Pediatric Medicine</td>\n",
       "      <td>Y</td>\n",
       "      <td>12</td>\n",
       "      <td>16</td>\n",
       "      <td>$1,061.34</td>\n",
       "      <td>74</td>\n",
       "      <td>...</td>\n",
       "      <td>0</td>\n",
       "      <td>0</td>\n",
       "      <td>0</td>\n",
       "      <td>0</td>\n",
       "      <td>0</td>\n",
       "      <td>0</td>\n",
       "      <td>0</td>\n",
       "      <td>0</td>\n",
       "      <td>1</td>\n",
       "      <td>0</td>\n",
       "    </tr>\n",
       "  </tbody>\n",
       "</table>\n",
       "<p>11615 rows × 110 columns</p>\n",
       "</div>"
      ],
      "text/plain": [
       "         Rndrng_Prvdr_Gndr Rndrng_Prvdr_Ent_Cd  Rndrng_Prvdr_RUCA  \\\n",
       "565335                   0                   I                1.0   \n",
       "739226                   0                   I                4.0   \n",
       "579293                   1                   I                1.0   \n",
       "914854                   1                   I                1.0   \n",
       "1119575                  0                   I                1.0   \n",
       "...                    ...                 ...                ...   \n",
       "803181                   1                   I                1.0   \n",
       "607656                   0                   I                2.0   \n",
       "156761                   0                   I                1.0   \n",
       "816944                   1                   I                1.0   \n",
       "843509                   0                   I                1.0   \n",
       "\n",
       "                                    Rndrng_Prvdr_RUCA_Desc  \\\n",
       "565335   Metropolitan area core: primary flow within an...   \n",
       "739226   Micropolitan area core: primary flow within an...   \n",
       "579293   Metropolitan area core: primary flow within an...   \n",
       "914854   Metropolitan area core: primary flow within an...   \n",
       "1119575  Metropolitan area core: primary flow within an...   \n",
       "...                                                    ...   \n",
       "803181   Metropolitan area core: primary flow within an...   \n",
       "607656   Metropolitan area high commuting: primary flow...   \n",
       "156761   Metropolitan area core: primary flow within an...   \n",
       "816944   Metropolitan area core: primary flow within an...   \n",
       "843509   Metropolitan area core: primary flow within an...   \n",
       "\n",
       "                              Rndrng_Prvdr_Type Rndrng_Prvdr_Mdcr_Prtcptg_Ind  \\\n",
       "565335                Interventional Cardiology                             Y   \n",
       "739226                        Internal Medicine                             Y   \n",
       "579293                          General Surgery                             Y   \n",
       "914854                        Surgical Oncology                             Y   \n",
       "1119575                         Family Practice                             Y   \n",
       "...                                         ...                           ...   \n",
       "803181                      Physician Assistant                             Y   \n",
       "607656   Physical Therapist in Private Practice                             Y   \n",
       "156761                              Dermatology                             Y   \n",
       "816944                       Nurse Practitioner                             Y   \n",
       "843509                       Pediatric Medicine                             Y   \n",
       "\n",
       "        Tot_Benes Tot_Srvcs Tot_Mdcr_Stdzd_Amt  Bene_Avg_Age  ...  \\\n",
       "565335        754     1,550         $66,184.43            74  ...   \n",
       "739226        140       334         $20,667.89            68  ...   \n",
       "579293         62       181         $27,181.41            72  ...   \n",
       "914854        160       626         $48,821.24            76  ...   \n",
       "1119575       499       829         $39,540.45            72  ...   \n",
       "...           ...       ...                ...           ...  ...   \n",
       "803181        157       198         $16,155.03            74  ...   \n",
       "607656         40     1,924         $40,012.43            74  ...   \n",
       "156761         35        90          $6,818.78            76  ...   \n",
       "816944        195       383         $18,244.73            72  ...   \n",
       "843509         12        16          $1,061.34            74  ...   \n",
       "\n",
       "        Speech Language Pathologist Sports Medicine Surgical Oncology  \\\n",
       "565335                            0               0                 0   \n",
       "739226                            0               0                 0   \n",
       "579293                            0               0                 0   \n",
       "914854                            0               0                 1   \n",
       "1119575                           0               0                 0   \n",
       "...                             ...             ...               ...   \n",
       "803181                            0               0                 0   \n",
       "607656                            0               0                 0   \n",
       "156761                            0               0                 0   \n",
       "816944                            0               0                 0   \n",
       "843509                            0               0                 0   \n",
       "\n",
       "        Thoracic Surgery Undefined Physician type  \\\n",
       "565335                 0                        0   \n",
       "739226                 0                        0   \n",
       "579293                 0                        0   \n",
       "914854                 0                        0   \n",
       "1119575                0                        0   \n",
       "...                  ...                      ...   \n",
       "803181                 0                        0   \n",
       "607656                 0                        0   \n",
       "156761                 0                        0   \n",
       "816944                 0                        0   \n",
       "843509                 0                        0   \n",
       "\n",
       "        Undersea and Hyperbaric Medicine  Urology  Vascular Surgery  \\\n",
       "565335                                 0        0                 0   \n",
       "739226                                 0        0                 0   \n",
       "579293                                 0        0                 0   \n",
       "914854                                 0        0                 0   \n",
       "1119575                                0        0                 0   \n",
       "...                                  ...      ...               ...   \n",
       "803181                                 0        0                 0   \n",
       "607656                                 0        0                 0   \n",
       "156761                                 0        0                 0   \n",
       "816944                                 0        0                 0   \n",
       "843509                                 0        0                 0   \n",
       "\n",
       "         Individual  Organization  \n",
       "565335            1             0  \n",
       "739226            1             0  \n",
       "579293            1             0  \n",
       "914854            1             0  \n",
       "1119575           1             0  \n",
       "...             ...           ...  \n",
       "803181            1             0  \n",
       "607656            1             0  \n",
       "156761            1             0  \n",
       "816944            1             0  \n",
       "843509            1             0  \n",
       "\n",
       "[11615 rows x 110 columns]"
      ]
     },
     "execution_count": 84,
     "metadata": {},
     "output_type": "execute_result"
    }
   ],
   "source": [
    "partb.drop(\"Rndrng_Prvdr_Crdntls\",axis=1)"
   ]
  },
  {
   "cell_type": "code",
   "execution_count": 85,
   "id": "413a1c9e",
   "metadata": {},
   "outputs": [],
   "source": [
    "partb = partb.drop([\"Rndrng_Prvdr_Mdcr_Prtcptg_Ind\",\"Bene_Avg_Age\",\"Rndrng_Prvdr_Crdntls\",\"Rndrng_Prvdr_RUCA_Desc\",\"Bene_Age_LT_65_Cnt\",\"Rndrng_Prvdr_Ent_Cd\",\"Bene_Age_75_84_Cnt\",\"Bene_Age_GT_84_Cnt\",\"Bene_Feml_Cnt\",\"Bene_Age_65_74_Cnt\",\"Bene_Male_Cnt\"],axis=1)"
   ]
  },
  {
   "cell_type": "code",
   "execution_count": 86,
   "id": "d348b2c8",
   "metadata": {},
   "outputs": [],
   "source": [
    "partb = partb.drop(\"Rndrng_Prvdr_Gndr\",axis=1)"
   ]
  },
  {
   "cell_type": "code",
   "execution_count": 87,
   "id": "365c794c",
   "metadata": {},
   "outputs": [],
   "source": [
    "partb[\"Tot_Mdcr_Stdzd_Amt\"] = partb[\"Tot_Mdcr_Stdzd_Amt\"].apply(lambda row: float(row.replace(\"$\",\"\").replace(\",\",\"\")) if row[0:1]==\"$\" else \"NaN\")"
   ]
  },
  {
   "cell_type": "code",
   "execution_count": 88,
   "id": "e06d0b8a",
   "metadata": {},
   "outputs": [
    {
     "data": {
      "text/html": [
       "<div>\n",
       "<style scoped>\n",
       "    .dataframe tbody tr th:only-of-type {\n",
       "        vertical-align: middle;\n",
       "    }\n",
       "\n",
       "    .dataframe tbody tr th {\n",
       "        vertical-align: top;\n",
       "    }\n",
       "\n",
       "    .dataframe thead th {\n",
       "        text-align: right;\n",
       "    }\n",
       "</style>\n",
       "<table border=\"1\" class=\"dataframe\">\n",
       "  <thead>\n",
       "    <tr style=\"text-align: right;\">\n",
       "      <th></th>\n",
       "      <th>Rndrng_Prvdr_RUCA</th>\n",
       "      <th>Rndrng_Prvdr_Type</th>\n",
       "      <th>Tot_Benes</th>\n",
       "      <th>Tot_Srvcs</th>\n",
       "      <th>Tot_Mdcr_Stdzd_Amt</th>\n",
       "      <th>Rndrng_NPI</th>\n",
       "      <th>Fraud</th>\n",
       "      <th>0</th>\n",
       "      <th>1</th>\n",
       "      <th>Addiction Medicine</th>\n",
       "      <th>...</th>\n",
       "      <th>Speech Language Pathologist</th>\n",
       "      <th>Sports Medicine</th>\n",
       "      <th>Surgical Oncology</th>\n",
       "      <th>Thoracic Surgery</th>\n",
       "      <th>Undefined Physician type</th>\n",
       "      <th>Undersea and Hyperbaric Medicine</th>\n",
       "      <th>Urology</th>\n",
       "      <th>Vascular Surgery</th>\n",
       "      <th>Individual</th>\n",
       "      <th>Organization</th>\n",
       "    </tr>\n",
       "  </thead>\n",
       "  <tbody>\n",
       "    <tr>\n",
       "      <th>565335</th>\n",
       "      <td>1.0</td>\n",
       "      <td>Interventional Cardiology</td>\n",
       "      <td>754</td>\n",
       "      <td>1,550</td>\n",
       "      <td>66184.43</td>\n",
       "      <td>1487748836</td>\n",
       "      <td>0.0</td>\n",
       "      <td>1</td>\n",
       "      <td>0</td>\n",
       "      <td>0</td>\n",
       "      <td>...</td>\n",
       "      <td>0</td>\n",
       "      <td>0</td>\n",
       "      <td>0</td>\n",
       "      <td>0</td>\n",
       "      <td>0</td>\n",
       "      <td>0</td>\n",
       "      <td>0</td>\n",
       "      <td>0</td>\n",
       "      <td>1</td>\n",
       "      <td>0</td>\n",
       "    </tr>\n",
       "    <tr>\n",
       "      <th>739226</th>\n",
       "      <td>4.0</td>\n",
       "      <td>Internal Medicine</td>\n",
       "      <td>140</td>\n",
       "      <td>334</td>\n",
       "      <td>20667.89</td>\n",
       "      <td>1639391121</td>\n",
       "      <td>0.0</td>\n",
       "      <td>1</td>\n",
       "      <td>0</td>\n",
       "      <td>0</td>\n",
       "      <td>...</td>\n",
       "      <td>0</td>\n",
       "      <td>0</td>\n",
       "      <td>0</td>\n",
       "      <td>0</td>\n",
       "      <td>0</td>\n",
       "      <td>0</td>\n",
       "      <td>0</td>\n",
       "      <td>0</td>\n",
       "      <td>1</td>\n",
       "      <td>0</td>\n",
       "    </tr>\n",
       "    <tr>\n",
       "      <th>579293</th>\n",
       "      <td>1.0</td>\n",
       "      <td>General Surgery</td>\n",
       "      <td>62</td>\n",
       "      <td>181</td>\n",
       "      <td>27181.41</td>\n",
       "      <td>1497902308</td>\n",
       "      <td>0.0</td>\n",
       "      <td>0</td>\n",
       "      <td>1</td>\n",
       "      <td>0</td>\n",
       "      <td>...</td>\n",
       "      <td>0</td>\n",
       "      <td>0</td>\n",
       "      <td>0</td>\n",
       "      <td>0</td>\n",
       "      <td>0</td>\n",
       "      <td>0</td>\n",
       "      <td>0</td>\n",
       "      <td>0</td>\n",
       "      <td>1</td>\n",
       "      <td>0</td>\n",
       "    </tr>\n",
       "    <tr>\n",
       "      <th>914854</th>\n",
       "      <td>1.0</td>\n",
       "      <td>Surgical Oncology</td>\n",
       "      <td>160</td>\n",
       "      <td>626</td>\n",
       "      <td>48821.24</td>\n",
       "      <td>1780811133</td>\n",
       "      <td>0.0</td>\n",
       "      <td>0</td>\n",
       "      <td>1</td>\n",
       "      <td>0</td>\n",
       "      <td>...</td>\n",
       "      <td>0</td>\n",
       "      <td>0</td>\n",
       "      <td>1</td>\n",
       "      <td>0</td>\n",
       "      <td>0</td>\n",
       "      <td>0</td>\n",
       "      <td>0</td>\n",
       "      <td>0</td>\n",
       "      <td>1</td>\n",
       "      <td>0</td>\n",
       "    </tr>\n",
       "    <tr>\n",
       "      <th>1119575</th>\n",
       "      <td>1.0</td>\n",
       "      <td>Family Practice</td>\n",
       "      <td>499</td>\n",
       "      <td>829</td>\n",
       "      <td>39540.45</td>\n",
       "      <td>1962524355</td>\n",
       "      <td>0.0</td>\n",
       "      <td>1</td>\n",
       "      <td>0</td>\n",
       "      <td>0</td>\n",
       "      <td>...</td>\n",
       "      <td>0</td>\n",
       "      <td>0</td>\n",
       "      <td>0</td>\n",
       "      <td>0</td>\n",
       "      <td>0</td>\n",
       "      <td>0</td>\n",
       "      <td>0</td>\n",
       "      <td>0</td>\n",
       "      <td>1</td>\n",
       "      <td>0</td>\n",
       "    </tr>\n",
       "    <tr>\n",
       "      <th>...</th>\n",
       "      <td>...</td>\n",
       "      <td>...</td>\n",
       "      <td>...</td>\n",
       "      <td>...</td>\n",
       "      <td>...</td>\n",
       "      <td>...</td>\n",
       "      <td>...</td>\n",
       "      <td>...</td>\n",
       "      <td>...</td>\n",
       "      <td>...</td>\n",
       "      <td>...</td>\n",
       "      <td>...</td>\n",
       "      <td>...</td>\n",
       "      <td>...</td>\n",
       "      <td>...</td>\n",
       "      <td>...</td>\n",
       "      <td>...</td>\n",
       "      <td>...</td>\n",
       "      <td>...</td>\n",
       "      <td>...</td>\n",
       "      <td>...</td>\n",
       "    </tr>\n",
       "    <tr>\n",
       "      <th>803181</th>\n",
       "      <td>1.0</td>\n",
       "      <td>Physician Assistant</td>\n",
       "      <td>157</td>\n",
       "      <td>198</td>\n",
       "      <td>16155.03</td>\n",
       "      <td>1699082552</td>\n",
       "      <td>0.0</td>\n",
       "      <td>0</td>\n",
       "      <td>1</td>\n",
       "      <td>0</td>\n",
       "      <td>...</td>\n",
       "      <td>0</td>\n",
       "      <td>0</td>\n",
       "      <td>0</td>\n",
       "      <td>0</td>\n",
       "      <td>0</td>\n",
       "      <td>0</td>\n",
       "      <td>0</td>\n",
       "      <td>0</td>\n",
       "      <td>1</td>\n",
       "      <td>0</td>\n",
       "    </tr>\n",
       "    <tr>\n",
       "      <th>607656</th>\n",
       "      <td>2.0</td>\n",
       "      <td>Physical Therapist in Private Practice</td>\n",
       "      <td>40</td>\n",
       "      <td>1,924</td>\n",
       "      <td>40012.43</td>\n",
       "      <td>1528091915</td>\n",
       "      <td>0.0</td>\n",
       "      <td>1</td>\n",
       "      <td>0</td>\n",
       "      <td>0</td>\n",
       "      <td>...</td>\n",
       "      <td>0</td>\n",
       "      <td>0</td>\n",
       "      <td>0</td>\n",
       "      <td>0</td>\n",
       "      <td>0</td>\n",
       "      <td>0</td>\n",
       "      <td>0</td>\n",
       "      <td>0</td>\n",
       "      <td>1</td>\n",
       "      <td>0</td>\n",
       "    </tr>\n",
       "    <tr>\n",
       "      <th>156761</th>\n",
       "      <td>1.0</td>\n",
       "      <td>Dermatology</td>\n",
       "      <td>35</td>\n",
       "      <td>90</td>\n",
       "      <td>6818.78</td>\n",
       "      <td>1134319411</td>\n",
       "      <td>0.0</td>\n",
       "      <td>1</td>\n",
       "      <td>0</td>\n",
       "      <td>0</td>\n",
       "      <td>...</td>\n",
       "      <td>0</td>\n",
       "      <td>0</td>\n",
       "      <td>0</td>\n",
       "      <td>0</td>\n",
       "      <td>0</td>\n",
       "      <td>0</td>\n",
       "      <td>0</td>\n",
       "      <td>0</td>\n",
       "      <td>1</td>\n",
       "      <td>0</td>\n",
       "    </tr>\n",
       "    <tr>\n",
       "      <th>816944</th>\n",
       "      <td>1.0</td>\n",
       "      <td>Nurse Practitioner</td>\n",
       "      <td>195</td>\n",
       "      <td>383</td>\n",
       "      <td>18244.73</td>\n",
       "      <td>1700239175</td>\n",
       "      <td>0.0</td>\n",
       "      <td>0</td>\n",
       "      <td>1</td>\n",
       "      <td>0</td>\n",
       "      <td>...</td>\n",
       "      <td>0</td>\n",
       "      <td>0</td>\n",
       "      <td>0</td>\n",
       "      <td>0</td>\n",
       "      <td>0</td>\n",
       "      <td>0</td>\n",
       "      <td>0</td>\n",
       "      <td>0</td>\n",
       "      <td>1</td>\n",
       "      <td>0</td>\n",
       "    </tr>\n",
       "    <tr>\n",
       "      <th>843509</th>\n",
       "      <td>1.0</td>\n",
       "      <td>Pediatric Medicine</td>\n",
       "      <td>12</td>\n",
       "      <td>16</td>\n",
       "      <td>1061.34</td>\n",
       "      <td>1720282890</td>\n",
       "      <td>0.0</td>\n",
       "      <td>1</td>\n",
       "      <td>0</td>\n",
       "      <td>0</td>\n",
       "      <td>...</td>\n",
       "      <td>0</td>\n",
       "      <td>0</td>\n",
       "      <td>0</td>\n",
       "      <td>0</td>\n",
       "      <td>0</td>\n",
       "      <td>0</td>\n",
       "      <td>0</td>\n",
       "      <td>0</td>\n",
       "      <td>1</td>\n",
       "      <td>0</td>\n",
       "    </tr>\n",
       "  </tbody>\n",
       "</table>\n",
       "<p>11615 rows × 99 columns</p>\n",
       "</div>"
      ],
      "text/plain": [
       "         Rndrng_Prvdr_RUCA                       Rndrng_Prvdr_Type Tot_Benes  \\\n",
       "565335                 1.0               Interventional Cardiology       754   \n",
       "739226                 4.0                       Internal Medicine       140   \n",
       "579293                 1.0                         General Surgery        62   \n",
       "914854                 1.0                       Surgical Oncology       160   \n",
       "1119575                1.0                         Family Practice       499   \n",
       "...                    ...                                     ...       ...   \n",
       "803181                 1.0                     Physician Assistant       157   \n",
       "607656                 2.0  Physical Therapist in Private Practice        40   \n",
       "156761                 1.0                             Dermatology        35   \n",
       "816944                 1.0                      Nurse Practitioner       195   \n",
       "843509                 1.0                      Pediatric Medicine        12   \n",
       "\n",
       "        Tot_Srvcs  Tot_Mdcr_Stdzd_Amt  Rndrng_NPI  Fraud  0  1  \\\n",
       "565335      1,550            66184.43  1487748836    0.0  1  0   \n",
       "739226        334            20667.89  1639391121    0.0  1  0   \n",
       "579293        181            27181.41  1497902308    0.0  0  1   \n",
       "914854        626            48821.24  1780811133    0.0  0  1   \n",
       "1119575       829            39540.45  1962524355    0.0  1  0   \n",
       "...           ...                 ...         ...    ... .. ..   \n",
       "803181        198            16155.03  1699082552    0.0  0  1   \n",
       "607656      1,924            40012.43  1528091915    0.0  1  0   \n",
       "156761         90             6818.78  1134319411    0.0  1  0   \n",
       "816944        383            18244.73  1700239175    0.0  0  1   \n",
       "843509         16             1061.34  1720282890    0.0  1  0   \n",
       "\n",
       "         Addiction Medicine  ...  Speech Language Pathologist  \\\n",
       "565335                    0  ...                            0   \n",
       "739226                    0  ...                            0   \n",
       "579293                    0  ...                            0   \n",
       "914854                    0  ...                            0   \n",
       "1119575                   0  ...                            0   \n",
       "...                     ...  ...                          ...   \n",
       "803181                    0  ...                            0   \n",
       "607656                    0  ...                            0   \n",
       "156761                    0  ...                            0   \n",
       "816944                    0  ...                            0   \n",
       "843509                    0  ...                            0   \n",
       "\n",
       "         Sports Medicine  Surgical Oncology  Thoracic Surgery  \\\n",
       "565335                 0                  0                 0   \n",
       "739226                 0                  0                 0   \n",
       "579293                 0                  0                 0   \n",
       "914854                 0                  1                 0   \n",
       "1119575                0                  0                 0   \n",
       "...                  ...                ...               ...   \n",
       "803181                 0                  0                 0   \n",
       "607656                 0                  0                 0   \n",
       "156761                 0                  0                 0   \n",
       "816944                 0                  0                 0   \n",
       "843509                 0                  0                 0   \n",
       "\n",
       "         Undefined Physician type  Undersea and Hyperbaric Medicine  Urology  \\\n",
       "565335                          0                                 0        0   \n",
       "739226                          0                                 0        0   \n",
       "579293                          0                                 0        0   \n",
       "914854                          0                                 0        0   \n",
       "1119575                         0                                 0        0   \n",
       "...                           ...                               ...      ...   \n",
       "803181                          0                                 0        0   \n",
       "607656                          0                                 0        0   \n",
       "156761                          0                                 0        0   \n",
       "816944                          0                                 0        0   \n",
       "843509                          0                                 0        0   \n",
       "\n",
       "         Vascular Surgery  Individual  Organization  \n",
       "565335                  0           1             0  \n",
       "739226                  0           1             0  \n",
       "579293                  0           1             0  \n",
       "914854                  0           1             0  \n",
       "1119575                 0           1             0  \n",
       "...                   ...         ...           ...  \n",
       "803181                  0           1             0  \n",
       "607656                  0           1             0  \n",
       "156761                  0           1             0  \n",
       "816944                  0           1             0  \n",
       "843509                  0           1             0  \n",
       "\n",
       "[11615 rows x 99 columns]"
      ]
     },
     "execution_count": 88,
     "metadata": {},
     "output_type": "execute_result"
    }
   ],
   "source": [
    "partb"
   ]
  },
  {
   "cell_type": "code",
   "execution_count": 103,
   "id": "4e53a7a1",
   "metadata": {},
   "outputs": [],
   "source": [
    "partb[\"Tot_Srvcs\"] = partb[\"Tot_Srvcs\"].apply(lambda row : float(row.replace(\",\",\"\")) if \",\" in row else float(row))\n"
   ]
  },
  {
   "cell_type": "code",
   "execution_count": 95,
   "id": "f0820a58",
   "metadata": {},
   "outputs": [
    {
     "data": {
      "text/plain": [
       "565335     754.0\n",
       "739226     140.0\n",
       "579293      62.0\n",
       "914854     160.0\n",
       "1119575    499.0\n",
       "           ...  \n",
       "803181     157.0\n",
       "607656      40.0\n",
       "156761      35.0\n",
       "816944     195.0\n",
       "843509      12.0\n",
       "Name: Tot_Benes, Length: 11615, dtype: float64"
      ]
     },
     "execution_count": 95,
     "metadata": {},
     "output_type": "execute_result"
    }
   ],
   "source": [
    "partb[\"Tot_Benes\"].astype(\"float\")"
   ]
  },
  {
   "cell_type": "code",
   "execution_count": 101,
   "id": "e87f6bad",
   "metadata": {},
   "outputs": [],
   "source": [
    "partb = partb.drop(\"Rndrng_Prvdr_Type\",axis=1)"
   ]
  },
  {
   "cell_type": "code",
   "execution_count": 104,
   "id": "e5e8bcdc",
   "metadata": {},
   "outputs": [
    {
     "data": {
      "text/plain": [
       "Rndrng_Prvdr_RUCA                   float64\n",
       "Tot_Benes                            object\n",
       "Tot_Srvcs                           float64\n",
       "Tot_Mdcr_Stdzd_Amt                  float64\n",
       "Rndrng_NPI                            int64\n",
       "                                     ...   \n",
       "Undersea and Hyperbaric Medicine      uint8\n",
       "Urology                               uint8\n",
       "Vascular Surgery                      uint8\n",
       "Individual                            uint8\n",
       "Organization                          uint8\n",
       "Length: 98, dtype: object"
      ]
     },
     "execution_count": 104,
     "metadata": {},
     "output_type": "execute_result"
    }
   ],
   "source": [
    "partb.dtypes"
   ]
  },
  {
   "cell_type": "code",
   "execution_count": null,
   "id": "7c9e77b1",
   "metadata": {},
   "outputs": [],
   "source": []
  },
  {
   "cell_type": "markdown",
   "id": "cbd21d7e",
   "metadata": {},
   "source": [
    "## APPLYING MACHINE LEARNING MODEL -- PART_B"
   ]
  },
  {
   "cell_type": "code",
   "execution_count": 105,
   "id": "26cb13c6",
   "metadata": {},
   "outputs": [],
   "source": [
    "from sklearn.ensemble import GradientBoostingClassifier\n",
    "import numpy as np\n",
    "import pandas as pd\n",
    "from sklearn.preprocessing import StandardScaler\n",
    "from sklearn.model_selection import train_test_split\n",
    "from sklearn.metrics import accuracy_score, confusion_matrix\n",
    "from sklearn import preprocessing\n",
    "import warnings\n",
    "warnings.filterwarnings(\"ignore\")\n",
    "from sklearn.metrics import classification_report"
   ]
  },
  {
   "cell_type": "code",
   "execution_count": 106,
   "id": "7ab53024",
   "metadata": {},
   "outputs": [],
   "source": [
    "X = partb.drop(\"Fraud\",axis=1)\n",
    "X =X.drop(\"Rndrng_Prvdr_RUCA\",axis=1)"
   ]
  },
  {
   "cell_type": "code",
   "execution_count": 107,
   "id": "9b5e3f55",
   "metadata": {},
   "outputs": [],
   "source": [
    "y = partb[\"Fraud\"]"
   ]
  },
  {
   "cell_type": "code",
   "execution_count": 108,
   "id": "d5adc8ad",
   "metadata": {},
   "outputs": [],
   "source": [
    "X_train, X_test, y_train, y_test = train_test_split(X,y, test_size=0.2)"
   ]
  },
  {
   "cell_type": "code",
   "execution_count": 109,
   "id": "af5cfce2",
   "metadata": {},
   "outputs": [],
   "source": [
    "gbc=GradientBoostingClassifier(n_estimators=500,learning_rate=0.05,random_state=100 )"
   ]
  },
  {
   "cell_type": "code",
   "execution_count": 110,
   "id": "9a5d4159",
   "metadata": {},
   "outputs": [
    {
     "data": {
      "text/html": [
       "<style>#sk-container-id-1 {color: black;background-color: white;}#sk-container-id-1 pre{padding: 0;}#sk-container-id-1 div.sk-toggleable {background-color: white;}#sk-container-id-1 label.sk-toggleable__label {cursor: pointer;display: block;width: 100%;margin-bottom: 0;padding: 0.3em;box-sizing: border-box;text-align: center;}#sk-container-id-1 label.sk-toggleable__label-arrow:before {content: \"▸\";float: left;margin-right: 0.25em;color: #696969;}#sk-container-id-1 label.sk-toggleable__label-arrow:hover:before {color: black;}#sk-container-id-1 div.sk-estimator:hover label.sk-toggleable__label-arrow:before {color: black;}#sk-container-id-1 div.sk-toggleable__content {max-height: 0;max-width: 0;overflow: hidden;text-align: left;background-color: #f0f8ff;}#sk-container-id-1 div.sk-toggleable__content pre {margin: 0.2em;color: black;border-radius: 0.25em;background-color: #f0f8ff;}#sk-container-id-1 input.sk-toggleable__control:checked~div.sk-toggleable__content {max-height: 200px;max-width: 100%;overflow: auto;}#sk-container-id-1 input.sk-toggleable__control:checked~label.sk-toggleable__label-arrow:before {content: \"▾\";}#sk-container-id-1 div.sk-estimator input.sk-toggleable__control:checked~label.sk-toggleable__label {background-color: #d4ebff;}#sk-container-id-1 div.sk-label input.sk-toggleable__control:checked~label.sk-toggleable__label {background-color: #d4ebff;}#sk-container-id-1 input.sk-hidden--visually {border: 0;clip: rect(1px 1px 1px 1px);clip: rect(1px, 1px, 1px, 1px);height: 1px;margin: -1px;overflow: hidden;padding: 0;position: absolute;width: 1px;}#sk-container-id-1 div.sk-estimator {font-family: monospace;background-color: #f0f8ff;border: 1px dotted black;border-radius: 0.25em;box-sizing: border-box;margin-bottom: 0.5em;}#sk-container-id-1 div.sk-estimator:hover {background-color: #d4ebff;}#sk-container-id-1 div.sk-parallel-item::after {content: \"\";width: 100%;border-bottom: 1px solid gray;flex-grow: 1;}#sk-container-id-1 div.sk-label:hover label.sk-toggleable__label {background-color: #d4ebff;}#sk-container-id-1 div.sk-serial::before {content: \"\";position: absolute;border-left: 1px solid gray;box-sizing: border-box;top: 0;bottom: 0;left: 50%;z-index: 0;}#sk-container-id-1 div.sk-serial {display: flex;flex-direction: column;align-items: center;background-color: white;padding-right: 0.2em;padding-left: 0.2em;position: relative;}#sk-container-id-1 div.sk-item {position: relative;z-index: 1;}#sk-container-id-1 div.sk-parallel {display: flex;align-items: stretch;justify-content: center;background-color: white;position: relative;}#sk-container-id-1 div.sk-item::before, #sk-container-id-1 div.sk-parallel-item::before {content: \"\";position: absolute;border-left: 1px solid gray;box-sizing: border-box;top: 0;bottom: 0;left: 50%;z-index: -1;}#sk-container-id-1 div.sk-parallel-item {display: flex;flex-direction: column;z-index: 1;position: relative;background-color: white;}#sk-container-id-1 div.sk-parallel-item:first-child::after {align-self: flex-end;width: 50%;}#sk-container-id-1 div.sk-parallel-item:last-child::after {align-self: flex-start;width: 50%;}#sk-container-id-1 div.sk-parallel-item:only-child::after {width: 0;}#sk-container-id-1 div.sk-dashed-wrapped {border: 1px dashed gray;margin: 0 0.4em 0.5em 0.4em;box-sizing: border-box;padding-bottom: 0.4em;background-color: white;}#sk-container-id-1 div.sk-label label {font-family: monospace;font-weight: bold;display: inline-block;line-height: 1.2em;}#sk-container-id-1 div.sk-label-container {text-align: center;}#sk-container-id-1 div.sk-container {/* jupyter's `normalize.less` sets `[hidden] { display: none; }` but bootstrap.min.css set `[hidden] { display: none !important; }` so we also need the `!important` here to be able to override the default hidden behavior on the sphinx rendered scikit-learn.org. See: https://github.com/scikit-learn/scikit-learn/issues/21755 */display: inline-block !important;position: relative;}#sk-container-id-1 div.sk-text-repr-fallback {display: none;}</style><div id=\"sk-container-id-1\" class=\"sk-top-container\"><div class=\"sk-text-repr-fallback\"><pre>GradientBoostingClassifier(learning_rate=0.05, n_estimators=500,\n",
       "                           random_state=100)</pre><b>In a Jupyter environment, please rerun this cell to show the HTML representation or trust the notebook. <br />On GitHub, the HTML representation is unable to render, please try loading this page with nbviewer.org.</b></div><div class=\"sk-container\" hidden><div class=\"sk-item\"><div class=\"sk-estimator sk-toggleable\"><input class=\"sk-toggleable__control sk-hidden--visually\" id=\"sk-estimator-id-1\" type=\"checkbox\" checked><label for=\"sk-estimator-id-1\" class=\"sk-toggleable__label sk-toggleable__label-arrow\">GradientBoostingClassifier</label><div class=\"sk-toggleable__content\"><pre>GradientBoostingClassifier(learning_rate=0.05, n_estimators=500,\n",
       "                           random_state=100)</pre></div></div></div></div></div>"
      ],
      "text/plain": [
       "GradientBoostingClassifier(learning_rate=0.05, n_estimators=500,\n",
       "                           random_state=100)"
      ]
     },
     "execution_count": 110,
     "metadata": {},
     "output_type": "execute_result"
    }
   ],
   "source": [
    "gbc.fit(X_train,y_train)"
   ]
  },
  {
   "cell_type": "code",
   "execution_count": 111,
   "id": "68e4d3c7",
   "metadata": {},
   "outputs": [
    {
     "name": "stdout",
     "output_type": "stream",
     "text": [
      "[[2315    7]\n",
      " [   1    0]]\n"
     ]
    }
   ],
   "source": [
    "print(confusion_matrix(y_test, gbc.predict(X_test)))"
   ]
  },
  {
   "cell_type": "code",
   "execution_count": 124,
   "id": "239e28b5",
   "metadata": {},
   "outputs": [
    {
     "name": "stdout",
     "output_type": "stream",
     "text": [
      "Best Parameters: {'learning_rate': 0.01, 'n_estimators': 100}\n",
      "Train Score: 0.9984933275936289\n",
      "Test Score: 0.9978476108480413\n"
     ]
    }
   ],
   "source": [
    "from sklearn.model_selection import GridSearchCV\n",
    "\n",
    "grid = {\n",
    "\n",
    "    'learning_rate':[0.01,0.05,0.1],\n",
    "\n",
    "    'n_estimators':np.arange(100,500,100),\n",
    "\n",
    "}\n",
    "\n",
    "\n",
    "gb = GradientBoostingClassifier()\n",
    "\n",
    "gb_cv = GridSearchCV(gb, grid, cv = 4)\n",
    "\n",
    "gb_cv.fit(X_train,y_train)\n",
    "\n",
    "print(\"Best Parameters:\",gb_cv.best_params_)\n",
    "\n",
    "print(\"Train Score:\",gb_cv.best_score_)\n",
    "\n",
    "print(\"Test Score:\",gb_cv.score(X_test,y_test))"
   ]
  },
  {
   "cell_type": "code",
   "execution_count": 125,
   "id": "6ae18773",
   "metadata": {},
   "outputs": [
    {
     "name": "stdout",
     "output_type": "stream",
     "text": [
      "Best Parameters: {'max_depth': 3}\n",
      "Train Score: 0.9981704692208352\n",
      "Test Score: 0.9969866551872578\n"
     ]
    }
   ],
   "source": [
    "grid = {'max_depth':[2,3,4,5,6,7] }\n",
    "\n",
    "gb = GradientBoostingClassifier(learning_rate=0.1,n_estimators=400)\n",
    "\n",
    "gb_cv = GridSearchCV(gb, grid, cv = 4)\n",
    "\n",
    "gb_cv.fit(X_train,y_train)\n",
    "\n",
    "print(\"Best Parameters:\",gb_cv.best_params_)\n",
    "\n",
    "print(\"Train Score:\",gb_cv.best_score_)\n",
    "\n",
    "print(\"Test Score:\",gb_cv.score(X_test,y_test))"
   ]
  },
  {
   "cell_type": "code",
   "execution_count": null,
   "id": "d8945e5b",
   "metadata": {},
   "outputs": [],
   "source": []
  },
  {
   "cell_type": "code",
   "execution_count": null,
   "id": "a53ffb9a",
   "metadata": {},
   "outputs": [],
   "source": []
  },
  {
   "cell_type": "code",
   "execution_count": null,
   "id": "f98ea3de",
   "metadata": {},
   "outputs": [],
   "source": [
    "X=X.drop"
   ]
  },
  {
   "cell_type": "markdown",
   "id": "bb52a91f",
   "metadata": {},
   "source": [
    "### APPLYING LOGISTIC REGRESSION"
   ]
  },
  {
   "cell_type": "code",
   "execution_count": 112,
   "id": "e58e22fd",
   "metadata": {},
   "outputs": [],
   "source": [
    "from sklearn.preprocessing import StandardScaler\n",
    "sc = StandardScaler()\n",
    "X_train = sc.fit_transform(X_train)\n",
    "X_test = sc.transform(X_test)"
   ]
  },
  {
   "cell_type": "code",
   "execution_count": 113,
   "id": "2afc4254",
   "metadata": {},
   "outputs": [
    {
     "data": {
      "text/html": [
       "<style>#sk-container-id-2 {color: black;background-color: white;}#sk-container-id-2 pre{padding: 0;}#sk-container-id-2 div.sk-toggleable {background-color: white;}#sk-container-id-2 label.sk-toggleable__label {cursor: pointer;display: block;width: 100%;margin-bottom: 0;padding: 0.3em;box-sizing: border-box;text-align: center;}#sk-container-id-2 label.sk-toggleable__label-arrow:before {content: \"▸\";float: left;margin-right: 0.25em;color: #696969;}#sk-container-id-2 label.sk-toggleable__label-arrow:hover:before {color: black;}#sk-container-id-2 div.sk-estimator:hover label.sk-toggleable__label-arrow:before {color: black;}#sk-container-id-2 div.sk-toggleable__content {max-height: 0;max-width: 0;overflow: hidden;text-align: left;background-color: #f0f8ff;}#sk-container-id-2 div.sk-toggleable__content pre {margin: 0.2em;color: black;border-radius: 0.25em;background-color: #f0f8ff;}#sk-container-id-2 input.sk-toggleable__control:checked~div.sk-toggleable__content {max-height: 200px;max-width: 100%;overflow: auto;}#sk-container-id-2 input.sk-toggleable__control:checked~label.sk-toggleable__label-arrow:before {content: \"▾\";}#sk-container-id-2 div.sk-estimator input.sk-toggleable__control:checked~label.sk-toggleable__label {background-color: #d4ebff;}#sk-container-id-2 div.sk-label input.sk-toggleable__control:checked~label.sk-toggleable__label {background-color: #d4ebff;}#sk-container-id-2 input.sk-hidden--visually {border: 0;clip: rect(1px 1px 1px 1px);clip: rect(1px, 1px, 1px, 1px);height: 1px;margin: -1px;overflow: hidden;padding: 0;position: absolute;width: 1px;}#sk-container-id-2 div.sk-estimator {font-family: monospace;background-color: #f0f8ff;border: 1px dotted black;border-radius: 0.25em;box-sizing: border-box;margin-bottom: 0.5em;}#sk-container-id-2 div.sk-estimator:hover {background-color: #d4ebff;}#sk-container-id-2 div.sk-parallel-item::after {content: \"\";width: 100%;border-bottom: 1px solid gray;flex-grow: 1;}#sk-container-id-2 div.sk-label:hover label.sk-toggleable__label {background-color: #d4ebff;}#sk-container-id-2 div.sk-serial::before {content: \"\";position: absolute;border-left: 1px solid gray;box-sizing: border-box;top: 0;bottom: 0;left: 50%;z-index: 0;}#sk-container-id-2 div.sk-serial {display: flex;flex-direction: column;align-items: center;background-color: white;padding-right: 0.2em;padding-left: 0.2em;position: relative;}#sk-container-id-2 div.sk-item {position: relative;z-index: 1;}#sk-container-id-2 div.sk-parallel {display: flex;align-items: stretch;justify-content: center;background-color: white;position: relative;}#sk-container-id-2 div.sk-item::before, #sk-container-id-2 div.sk-parallel-item::before {content: \"\";position: absolute;border-left: 1px solid gray;box-sizing: border-box;top: 0;bottom: 0;left: 50%;z-index: -1;}#sk-container-id-2 div.sk-parallel-item {display: flex;flex-direction: column;z-index: 1;position: relative;background-color: white;}#sk-container-id-2 div.sk-parallel-item:first-child::after {align-self: flex-end;width: 50%;}#sk-container-id-2 div.sk-parallel-item:last-child::after {align-self: flex-start;width: 50%;}#sk-container-id-2 div.sk-parallel-item:only-child::after {width: 0;}#sk-container-id-2 div.sk-dashed-wrapped {border: 1px dashed gray;margin: 0 0.4em 0.5em 0.4em;box-sizing: border-box;padding-bottom: 0.4em;background-color: white;}#sk-container-id-2 div.sk-label label {font-family: monospace;font-weight: bold;display: inline-block;line-height: 1.2em;}#sk-container-id-2 div.sk-label-container {text-align: center;}#sk-container-id-2 div.sk-container {/* jupyter's `normalize.less` sets `[hidden] { display: none; }` but bootstrap.min.css set `[hidden] { display: none !important; }` so we also need the `!important` here to be able to override the default hidden behavior on the sphinx rendered scikit-learn.org. See: https://github.com/scikit-learn/scikit-learn/issues/21755 */display: inline-block !important;position: relative;}#sk-container-id-2 div.sk-text-repr-fallback {display: none;}</style><div id=\"sk-container-id-2\" class=\"sk-top-container\"><div class=\"sk-text-repr-fallback\"><pre>LogisticRegression()</pre><b>In a Jupyter environment, please rerun this cell to show the HTML representation or trust the notebook. <br />On GitHub, the HTML representation is unable to render, please try loading this page with nbviewer.org.</b></div><div class=\"sk-container\" hidden><div class=\"sk-item\"><div class=\"sk-estimator sk-toggleable\"><input class=\"sk-toggleable__control sk-hidden--visually\" id=\"sk-estimator-id-2\" type=\"checkbox\" checked><label for=\"sk-estimator-id-2\" class=\"sk-toggleable__label sk-toggleable__label-arrow\">LogisticRegression</label><div class=\"sk-toggleable__content\"><pre>LogisticRegression()</pre></div></div></div></div></div>"
      ],
      "text/plain": [
       "LogisticRegression()"
      ]
     },
     "execution_count": 113,
     "metadata": {},
     "output_type": "execute_result"
    }
   ],
   "source": [
    "from sklearn.linear_model import LogisticRegression\n",
    "classifier7 = LogisticRegression()\n",
    "classifier7.fit(X_train,y_train)"
   ]
  },
  {
   "cell_type": "code",
   "execution_count": 115,
   "id": "a2efd48c",
   "metadata": {},
   "outputs": [],
   "source": [
    "y_pred7 = classifier7.predict(X_test)"
   ]
  },
  {
   "cell_type": "code",
   "execution_count": 116,
   "id": "c6a9b94d",
   "metadata": {},
   "outputs": [
    {
     "name": "stdout",
     "output_type": "stream",
     "text": [
      "[[2322    0]\n",
      " [   1    0]]\n"
     ]
    }
   ],
   "source": [
    "from sklearn.metrics import confusion_matrix, accuracy_score, roc_auc_score\n",
    "cm7 = confusion_matrix(y_test, y_pred7)\n",
    "print(cm7)"
   ]
  },
  {
   "cell_type": "code",
   "execution_count": 118,
   "id": "2dadde50",
   "metadata": {},
   "outputs": [
    {
     "data": {
      "text/plain": [
       "0.9995695221696083"
      ]
     },
     "execution_count": 118,
     "metadata": {},
     "output_type": "execute_result"
    }
   ],
   "source": [
    "logreg=accuracy_score(y_test,y_pred7)\n",
    "logreg"
   ]
  },
  {
   "cell_type": "code",
   "execution_count": null,
   "id": "898a03bd",
   "metadata": {},
   "outputs": [],
   "source": []
  }
 ],
 "metadata": {
  "kernelspec": {
   "display_name": "Python 3 (ipykernel)",
   "language": "python",
   "name": "python3"
  },
  "language_info": {
   "codemirror_mode": {
    "name": "ipython",
    "version": 3
   },
   "file_extension": ".py",
   "mimetype": "text/x-python",
   "name": "python",
   "nbconvert_exporter": "python",
   "pygments_lexer": "ipython3",
   "version": "3.10.8"
  }
 },
 "nbformat": 4,
 "nbformat_minor": 5
}
