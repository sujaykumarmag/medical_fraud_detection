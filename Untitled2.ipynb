{
 "cells": [
  {
   "cell_type": "markdown",
   "id": "2f01218e",
   "metadata": {},
   "source": [
    "# HEALTH CARE FRAUD DETECTION - PART-D"
   ]
  },
  {
   "cell_type": "code",
   "execution_count": 1,
   "id": "05ce4cbe",
   "metadata": {},
   "outputs": [],
   "source": [
    "# Import Pandas\n",
    "import pandas as pd\n",
    "import warnings\n",
    "warnings.filterwarnings(\"ignore\")\n",
    "from sklearn.ensemble import GradientBoostingClassifier\n",
    "import numpy as np\n",
    "from sklearn.preprocessing import StandardScaler\n",
    "from sklearn.model_selection import train_test_split\n",
    "from sklearn.metrics import accuracy_score, confusion_matrix\n",
    "from sklearn import preprocessing\n",
    "from sklearn.metrics import classification_report\n",
    "from sklearn.model_selection import GridSearchCV\n",
    "from sklearn.model_selection import cross_val_score\n",
    "from sklearn.pipeline import make_pipeline\n",
    "from sklearn.preprocessing import StandardScaler\n",
    "from sklearn.svm import SVC\n",
    "from sklearn.ensemble import RandomForestClassifier\n",
    "from sklearn.model_selection import StratifiedKFold"
   ]
  },
  {
   "cell_type": "code",
   "execution_count": 2,
   "id": "33e05558",
   "metadata": {},
   "outputs": [],
   "source": [
    "partd = pd.read_csv(\"raw_data/Part-D.csv\",encoding='ISO-8859-1')"
   ]
  },
  {
   "cell_type": "code",
   "execution_count": 3,
   "id": "b6fe7c32",
   "metadata": {},
   "outputs": [
    {
     "data": {
      "text/plain": [
       "(1255175, 85)"
      ]
     },
     "execution_count": 3,
     "metadata": {},
     "output_type": "execute_result"
    }
   ],
   "source": [
    "partd.shape"
   ]
  },
  {
   "cell_type": "code",
   "execution_count": 4,
   "id": "764a1abd",
   "metadata": {},
   "outputs": [
    {
     "data": {
      "text/plain": [
       "PRSCRBR_NPI                int64\n",
       "Prscrbr_Last_Org_Name     object\n",
       "Prscrbr_First_Name        object\n",
       "Prscrbr_MI                object\n",
       "Prscrbr_Crdntls           object\n",
       "                          ...   \n",
       "Bene_Race_Natind_Cnt     float64\n",
       "Bene_Race_Othr_Cnt       float64\n",
       "Bene_Dual_Cnt            float64\n",
       "Bene_Ndual_Cnt           float64\n",
       "Bene_Avg_Risk_Scre       float64\n",
       "Length: 85, dtype: object"
      ]
     },
     "execution_count": 4,
     "metadata": {},
     "output_type": "execute_result"
    }
   ],
   "source": [
    "partd.dtypes"
   ]
  },
  {
   "cell_type": "markdown",
   "id": "9b770995",
   "metadata": {},
   "source": [
    "## Including \"LEIE_EXCLUSIONS\" Dataset"
   ]
  },
  {
   "cell_type": "code",
   "execution_count": 5,
   "id": "e4167df3",
   "metadata": {},
   "outputs": [],
   "source": [
    "leie_ex = pd.read_csv(\"raw_data/LEIE_Exclusion.csv\",low_memory=False)"
   ]
  },
  {
   "cell_type": "code",
   "execution_count": 6,
   "id": "e8f648ab",
   "metadata": {},
   "outputs": [
    {
     "data": {
      "text/plain": [
       "(76546, 18)"
      ]
     },
     "execution_count": 6,
     "metadata": {},
     "output_type": "execute_result"
    }
   ],
   "source": [
    "leie_ex.shape"
   ]
  },
  {
   "cell_type": "code",
   "execution_count": 7,
   "id": "eabb41a3",
   "metadata": {},
   "outputs": [
    {
     "data": {
      "text/plain": [
       "LASTNAME       object\n",
       "FIRSTNAME      object\n",
       "MIDNAME        object\n",
       "BUSNAME        object\n",
       "GENERAL        object\n",
       "SPECIALTY      object\n",
       "UPIN           object\n",
       "NPI             int64\n",
       "DOB           float64\n",
       "ADDRESS        object\n",
       "CITY           object\n",
       "STATE          object\n",
       "ZIP             int64\n",
       "EXCLTYPE       object\n",
       "EXCLDATE        int64\n",
       "REINDATE        int64\n",
       "WAIVERDATE      int64\n",
       "WVRSTATE       object\n",
       "dtype: object"
      ]
     },
     "execution_count": 7,
     "metadata": {},
     "output_type": "execute_result"
    }
   ],
   "source": [
    "leie_ex.dtypes"
   ]
  },
  {
   "cell_type": "markdown",
   "id": "c6e54caa",
   "metadata": {},
   "source": [
    "## EXPLORATORY DATA ANALYTICS FOR PART-D"
   ]
  },
  {
   "cell_type": "markdown",
   "id": "2a75b435",
   "metadata": {},
   "source": [
    "### First Take out all the NA rows in which there are more than 2 NA attributes"
   ]
  },
  {
   "cell_type": "code",
   "execution_count": 9,
   "id": "bdfacbcb",
   "metadata": {},
   "outputs": [],
   "source": [
    "partd = partd.dropna(axis=0,thresh=2)"
   ]
  },
  {
   "cell_type": "code",
   "execution_count": 12,
   "id": "6c97b370",
   "metadata": {},
   "outputs": [
    {
     "data": {
      "text/html": [
       "<div>\n",
       "<style scoped>\n",
       "    .dataframe tbody tr th:only-of-type {\n",
       "        vertical-align: middle;\n",
       "    }\n",
       "\n",
       "    .dataframe tbody tr th {\n",
       "        vertical-align: top;\n",
       "    }\n",
       "\n",
       "    .dataframe thead th {\n",
       "        text-align: right;\n",
       "    }\n",
       "</style>\n",
       "<table border=\"1\" class=\"dataframe\">\n",
       "  <thead>\n",
       "    <tr style=\"text-align: right;\">\n",
       "      <th></th>\n",
       "      <th>PRSCRBR_NPI</th>\n",
       "      <th>Prscrbr_Last_Org_Name</th>\n",
       "      <th>Prscrbr_First_Name</th>\n",
       "      <th>Prscrbr_MI</th>\n",
       "      <th>Prscrbr_Crdntls</th>\n",
       "      <th>Prscrbr_Gndr</th>\n",
       "      <th>Prscrbr_Ent_Cd</th>\n",
       "      <th>Prscrbr_St1</th>\n",
       "      <th>Prscrbr_St2</th>\n",
       "      <th>Prscrbr_City</th>\n",
       "      <th>...</th>\n",
       "      <th>Bene_Male_Cnt</th>\n",
       "      <th>Bene_Race_Wht_Cnt</th>\n",
       "      <th>Bene_Race_Black_Cnt</th>\n",
       "      <th>Bene_Race_Api_Cnt</th>\n",
       "      <th>Bene_Race_Hspnc_Cnt</th>\n",
       "      <th>Bene_Race_Natind_Cnt</th>\n",
       "      <th>Bene_Race_Othr_Cnt</th>\n",
       "      <th>Bene_Dual_Cnt</th>\n",
       "      <th>Bene_Ndual_Cnt</th>\n",
       "      <th>Bene_Avg_Risk_Scre</th>\n",
       "    </tr>\n",
       "  </thead>\n",
       "  <tbody>\n",
       "    <tr>\n",
       "      <th>0</th>\n",
       "      <td>1003000126</td>\n",
       "      <td>Enkeshafi</td>\n",
       "      <td>Ardalan</td>\n",
       "      <td>NaN</td>\n",
       "      <td>M.D.</td>\n",
       "      <td>M</td>\n",
       "      <td>I</td>\n",
       "      <td>6410 Rockledge Dr Ste 304</td>\n",
       "      <td>NaN</td>\n",
       "      <td>Bethesda</td>\n",
       "      <td>...</td>\n",
       "      <td>49.0</td>\n",
       "      <td>67.0</td>\n",
       "      <td>27.0</td>\n",
       "      <td>NaN</td>\n",
       "      <td>NaN</td>\n",
       "      <td>0.0</td>\n",
       "      <td>NaN</td>\n",
       "      <td>28.0</td>\n",
       "      <td>78.0</td>\n",
       "      <td>2.245800</td>\n",
       "    </tr>\n",
       "    <tr>\n",
       "      <th>1</th>\n",
       "      <td>1003000142</td>\n",
       "      <td>Khalil</td>\n",
       "      <td>Rashid</td>\n",
       "      <td>NaN</td>\n",
       "      <td>M.D.</td>\n",
       "      <td>M</td>\n",
       "      <td>I</td>\n",
       "      <td>4126 N Holland Sylvania Rd</td>\n",
       "      <td>Suite 220</td>\n",
       "      <td>Toledo</td>\n",
       "      <td>...</td>\n",
       "      <td>82.0</td>\n",
       "      <td>130.0</td>\n",
       "      <td>81.0</td>\n",
       "      <td>NaN</td>\n",
       "      <td>12.0</td>\n",
       "      <td>0.0</td>\n",
       "      <td>NaN</td>\n",
       "      <td>125.0</td>\n",
       "      <td>103.0</td>\n",
       "      <td>1.695165</td>\n",
       "    </tr>\n",
       "    <tr>\n",
       "      <th>2</th>\n",
       "      <td>1003000167</td>\n",
       "      <td>Escobar</td>\n",
       "      <td>Julio</td>\n",
       "      <td>E</td>\n",
       "      <td>DDS</td>\n",
       "      <td>M</td>\n",
       "      <td>I</td>\n",
       "      <td>5 Pine Cone Rd</td>\n",
       "      <td>NaN</td>\n",
       "      <td>Dayton</td>\n",
       "      <td>...</td>\n",
       "      <td>23.0</td>\n",
       "      <td>41.0</td>\n",
       "      <td>0.0</td>\n",
       "      <td>0.0</td>\n",
       "      <td>NaN</td>\n",
       "      <td>0.0</td>\n",
       "      <td>NaN</td>\n",
       "      <td>0.0</td>\n",
       "      <td>43.0</td>\n",
       "      <td>1.006070</td>\n",
       "    </tr>\n",
       "    <tr>\n",
       "      <th>3</th>\n",
       "      <td>1003000175</td>\n",
       "      <td>Reyes-Vasquez</td>\n",
       "      <td>Belinda</td>\n",
       "      <td>NaN</td>\n",
       "      <td>D.D.S.</td>\n",
       "      <td>F</td>\n",
       "      <td>I</td>\n",
       "      <td>322 N Azusa Ave Ste 202</td>\n",
       "      <td>NaN</td>\n",
       "      <td>La Puente</td>\n",
       "      <td>...</td>\n",
       "      <td>NaN</td>\n",
       "      <td>NaN</td>\n",
       "      <td>NaN</td>\n",
       "      <td>NaN</td>\n",
       "      <td>NaN</td>\n",
       "      <td>NaN</td>\n",
       "      <td>NaN</td>\n",
       "      <td>NaN</td>\n",
       "      <td>NaN</td>\n",
       "      <td>1.251869</td>\n",
       "    </tr>\n",
       "    <tr>\n",
       "      <th>4</th>\n",
       "      <td>1003000282</td>\n",
       "      <td>Blakemore</td>\n",
       "      <td>Rosie</td>\n",
       "      <td>K</td>\n",
       "      <td>FNP</td>\n",
       "      <td>F</td>\n",
       "      <td>I</td>\n",
       "      <td>Tennessee Prison For Women</td>\n",
       "      <td>3881 Stewarts Lane</td>\n",
       "      <td>Nashville</td>\n",
       "      <td>...</td>\n",
       "      <td>NaN</td>\n",
       "      <td>NaN</td>\n",
       "      <td>NaN</td>\n",
       "      <td>NaN</td>\n",
       "      <td>NaN</td>\n",
       "      <td>NaN</td>\n",
       "      <td>NaN</td>\n",
       "      <td>NaN</td>\n",
       "      <td>NaN</td>\n",
       "      <td>4.919074</td>\n",
       "    </tr>\n",
       "    <tr>\n",
       "      <th>...</th>\n",
       "      <td>...</td>\n",
       "      <td>...</td>\n",
       "      <td>...</td>\n",
       "      <td>...</td>\n",
       "      <td>...</td>\n",
       "      <td>...</td>\n",
       "      <td>...</td>\n",
       "      <td>...</td>\n",
       "      <td>...</td>\n",
       "      <td>...</td>\n",
       "      <td>...</td>\n",
       "      <td>...</td>\n",
       "      <td>...</td>\n",
       "      <td>...</td>\n",
       "      <td>...</td>\n",
       "      <td>...</td>\n",
       "      <td>...</td>\n",
       "      <td>...</td>\n",
       "      <td>...</td>\n",
       "      <td>...</td>\n",
       "      <td>...</td>\n",
       "    </tr>\n",
       "    <tr>\n",
       "      <th>1255170</th>\n",
       "      <td>1992999569</td>\n",
       "      <td>Yuen</td>\n",
       "      <td>Jenny</td>\n",
       "      <td>F</td>\n",
       "      <td>O.D., F.A.A.O</td>\n",
       "      <td>F</td>\n",
       "      <td>I</td>\n",
       "      <td>515 Gough St</td>\n",
       "      <td>NaN</td>\n",
       "      <td>San Francisco</td>\n",
       "      <td>...</td>\n",
       "      <td>NaN</td>\n",
       "      <td>NaN</td>\n",
       "      <td>0.0</td>\n",
       "      <td>16.0</td>\n",
       "      <td>0.0</td>\n",
       "      <td>0.0</td>\n",
       "      <td>NaN</td>\n",
       "      <td>NaN</td>\n",
       "      <td>NaN</td>\n",
       "      <td>1.451353</td>\n",
       "    </tr>\n",
       "    <tr>\n",
       "      <th>1255171</th>\n",
       "      <td>1992999650</td>\n",
       "      <td>Yong</td>\n",
       "      <td>Wayne</td>\n",
       "      <td>B</td>\n",
       "      <td>DMD</td>\n",
       "      <td>M</td>\n",
       "      <td>I</td>\n",
       "      <td>28 Atlantic Avenue</td>\n",
       "      <td>121</td>\n",
       "      <td>Boston</td>\n",
       "      <td>...</td>\n",
       "      <td>13.0</td>\n",
       "      <td>NaN</td>\n",
       "      <td>NaN</td>\n",
       "      <td>18.0</td>\n",
       "      <td>0.0</td>\n",
       "      <td>0.0</td>\n",
       "      <td>NaN</td>\n",
       "      <td>NaN</td>\n",
       "      <td>NaN</td>\n",
       "      <td>1.344691</td>\n",
       "    </tr>\n",
       "    <tr>\n",
       "      <th>1255172</th>\n",
       "      <td>1992999759</td>\n",
       "      <td>Soriano</td>\n",
       "      <td>Dino</td>\n",
       "      <td>V</td>\n",
       "      <td>RN MSN HSA FNP-C</td>\n",
       "      <td>M</td>\n",
       "      <td>I</td>\n",
       "      <td>171 Clover Point Cir</td>\n",
       "      <td>NaN</td>\n",
       "      <td>Guyton</td>\n",
       "      <td>...</td>\n",
       "      <td>NaN</td>\n",
       "      <td>16.0</td>\n",
       "      <td>NaN</td>\n",
       "      <td>0.0</td>\n",
       "      <td>0.0</td>\n",
       "      <td>0.0</td>\n",
       "      <td>NaN</td>\n",
       "      <td>NaN</td>\n",
       "      <td>NaN</td>\n",
       "      <td>1.545349</td>\n",
       "    </tr>\n",
       "    <tr>\n",
       "      <th>1255173</th>\n",
       "      <td>1992999825</td>\n",
       "      <td>Deschenes</td>\n",
       "      <td>Geoffrey</td>\n",
       "      <td>R</td>\n",
       "      <td>M.D.</td>\n",
       "      <td>M</td>\n",
       "      <td>I</td>\n",
       "      <td>1100 9th Ave</td>\n",
       "      <td>Ms:m4-Pfs</td>\n",
       "      <td>Seattle</td>\n",
       "      <td>...</td>\n",
       "      <td>62.0</td>\n",
       "      <td>100.0</td>\n",
       "      <td>NaN</td>\n",
       "      <td>16.0</td>\n",
       "      <td>NaN</td>\n",
       "      <td>0.0</td>\n",
       "      <td>NaN</td>\n",
       "      <td>18.0</td>\n",
       "      <td>108.0</td>\n",
       "      <td>1.109445</td>\n",
       "    </tr>\n",
       "    <tr>\n",
       "      <th>1255174</th>\n",
       "      <td>1992999874</td>\n",
       "      <td>Joffe</td>\n",
       "      <td>Gabriella</td>\n",
       "      <td>NaN</td>\n",
       "      <td>NaN</td>\n",
       "      <td>F</td>\n",
       "      <td>I</td>\n",
       "      <td>5620 Brook Rd</td>\n",
       "      <td>NaN</td>\n",
       "      <td>Richmond</td>\n",
       "      <td>...</td>\n",
       "      <td>51.0</td>\n",
       "      <td>74.0</td>\n",
       "      <td>25.0</td>\n",
       "      <td>NaN</td>\n",
       "      <td>NaN</td>\n",
       "      <td>0.0</td>\n",
       "      <td>NaN</td>\n",
       "      <td>28.0</td>\n",
       "      <td>75.0</td>\n",
       "      <td>2.748669</td>\n",
       "    </tr>\n",
       "  </tbody>\n",
       "</table>\n",
       "<p>1255175 rows × 85 columns</p>\n",
       "</div>"
      ],
      "text/plain": [
       "         PRSCRBR_NPI Prscrbr_Last_Org_Name Prscrbr_First_Name Prscrbr_MI  \\\n",
       "0         1003000126             Enkeshafi            Ardalan        NaN   \n",
       "1         1003000142                Khalil             Rashid        NaN   \n",
       "2         1003000167               Escobar              Julio          E   \n",
       "3         1003000175         Reyes-Vasquez            Belinda        NaN   \n",
       "4         1003000282             Blakemore              Rosie          K   \n",
       "...              ...                   ...                ...        ...   \n",
       "1255170   1992999569                  Yuen              Jenny          F   \n",
       "1255171   1992999650                  Yong              Wayne          B   \n",
       "1255172   1992999759               Soriano               Dino          V   \n",
       "1255173   1992999825             Deschenes           Geoffrey          R   \n",
       "1255174   1992999874                 Joffe          Gabriella        NaN   \n",
       "\n",
       "          Prscrbr_Crdntls Prscrbr_Gndr Prscrbr_Ent_Cd  \\\n",
       "0                    M.D.            M              I   \n",
       "1                    M.D.            M              I   \n",
       "2                     DDS            M              I   \n",
       "3                  D.D.S.            F              I   \n",
       "4                     FNP            F              I   \n",
       "...                   ...          ...            ...   \n",
       "1255170     O.D., F.A.A.O            F              I   \n",
       "1255171               DMD            M              I   \n",
       "1255172  RN MSN HSA FNP-C            M              I   \n",
       "1255173              M.D.            M              I   \n",
       "1255174               NaN            F              I   \n",
       "\n",
       "                        Prscrbr_St1         Prscrbr_St2   Prscrbr_City  ...  \\\n",
       "0         6410 Rockledge Dr Ste 304                 NaN       Bethesda  ...   \n",
       "1        4126 N Holland Sylvania Rd           Suite 220         Toledo  ...   \n",
       "2                    5 Pine Cone Rd                 NaN         Dayton  ...   \n",
       "3           322 N Azusa Ave Ste 202                 NaN      La Puente  ...   \n",
       "4        Tennessee Prison For Women  3881 Stewarts Lane      Nashville  ...   \n",
       "...                             ...                 ...            ...  ...   \n",
       "1255170                515 Gough St                 NaN  San Francisco  ...   \n",
       "1255171          28 Atlantic Avenue                 121         Boston  ...   \n",
       "1255172        171 Clover Point Cir                 NaN         Guyton  ...   \n",
       "1255173                1100 9th Ave           Ms:m4-Pfs        Seattle  ...   \n",
       "1255174               5620 Brook Rd                 NaN       Richmond  ...   \n",
       "\n",
       "        Bene_Male_Cnt  Bene_Race_Wht_Cnt  Bene_Race_Black_Cnt  \\\n",
       "0                49.0               67.0                 27.0   \n",
       "1                82.0              130.0                 81.0   \n",
       "2                23.0               41.0                  0.0   \n",
       "3                 NaN                NaN                  NaN   \n",
       "4                 NaN                NaN                  NaN   \n",
       "...               ...                ...                  ...   \n",
       "1255170           NaN                NaN                  0.0   \n",
       "1255171          13.0                NaN                  NaN   \n",
       "1255172           NaN               16.0                  NaN   \n",
       "1255173          62.0              100.0                  NaN   \n",
       "1255174          51.0               74.0                 25.0   \n",
       "\n",
       "         Bene_Race_Api_Cnt Bene_Race_Hspnc_Cnt Bene_Race_Natind_Cnt  \\\n",
       "0                      NaN                 NaN                  0.0   \n",
       "1                      NaN                12.0                  0.0   \n",
       "2                      0.0                 NaN                  0.0   \n",
       "3                      NaN                 NaN                  NaN   \n",
       "4                      NaN                 NaN                  NaN   \n",
       "...                    ...                 ...                  ...   \n",
       "1255170               16.0                 0.0                  0.0   \n",
       "1255171               18.0                 0.0                  0.0   \n",
       "1255172                0.0                 0.0                  0.0   \n",
       "1255173               16.0                 NaN                  0.0   \n",
       "1255174                NaN                 NaN                  0.0   \n",
       "\n",
       "        Bene_Race_Othr_Cnt Bene_Dual_Cnt  Bene_Ndual_Cnt  Bene_Avg_Risk_Scre  \n",
       "0                      NaN          28.0            78.0            2.245800  \n",
       "1                      NaN         125.0           103.0            1.695165  \n",
       "2                      NaN           0.0            43.0            1.006070  \n",
       "3                      NaN           NaN             NaN            1.251869  \n",
       "4                      NaN           NaN             NaN            4.919074  \n",
       "...                    ...           ...             ...                 ...  \n",
       "1255170                NaN           NaN             NaN            1.451353  \n",
       "1255171                NaN           NaN             NaN            1.344691  \n",
       "1255172                NaN           NaN             NaN            1.545349  \n",
       "1255173                NaN          18.0           108.0            1.109445  \n",
       "1255174                NaN          28.0            75.0            2.748669  \n",
       "\n",
       "[1255175 rows x 85 columns]"
      ]
     },
     "execution_count": 12,
     "metadata": {},
     "output_type": "execute_result"
    }
   ],
   "source": [
    "partd.dropna(subset=[\"PRSCRBR_NPI\"],axis=0)"
   ]
  },
  {
   "cell_type": "code",
   "execution_count": 13,
   "id": "52b03d34",
   "metadata": {},
   "outputs": [
    {
     "data": {
      "text/plain": [
       "Index(['PRSCRBR_NPI', 'Prscrbr_Last_Org_Name', 'Prscrbr_First_Name',\n",
       "       'Prscrbr_MI', 'Prscrbr_Crdntls', 'Prscrbr_Gndr', 'Prscrbr_Ent_Cd',\n",
       "       'Prscrbr_St1', 'Prscrbr_St2', 'Prscrbr_City', 'Prscrbr_State_Abrvtn',\n",
       "       'Prscrbr_State_FIPS', 'Prscrbr_zip5', 'Prscrbr_RUCA',\n",
       "       'Prscrbr_RUCA_Desc', 'Prscrbr_Cntry', 'Prscrbr_Type',\n",
       "       'Prscrbr_Type_src', 'Tot_Clms', 'Tot_30day_Fills', 'Tot_Drug_Cst',\n",
       "       'Tot_Day_Suply', 'Tot_Benes', 'GE65_Sprsn_Flag', 'GE65_Tot_Clms',\n",
       "       'GE65_Tot_30day_Fills', 'GE65_Tot_Drug_Cst', 'GE65_Tot_Day_Suply',\n",
       "       'GE65_Bene_Sprsn_Flag', 'GE65_Tot_Benes', 'Brnd_Sprsn_Flag',\n",
       "       'Brnd_Tot_Clms', 'Brnd_Tot_Drug_Cst', 'Gnrc_Sprsn_Flag',\n",
       "       'Gnrc_Tot_Clms', 'Gnrc_Tot_Drug_Cst', 'Othr_Sprsn_Flag',\n",
       "       'Othr_Tot_Clms', 'Othr_Tot_Drug_Cst', 'MAPD_Sprsn_Flag',\n",
       "       'MAPD_Tot_Clms', 'MAPD_Tot_Drug_Cst', 'PDP_Sprsn_Flag', 'PDP_Tot_Clms',\n",
       "       'PDP_Tot_Drug_Cst', 'LIS_Sprsn_Flag', 'LIS_Tot_Clms', 'LIS_Drug_Cst',\n",
       "       'NonLIS_Sprsn_Flag', 'NonLIS_Tot_Clms', 'NonLIS_Drug_Cst',\n",
       "       'Opioid_Tot_Clms', 'Opioid_Tot_Drug_Cst', 'Opioid_Tot_Suply',\n",
       "       'Opioid_Tot_Benes', 'Opioid_Prscrbr_Rate', 'Opioid_LA_Tot_Clms',\n",
       "       'Opioid_LA_Tot_Drug_Cst', 'Opioid_LA_Tot_Suply', 'Opioid_LA_Tot_Benes',\n",
       "       'Opioid_LA_Prscrbr_Rate', 'Antbtc_Tot_Clms', 'Antbtc_Tot_Drug_Cst',\n",
       "       'Antbtc_Tot_Benes', 'Antpsyct_GE65_Sprsn_Flag',\n",
       "       'Antpsyct_GE65_Tot_Clms', 'Antpsyct_GE65_Tot_Drug_Cst',\n",
       "       'Antpsyct_GE65_Bene_Suprsn_Flag', 'Antpsyct_GE65_Tot_Benes',\n",
       "       'Bene_Avg_Age', 'Bene_Age_LT_65_Cnt', 'Bene_Age_65_74_Cnt',\n",
       "       'Bene_Age_75_84_Cnt', 'Bene_Age_GT_84_Cnt', 'Bene_Feml_Cnt',\n",
       "       'Bene_Male_Cnt', 'Bene_Race_Wht_Cnt', 'Bene_Race_Black_Cnt',\n",
       "       'Bene_Race_Api_Cnt', 'Bene_Race_Hspnc_Cnt', 'Bene_Race_Natind_Cnt',\n",
       "       'Bene_Race_Othr_Cnt', 'Bene_Dual_Cnt', 'Bene_Ndual_Cnt',\n",
       "       'Bene_Avg_Risk_Scre'],\n",
       "      dtype='object')"
      ]
     },
     "execution_count": 13,
     "metadata": {},
     "output_type": "execute_result"
    }
   ],
   "source": [
    "partd.columns"
   ]
  },
  {
   "cell_type": "markdown",
   "id": "8fa0e2ff",
   "metadata": {},
   "source": [
    "### LEIE DATA PRE-PROCESSING"
   ]
  },
  {
   "cell_type": "code",
   "execution_count": 14,
   "id": "0109151e",
   "metadata": {},
   "outputs": [],
   "source": [
    "ex_npi = leie_ex[leie_ex[\"NPI\"]!=0][\"NPI\"]"
   ]
  },
  {
   "cell_type": "code",
   "execution_count": 15,
   "id": "7063b2d0",
   "metadata": {},
   "outputs": [],
   "source": [
    "ex_lnames = leie_ex.dropna(subset=[\"LASTNAME\"],axis=0)[\"LASTNAME\"]"
   ]
  },
  {
   "cell_type": "code",
   "execution_count": 16,
   "id": "49a2e2a9",
   "metadata": {},
   "outputs": [],
   "source": [
    "ex_fnames = leie_ex.dropna(subset=[\"FIRSTNAME\"],axis=0)[\"FIRSTNAME\"]"
   ]
  },
  {
   "cell_type": "code",
   "execution_count": 17,
   "id": "93660e97",
   "metadata": {},
   "outputs": [],
   "source": [
    "leie_ex[\"MIDNAME\"] = leie_ex[\"MIDNAME\"].apply(lambda row : row if row!= \" \" else 0)"
   ]
  },
  {
   "cell_type": "code",
   "execution_count": 18,
   "id": "2684f073",
   "metadata": {},
   "outputs": [],
   "source": [
    "ex_mi = leie_ex[leie_ex[\"MIDNAME\"]!=0][\"MIDNAME\"]"
   ]
  },
  {
   "cell_type": "markdown",
   "id": "59ba32fa",
   "metadata": {},
   "source": [
    "### GETTING ALL THE FRAUDELENT DATA"
   ]
  },
  {
   "cell_type": "code",
   "execution_count": null,
   "id": "04a9370d",
   "metadata": {},
   "outputs": [],
   "source": [
    "x = partd[\"PRSCRBR_NPI\"].size\n",
    "count = 0\n",
    "y =[];\n",
    "while (count < x):\n",
    "    chk = partd[\"PRSCRBR_NPI\"].iloc[count]\n",
    "    chk1 = partd[\"Prscrbr_First_Name\"].iloc[count]\n",
    "    chk2 = partd[\"Prscrbr_Last_Org_Name\"].iloc[count]\n",
    "    chk3 = partd[\"Prscrbr_MI\"].iloc[count]\n",
    "    if(chk in ex_npi.unique()):\n",
    "        y.append(1)\n",
    "    elif chk1 in ex_fnames.unique():\n",
    "         y.append(1)\n",
    "    elif chk2 in ex_lnames.unique():\n",
    "         y.append(1)\n",
    "    elif chk3 in ex_mi.unique():\n",
    "         y.append(1)   \n",
    "    else:\n",
    "        y.append(0)\n",
    "    count = count+1"
   ]
  },
  {
   "cell_type": "code",
   "execution_count": null,
   "id": "061c5e0b",
   "metadata": {},
   "outputs": [],
   "source": [
    "partdx = pd.DataFrame(y, columns =['Fraud'])"
   ]
  },
  {
   "cell_type": "code",
   "execution_count": null,
   "id": "9186fc88",
   "metadata": {},
   "outputs": [],
   "source": [
    "partdx.value_counts() "
   ]
  },
  {
   "cell_type": "code",
   "execution_count": null,
   "id": "4cf13eb2",
   "metadata": {},
   "outputs": [],
   "source": []
  }
 ],
 "metadata": {
  "kernelspec": {
   "display_name": "Python 3 (ipykernel)",
   "language": "python",
   "name": "python3"
  },
  "language_info": {
   "codemirror_mode": {
    "name": "ipython",
    "version": 3
   },
   "file_extension": ".py",
   "mimetype": "text/x-python",
   "name": "python",
   "nbconvert_exporter": "python",
   "pygments_lexer": "ipython3",
   "version": "3.10.8"
  }
 },
 "nbformat": 4,
 "nbformat_minor": 5
}
